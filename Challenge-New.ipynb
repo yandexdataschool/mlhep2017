{
 "cells": [
  {
   "cell_type": "code",
   "execution_count": 111,
   "metadata": {
    "collapsed": true
   },
   "outputs": [],
   "source": [
    "import numpy as np\n",
    "import pandas as pd\n",
    "\n",
    "from matplotlib import pyplot as plot\n",
    "from mpl_toolkits.mplot3d import Axes3D\n",
    "%matplotlib inline"
   ]
  },
  {
   "cell_type": "markdown",
   "metadata": {},
   "source": [
    "# Opening files"
   ]
  },
  {
   "cell_type": "code",
   "execution_count": 4,
   "metadata": {
    "scrolled": true
   },
   "outputs": [
    {
     "data": {
      "text/html": [
       "<div>\n",
       "<style>\n",
       "    .dataframe thead tr:only-child th {\n",
       "        text-align: right;\n",
       "    }\n",
       "\n",
       "    .dataframe thead th {\n",
       "        text-align: left;\n",
       "    }\n",
       "\n",
       "    .dataframe tbody tr th {\n",
       "        vertical-align: top;\n",
       "    }\n",
       "</style>\n",
       "<table border=\"1\" class=\"dataframe\">\n",
       "  <thead>\n",
       "    <tr style=\"text-align: right;\">\n",
       "      <th></th>\n",
       "      <th>event_id</th>\n",
       "      <th>X</th>\n",
       "      <th>Y</th>\n",
       "      <th>Z</th>\n",
       "      <th>TX</th>\n",
       "      <th>TY</th>\n",
       "      <th>chi2</th>\n",
       "      <th>signal</th>\n",
       "    </tr>\n",
       "    <tr>\n",
       "      <th>index</th>\n",
       "      <th></th>\n",
       "      <th></th>\n",
       "      <th></th>\n",
       "      <th></th>\n",
       "      <th></th>\n",
       "      <th></th>\n",
       "      <th></th>\n",
       "      <th></th>\n",
       "    </tr>\n",
       "  </thead>\n",
       "  <tbody>\n",
       "    <tr>\n",
       "      <th>0</th>\n",
       "      <td>-999</td>\n",
       "      <td>61300.121094</td>\n",
       "      <td>64934.265625</td>\n",
       "      <td>28446.0</td>\n",
       "      <td>0.286310</td>\n",
       "      <td>0.096968</td>\n",
       "      <td>1.195497</td>\n",
       "      <td>False</td>\n",
       "    </tr>\n",
       "    <tr>\n",
       "      <th>1</th>\n",
       "      <td>-999</td>\n",
       "      <td>49399.164062</td>\n",
       "      <td>63663.652344</td>\n",
       "      <td>54306.0</td>\n",
       "      <td>0.037705</td>\n",
       "      <td>0.097359</td>\n",
       "      <td>1.820736</td>\n",
       "      <td>False</td>\n",
       "    </tr>\n",
       "    <tr>\n",
       "      <th>2</th>\n",
       "      <td>-999</td>\n",
       "      <td>58955.164062</td>\n",
       "      <td>33590.734375</td>\n",
       "      <td>24567.0</td>\n",
       "      <td>0.421410</td>\n",
       "      <td>-0.039955</td>\n",
       "      <td>2.799580</td>\n",
       "      <td>False</td>\n",
       "    </tr>\n",
       "    <tr>\n",
       "      <th>3</th>\n",
       "      <td>-999</td>\n",
       "      <td>57421.613281</td>\n",
       "      <td>34333.390625</td>\n",
       "      <td>11637.0</td>\n",
       "      <td>0.118750</td>\n",
       "      <td>-0.498493</td>\n",
       "      <td>2.725356</td>\n",
       "      <td>False</td>\n",
       "    </tr>\n",
       "    <tr>\n",
       "      <th>4</th>\n",
       "      <td>-999</td>\n",
       "      <td>58730.507812</td>\n",
       "      <td>60918.179688</td>\n",
       "      <td>58185.0</td>\n",
       "      <td>-0.085305</td>\n",
       "      <td>0.078348</td>\n",
       "      <td>2.814739</td>\n",
       "      <td>False</td>\n",
       "    </tr>\n",
       "  </tbody>\n",
       "</table>\n",
       "</div>"
      ],
      "text/plain": [
       "       event_id             X             Y        Z        TX        TY  \\\n",
       "index                                                                      \n",
       "0          -999  61300.121094  64934.265625  28446.0  0.286310  0.096968   \n",
       "1          -999  49399.164062  63663.652344  54306.0  0.037705  0.097359   \n",
       "2          -999  58955.164062  33590.734375  24567.0  0.421410 -0.039955   \n",
       "3          -999  57421.613281  34333.390625  11637.0  0.118750 -0.498493   \n",
       "4          -999  58730.507812  60918.179688  58185.0 -0.085305  0.078348   \n",
       "\n",
       "           chi2  signal  \n",
       "index                    \n",
       "0      1.195497   False  \n",
       "1      1.820736   False  \n",
       "2      2.799580   False  \n",
       "3      2.725356   False  \n",
       "4      2.814739   False  "
      ]
     },
     "execution_count": 4,
     "metadata": {},
     "output_type": "execute_result"
    }
   ],
   "source": [
    "#On online version\n",
    "#df = pd.read_csv('/data_mlhep2017/episode1/DS_1_train.csv', index_col=0)\n",
    "\n",
    "#On my MAC\n",
    "df = pd.read_csv('../OPERA_competition_draft_train/DS_1_train.csv', index_col=0)\n",
    "edata = pd.read_csv('../OPERA_competition_draft_train/DS_1_electron_train.csv')\n",
    "df.head()"
   ]
  },
  {
   "cell_type": "code",
   "execution_count": 5,
   "metadata": {},
   "outputs": [
    {
     "data": {
      "text/html": [
       "<div>\n",
       "<style>\n",
       "    .dataframe thead tr:only-child th {\n",
       "        text-align: right;\n",
       "    }\n",
       "\n",
       "    .dataframe thead th {\n",
       "        text-align: left;\n",
       "    }\n",
       "\n",
       "    .dataframe tbody tr th {\n",
       "        vertical-align: top;\n",
       "    }\n",
       "</style>\n",
       "<table border=\"1\" class=\"dataframe\">\n",
       "  <thead>\n",
       "    <tr style=\"text-align: right;\">\n",
       "      <th></th>\n",
       "      <th>index</th>\n",
       "      <th>event_id</th>\n",
       "      <th>P</th>\n",
       "      <th>X</th>\n",
       "      <th>Y</th>\n",
       "      <th>Z</th>\n",
       "      <th>TX</th>\n",
       "      <th>TY</th>\n",
       "    </tr>\n",
       "  </thead>\n",
       "  <tbody>\n",
       "    <tr>\n",
       "      <th>0</th>\n",
       "      <td>0</td>\n",
       "      <td>2573</td>\n",
       "      <td>4.751912</td>\n",
       "      <td>39813.222656</td>\n",
       "      <td>16733.853516</td>\n",
       "      <td>37461.781250</td>\n",
       "      <td>0.080777</td>\n",
       "      <td>0.067206</td>\n",
       "    </tr>\n",
       "    <tr>\n",
       "      <th>1</th>\n",
       "      <td>1</td>\n",
       "      <td>5435</td>\n",
       "      <td>11.581161</td>\n",
       "      <td>49247.546875</td>\n",
       "      <td>66064.312500</td>\n",
       "      <td>27072.914062</td>\n",
       "      <td>-0.124120</td>\n",
       "      <td>0.004981</td>\n",
       "    </tr>\n",
       "    <tr>\n",
       "      <th>2</th>\n",
       "      <td>2</td>\n",
       "      <td>4110</td>\n",
       "      <td>4.723818</td>\n",
       "      <td>40268.484375</td>\n",
       "      <td>15453.179688</td>\n",
       "      <td>8178.457031</td>\n",
       "      <td>0.037599</td>\n",
       "      <td>0.175117</td>\n",
       "    </tr>\n",
       "    <tr>\n",
       "      <th>3</th>\n",
       "      <td>3</td>\n",
       "      <td>6421</td>\n",
       "      <td>5.161797</td>\n",
       "      <td>40988.937500</td>\n",
       "      <td>42040.226562</td>\n",
       "      <td>21976.783203</td>\n",
       "      <td>-0.053018</td>\n",
       "      <td>-0.021330</td>\n",
       "    </tr>\n",
       "    <tr>\n",
       "      <th>4</th>\n",
       "      <td>4</td>\n",
       "      <td>9112</td>\n",
       "      <td>4.461930</td>\n",
       "      <td>42774.335938</td>\n",
       "      <td>35231.640625</td>\n",
       "      <td>15610.662109</td>\n",
       "      <td>-0.144262</td>\n",
       "      <td>0.159017</td>\n",
       "    </tr>\n",
       "  </tbody>\n",
       "</table>\n",
       "</div>"
      ],
      "text/plain": [
       "   index  event_id          P             X             Y             Z  \\\n",
       "0      0      2573   4.751912  39813.222656  16733.853516  37461.781250   \n",
       "1      1      5435  11.581161  49247.546875  66064.312500  27072.914062   \n",
       "2      2      4110   4.723818  40268.484375  15453.179688   8178.457031   \n",
       "3      3      6421   5.161797  40988.937500  42040.226562  21976.783203   \n",
       "4      4      9112   4.461930  42774.335938  35231.640625  15610.662109   \n",
       "\n",
       "         TX        TY  \n",
       "0  0.080777  0.067206  \n",
       "1 -0.124120  0.004981  \n",
       "2  0.037599  0.175117  \n",
       "3 -0.053018 -0.021330  \n",
       "4 -0.144262  0.159017  "
      ]
     },
     "execution_count": 5,
     "metadata": {},
     "output_type": "execute_result"
    }
   ],
   "source": [
    "edata.head()"
   ]
  },
  {
   "cell_type": "markdown",
   "metadata": {},
   "source": [
    "# Ordering the files by Z"
   ]
  },
  {
   "cell_type": "code",
   "execution_count": 18,
   "metadata": {},
   "outputs": [
    {
     "name": "stdout",
     "output_type": "stream",
     "text": [
      "         event_id             X             Y       Z        TX        TY  \\\n",
      "index                                                                       \n",
      "1218777      -999  31534.365234  38999.617188  2586.0  0.314918 -0.042039   \n",
      "1757055      -999  35936.109375  35514.851562  2586.0 -0.127902  0.057180   \n",
      "190604       -999  53047.664062  65176.546875  2586.0 -0.043155 -0.057980   \n",
      "2570490      -999  56963.757812  54584.421875  2586.0 -0.014621  0.238039   \n",
      "1022997      -999  44988.484375  49598.718750  2586.0 -0.176693 -0.039658   \n",
      "2767893      -999  63002.500000  51954.195312  2586.0  0.162277  0.117746   \n",
      "2182888      -999  52160.628906  71229.656250  2586.0 -0.354688  0.049665   \n",
      "13536        -999  60774.476562  51638.742188  2586.0 -0.165904 -0.130227   \n",
      "1536659      -999  40192.316406  76067.578125  2586.0  0.316443 -0.021540   \n",
      "1240776      -999  54029.382812  54941.335938  2586.0 -0.269624 -0.579148   \n",
      "\n",
      "             chi2  signal  \n",
      "index                      \n",
      "1218777  2.423497   False  \n",
      "1757055  2.369020   False  \n",
      "190604   2.282372   False  \n",
      "2570490  1.515122   False  \n",
      "1022997  2.624574   False  \n",
      "2767893  2.535905   False  \n",
      "2182888  2.488189   False  \n",
      "13536    2.883679   False  \n",
      "1536659  2.237872   False  \n",
      "1240776  2.897580   False  \n",
      "    index  event_id          P             X             Y             Z  \\\n",
      "95     95      6379   4.908444  61581.230469  56746.187500   1610.210938   \n",
      "49     49      7912   4.887714  45663.402344  26191.689453   2879.476562   \n",
      "65     65      5769   5.561945  57816.867188  61231.113281   2879.714844   \n",
      "6       6      4591   6.155734  47030.628906  31481.748047   2880.687500   \n",
      "34     34      6210   3.887639  46229.281250  26340.458984   2883.746094   \n",
      "62     62      2016   7.906490  54264.792969  51997.156250   2884.355469   \n",
      "78     78      9111   4.195238  48146.671875  56526.242188   3087.496094   \n",
      "97     97       873   4.163773  58946.589844  25489.738281   4157.355469   \n",
      "17     17      3977   8.533427  46405.054688  52360.859375   5427.064453   \n",
      "42     42      7341   6.961802  48035.785156  46070.984375   5428.152344   \n",
      "99     99      2322   8.302976  39306.320312  48331.292969   5429.660156   \n",
      "82     82      4194   7.373008  50119.769531  46822.773438   5430.445312   \n",
      "29     29      7042   1.107901  43300.562500  26618.783203   5632.994141   \n",
      "33     33      9553   5.324803  57617.570312  33348.746094   6699.910156   \n",
      "73     73      5240  15.070691  45026.960938  64254.148438   6700.929688   \n",
      "10     10       705  14.947838  55893.011719  56512.023438   7975.564453   \n",
      "30     30      2273   4.390428  41067.464844  44967.066406   7975.841797   \n",
      "2       2      4110   4.723818  40268.484375  15453.179688   8178.457031   \n",
      "68     68      8058   6.562771  43470.105469  38475.640625   9248.646484   \n",
      "26     26      4327   2.114547  40046.976562  30535.730469  10520.304688   \n",
      "47     47      8911   4.958010  39218.859375  55753.515625  10524.103516   \n",
      "45     45      9443   2.099004  53273.546875  35934.363281  10723.843750   \n",
      "14     14      8824   3.301038  51396.113281  57260.195312  11793.123047   \n",
      "58     58      2266   6.046733  61308.144531  13711.841797  11794.611328   \n",
      "54     54       443   9.424229  39103.667969  28531.500000  13064.072266   \n",
      "31     31      5212   1.685419  57943.144531  64075.070312  13067.841797   \n",
      "18     18      5516   4.981215  42735.675781  31140.367188  13069.394531   \n",
      "39     39      1682   1.641166  43562.128906  35081.742188  14338.970703   \n",
      "79     79      4949   9.183078  42593.199219  43068.246094  14340.914062   \n",
      "64     64      3568  11.525627  46518.191406  42497.203125  14341.169922   \n",
      "..    ...       ...        ...           ...           ...           ...   \n",
      "8       8      6174   6.374466  39565.863281  33927.718750  28345.142578   \n",
      "77     77      3507   9.603010  46958.324219  53915.765625  28550.533203   \n",
      "35     35      1782   1.782268  43392.980469  35617.773438  29613.476562   \n",
      "83     83       677   2.519514  48570.609375  49387.277344  29613.511719   \n",
      "40     40      4663  11.415328  48228.664062  34236.660156  29613.570312   \n",
      "43     43      1662   3.313920  55381.312500  52852.363281  29616.632812   \n",
      "63     63      5495  14.396456  41954.238281  21250.308594  30889.267578   \n",
      "27     27      4611   5.109687  59369.710938  46325.703125  30890.015625   \n",
      "52     52      6471   8.394773  39844.164062  52094.632812  30890.998047   \n",
      "25     25      7417   9.044942  62125.964844  62543.906250  31093.457031   \n",
      "81     81      7569   5.801834  41160.769531  24897.103516  32159.689453   \n",
      "76     76      4509  11.219978  38126.320312  39407.097656  32161.271484   \n",
      "87     87      9316   1.908130  56357.914062  66428.765625  32163.451172   \n",
      "21     21       946   8.744118  60517.464844  56964.507812  32364.031250   \n",
      "91     91       135   2.186306  58094.703125  38122.855469  33436.335938   \n",
      "92     92       288   1.619295  56731.007812  21426.865234  33640.750000   \n",
      "38     38      3865   3.826175  50261.902344  32268.695312  34708.667969   \n",
      "20     20      4144   9.144979  54115.761719  48412.359375  34709.343750   \n",
      "74     74      6689   2.279643  46361.207031  58768.609375  34710.882812   \n",
      "61     61      8070   4.318019  52436.339844  63013.492188  35980.597656   \n",
      "84     84      1751  83.654533  58036.292969  19061.060547  35981.039062   \n",
      "85     85       321   1.946248  58661.328125  65262.843750  37251.636719   \n",
      "67     67      3735   2.744508  43602.769531  40914.093750  37251.980469   \n",
      "36     36      5612   4.393655  45807.152344  44020.355469  37253.183594   \n",
      "69     69      5024   9.206349  50413.117188  37715.398438  37254.066406   \n",
      "41     41      1228   1.190468  44075.394531  38674.507812  37254.746094   \n",
      "16     16      8057   7.029825  58690.929688  63056.796875  37254.941406   \n",
      "55     55      3187  11.620140  57554.343750  58774.535156  37255.507812   \n",
      "89     89      4577   8.545272  43026.281250  49774.269531  37258.589844   \n",
      "0       0      2573   4.751912  39813.222656  16733.853516  37461.781250   \n",
      "\n",
      "          TX        TY  \n",
      "95 -0.022151  0.004860  \n",
      "49  0.084916  0.120731  \n",
      "65  0.011183 -0.008571  \n",
      "6  -0.108520 -0.143507  \n",
      "34 -0.028774  0.006321  \n",
      "62  0.038235  0.093335  \n",
      "78 -0.031963 -0.022169  \n",
      "97  0.011678  0.015996  \n",
      "17  0.050361 -0.063720  \n",
      "42  0.000988  0.092784  \n",
      "99  0.075321  0.096394  \n",
      "82 -0.016100  0.000410  \n",
      "29 -0.204757  0.083239  \n",
      "33 -0.168620  0.085737  \n",
      "73 -0.020935  0.036787  \n",
      "10  0.069263 -0.047085  \n",
      "30 -0.000144  0.157034  \n",
      "2   0.037599  0.175117  \n",
      "68 -0.012832  0.047782  \n",
      "26 -0.081171  0.182462  \n",
      "47 -0.026020  0.261858  \n",
      "45 -0.063730  0.058409  \n",
      "14  0.097391 -0.169161  \n",
      "58 -0.150151  0.190669  \n",
      "54  0.070353  0.025257  \n",
      "31 -0.162653  0.048326  \n",
      "18  0.047925  0.141406  \n",
      "39  0.260618 -0.192260  \n",
      "79  0.104460  0.026675  \n",
      "64 -0.054991  0.084372  \n",
      "..       ...       ...  \n",
      "8  -0.065849  0.130511  \n",
      "77 -0.117982  0.096910  \n",
      "35 -0.095553 -0.328452  \n",
      "83  0.159734  0.010918  \n",
      "40 -0.056123  0.178966  \n",
      "43 -0.029556  0.094907  \n",
      "63 -0.061798  0.047023  \n",
      "27  0.145445  0.332687  \n",
      "52 -0.034315  0.124196  \n",
      "25 -0.070741  0.033057  \n",
      "81  0.015848 -0.054507  \n",
      "76  0.043692  0.036248  \n",
      "87  0.109467  0.104113  \n",
      "21 -0.076685 -0.044387  \n",
      "91 -0.086441  0.248904  \n",
      "92 -0.103451 -0.190375  \n",
      "38  0.012087 -0.218603  \n",
      "20  0.049499  0.105116  \n",
      "74  0.123900 -0.129218  \n",
      "61  0.059228 -0.006887  \n",
      "84 -0.028799  0.083718  \n",
      "85 -0.062865 -0.089604  \n",
      "67 -0.093850 -0.047771  \n",
      "36  0.158231  0.075119  \n",
      "69  0.006465 -0.072830  \n",
      "41  0.185747  0.155739  \n",
      "16  0.072816 -0.089955  \n",
      "55  0.017452 -0.068856  \n",
      "89 -0.017997  0.062761  \n",
      "0   0.080777  0.067206  \n",
      "\n",
      "[100 rows x 8 columns]\n"
     ]
    }
   ],
   "source": [
    "df_sorted = df.sort_values('Z')\n",
    "edata_sorted=edata.sort_values(\"Z\")\n",
    "print(df_sorted[100000:100010])\n",
    "print(edata_sorted)"
   ]
  },
  {
   "cell_type": "markdown",
   "metadata": {},
   "source": [
    "# Creating some functions"
   ]
  },
  {
   "cell_type": "code",
   "execution_count": 143,
   "metadata": {
    "collapsed": true
   },
   "outputs": [],
   "source": [
    "def distance3D(x1,y1,z1,x2,y2,z2):\n",
    "    return np.sqrt((x1-x2)**2+(y1-y2)**2+(z1-z2)**2)\n",
    "def distance2D(x1,y1,x2,y2):\n",
    "    return np.sqrt((x1-x2)**2+(y1-y2)**2)\n",
    "def e_projection(x,theta,Dplate):\n",
    "    return x+theta*Dplate*1293\n",
    "def projection(x,theta,DZ):\n",
    "    return x+theta*DZ\n",
    "def ComputeIP(p_xBT,p_yBT,x0,y0):\n",
    "    return distance2D(p_xBT,p_yBT,x0,y0)\n",
    "def plate(z):\n",
    "    return (z/1293)"
   ]
  },
  {
   "cell_type": "markdown",
   "metadata": {},
   "source": [
    "# Adding plate to datasets"
   ]
  },
  {
   "cell_type": "code",
   "execution_count": 141,
   "metadata": {
    "collapsed": true
   },
   "outputs": [],
   "source": [
    "e_plt = pd.Series(plate(edata_sorted['Z']).astype(int))\n",
    "edata_sorted = edata_sorted.assign(e_plt=e_plt.values)\n",
    "#print(plt)\n",
    "\n",
    "df_plt=pd.Series(plate(df_sorted['Z']))\n",
    "df_sorted = df_sorted.assign(df_plt=df_plt.values)\n",
    "#print(df_sorted[100000:100010])"
   ]
  },
  {
   "cell_type": "markdown",
   "metadata": {},
   "source": [
    "# Selecting BT in cone around electron"
   ]
  },
  {
   "cell_type": "code",
   "execution_count": 319,
   "metadata": {
    "scrolled": false
   },
   "outputs": [
    {
     "data": {
      "image/png": "[encoded data removed]",
      "text/plain": [
       "<matplotlib.figure.Figure at 0x114811490>"
      ]
     },
     "metadata": {},
     "output_type": "display_data"
    },
    {
     "data": {
      "image/png": "[encoded data removed]",
      "text/plain": [
       "<matplotlib.figure.Figure at 0x17c347790>"
      ]
     },
     "metadata": {},
     "output_type": "display_data"
    }
   ],
   "source": [
    "train_df = np.array([])\n",
    "#train_db = np.array([])\n",
    "for i in range(len(edata_sorted)):\n",
    "    df_sorted_zcut = df_sorted[df_sorted['Z']>edata_sorted['Z'][i]]\n",
    "    #df_sorted_zcut = df_sorted\n",
    "    xe = e_projection(edata_sorted['X'][i],edata_sorted['TX'][i],df_sorted_zcut['df_plt']-edata_sorted['e_plt'][i])\n",
    "    ye = e_projection(edata_sorted['Y'][i],edata_sorted['TY'][i],df_sorted_zcut['df_plt']-edata_sorted['e_plt'][i])\n",
    "    ze = df_sorted_zcut['Z']\n",
    "    dist = distance3D(xe,ye,ze,edata_sorted['X'][i],edata_sorted['Y'][i],edata_sorted['Z'][i])\n",
    "    R = np.tan(0.05)*dist\n",
    "    #print(R)\n",
    "    d = distance2D(df_sorted_zcut['X'],df_sorted_zcut['Y'],xe,ye)\n",
    "    #print(dist)\n",
    "    #BT_Theta = np.sqrt(pow(df_sorted_zcut['TX'],2)+pow(df_sorted_zcut['TY'],2))\n",
    "    sel_BT = df_sorted_zcut[d<R]\n",
    "    #sel_BT = df_sorted_zcut\n",
    "    #print(df_sorted.shape,df_sorted_zcut.shape,sel_BT.shape)\n",
    "    if i==1:\n",
    "        fig, ax = plot.subplots()\n",
    "        ax.scatter(sel_BT[\"X\"],sel_BT[\"Z\"])\n",
    "        plot.show()\n",
    "        fig1 = plot.figure()\n",
    "        ax1 = fig1.add_subplot(111, projection='3d')\n",
    "        ax1.scatter(sel_BT[\"X\"],sel_BT[\"Y\"],sel_BT[\"Z\"])\n",
    "    #sel_BT.append(df_sorted_zcut[(BT_Theta - e_Theta)*1000 < 50])\n",
    "    DSX = pd.Series(sel_BT['TX']-edata_sorted['TX'][i])\n",
    "    sel_BT = sel_BT.assign(DSX = DSX.values)\n",
    "    DSY = pd.Series(sel_BT['TY']-edata_sorted['TY'][i])\n",
    "    sel_BT = sel_BT.assign(DSY = DSY.values)\n",
    "    p_xBT = projection(sel_BT['X'],sel_BT['TX'],sel_BT['Z']-edata_sorted['Z'][i])\n",
    "    p_yBT = projection(sel_BT['Y'],sel_BT['TY'],sel_BT['Z']-edata_sorted['Z'][i])\n",
    "    IP = pd.Series(ComputeIP(p_xBT,p_yBT,edata_sorted['X'][i],edata_sorted['Y'][i]))\n",
    "    sel_BT = sel_BT.assign(IP = IP.values)\n",
    "    xe1 = e_projection(edata_sorted['X'][i],edata_sorted['TX'][i],sel_BT['df_plt']-edata_sorted['e_plt'][i])\n",
    "    ye1 = e_projection(edata_sorted['Y'][i],edata_sorted['TY'][i],sel_BT['df_plt']-edata_sorted['e_plt'][i])\n",
    "    ze1 = sel_BT['Z']\n",
    "    dist1 = distance3D(xe1,ye1,ze1,edata_sorted['X'][i],edata_sorted['Y'][i],edata_sorted['Z'][i])\n",
    "    alpha = pd.Series(np.arctan(distance2D(sel_BT['X'],sel_BT['Y'],xe1,ye1)/dist1))\n",
    "    sel_BT = sel_BT.assign(alpha = alpha.values)\n",
    "    train_df=np.append(train_df,sel_BT.values[:, 6:13])\n",
    "    train_db = np.concatenate(sel_BT.values[:, 6:13])\n",
    "    #if i==0:\n",
    "     #   print(sel_BT[0:10])\n",
    "\n",
    "#np.reshape(train_df,[-1,10])\n",
    "#train_db = pd.DataFrame({'chi2':train_df[:,0],'signal':train_df[:,0],'IP':train_df[:,12]})\n"
   ]
  },
  {
   "cell_type": "code",
   "execution_count": 320,
   "metadata": {},
   "outputs": [],
   "source": [
    "train_df=train_df.reshape(train_df.size/7,7)"
   ]
  },
  {
   "cell_type": "markdown",
   "metadata": {},
   "source": [
    "### Build a train dataset\n",
    "Ideally, you could design features here that improve model performance. \n",
    "\n",
    "Baseline, however, simply takes some of the features while also balansing classes."
   ]
  },
  {
   "cell_type": "code",
   "execution_count": null,
   "metadata": {},
   "outputs": [],
   "source": [
    "print(df[df.signal==True])"
   ]
  },
  {
   "cell_type": "code",
   "execution_count": null,
   "metadata": {
    "scrolled": false
   },
   "outputs": [],
   "source": [
    "print(df[df.signal==False])"
   ]
  },
  {
   "cell_type": "markdown",
   "metadata": {},
   "source": [
    "### Train a model"
   ]
  },
  {
   "cell_type": "code",
   "execution_count": 357,
   "metadata": {},
   "outputs": [
    {
     "data": {
      "text/plain": [
       "RandomForestClassifier(bootstrap=True, class_weight=None, criterion='gini',\n",
       "            max_depth=7, max_features='auto', max_leaf_nodes=None,\n",
       "            min_impurity_split=1e-07, min_samples_leaf=3,\n",
       "            min_samples_split=2, min_weight_fraction_leaf=0.0,\n",
       "            n_estimators=10, n_jobs=1, oob_score=False, random_state=None,\n",
       "            verbose=0, warm_start=False)"
      ]
     },
     "execution_count": 357,
     "metadata": {},
     "output_type": "execute_result"
    }
   ],
   "source": [
    "#from sklearn.tree import DecisionTreeClassifier\n",
    "#clf = DecisionTreeClassifier(max_depth = 7)\n",
    "\n",
    "from sklearn.ensemble import RandomForestClassifier\n",
    "clf = RandomForestClassifier(max_depth=7,min_samples_leaf=3)\n",
    "clf.fit(X_train,y_train)\n",
    "\n",
    "#to define best classifier, look at accuracy or ROC curve\n"
   ]
  },
  {
   "cell_type": "markdown",
   "metadata": {},
   "source": [
    "### Prediction"
   ]
  },
  {
   "cell_type": "code",
   "execution_count": 343,
   "metadata": {},
   "outputs": [
    {
     "data": {
      "text/html": [
       "<div>\n",
       "<style>\n",
       "    .dataframe thead tr:only-child th {\n",
       "        text-align: right;\n",
       "    }\n",
       "\n",
       "    .dataframe thead th {\n",
       "        text-align: left;\n",
       "    }\n",
       "\n",
       "    .dataframe tbody tr th {\n",
       "        vertical-align: top;\n",
       "    }\n",
       "</style>\n",
       "<table border=\"1\" class=\"dataframe\">\n",
       "  <thead>\n",
       "    <tr style=\"text-align: right;\">\n",
       "      <th></th>\n",
       "      <th>X</th>\n",
       "      <th>Y</th>\n",
       "      <th>Z</th>\n",
       "      <th>TX</th>\n",
       "      <th>TY</th>\n",
       "      <th>chi2</th>\n",
       "    </tr>\n",
       "    <tr>\n",
       "      <th>index</th>\n",
       "      <th></th>\n",
       "      <th></th>\n",
       "      <th></th>\n",
       "      <th></th>\n",
       "      <th></th>\n",
       "      <th></th>\n",
       "    </tr>\n",
       "  </thead>\n",
       "  <tbody>\n",
       "    <tr>\n",
       "      <th>0</th>\n",
       "      <td>37259.390625</td>\n",
       "      <td>62516.367188</td>\n",
       "      <td>63357.0</td>\n",
       "      <td>-0.475465</td>\n",
       "      <td>-0.250186</td>\n",
       "      <td>1.405402</td>\n",
       "    </tr>\n",
       "    <tr>\n",
       "      <th>1</th>\n",
       "      <td>41426.312500</td>\n",
       "      <td>57520.265625</td>\n",
       "      <td>25860.0</td>\n",
       "      <td>-0.213876</td>\n",
       "      <td>0.155208</td>\n",
       "      <td>2.541856</td>\n",
       "    </tr>\n",
       "    <tr>\n",
       "      <th>2</th>\n",
       "      <td>40752.921875</td>\n",
       "      <td>54653.265625</td>\n",
       "      <td>46548.0</td>\n",
       "      <td>0.044215</td>\n",
       "      <td>-0.333426</td>\n",
       "      <td>2.389629</td>\n",
       "    </tr>\n",
       "    <tr>\n",
       "      <th>3</th>\n",
       "      <td>29293.980469</td>\n",
       "      <td>23582.425781</td>\n",
       "      <td>14223.0</td>\n",
       "      <td>-0.265671</td>\n",
       "      <td>-0.137444</td>\n",
       "      <td>2.402328</td>\n",
       "    </tr>\n",
       "    <tr>\n",
       "      <th>4</th>\n",
       "      <td>49538.128906</td>\n",
       "      <td>63314.617188</td>\n",
       "      <td>31032.0</td>\n",
       "      <td>-0.063467</td>\n",
       "      <td>-0.550298</td>\n",
       "      <td>1.223460</td>\n",
       "    </tr>\n",
       "  </tbody>\n",
       "</table>\n",
       "</div>"
      ],
      "text/plain": [
       "                  X             Y        Z        TX        TY      chi2\n",
       "index                                                                   \n",
       "0      37259.390625  62516.367188  63357.0 -0.475465 -0.250186  1.405402\n",
       "1      41426.312500  57520.265625  25860.0 -0.213876  0.155208  2.541856\n",
       "2      40752.921875  54653.265625  46548.0  0.044215 -0.333426  2.389629\n",
       "3      29293.980469  23582.425781  14223.0 -0.265671 -0.137444  2.402328\n",
       "4      49538.128906  63314.617188  31032.0 -0.063467 -0.550298  1.223460"
      ]
     },
     "execution_count": 343,
     "metadata": {},
     "output_type": "execute_result"
    }
   ],
   "source": [
    "df_test = pd.read_csv('../OPERA_competition_draft_train/DS_1_test.csv', index_col=0)\n",
    "edata_test = pd.read_csv('../OPERA_competition_draft_train/DS_1_electron_test.csv')\n",
    "df_test.head()"
   ]
  },
  {
   "cell_type": "code",
   "execution_count": 344,
   "metadata": {},
   "outputs": [
    {
     "data": {
      "text/html": [
       "<div>\n",
       "<style>\n",
       "    .dataframe thead tr:only-child th {\n",
       "        text-align: right;\n",
       "    }\n",
       "\n",
       "    .dataframe thead th {\n",
       "        text-align: left;\n",
       "    }\n",
       "\n",
       "    .dataframe tbody tr th {\n",
       "        vertical-align: top;\n",
       "    }\n",
       "</style>\n",
       "<table border=\"1\" class=\"dataframe\">\n",
       "  <thead>\n",
       "    <tr style=\"text-align: right;\">\n",
       "      <th></th>\n",
       "      <th>X</th>\n",
       "      <th>Y</th>\n",
       "      <th>Z</th>\n",
       "      <th>TX</th>\n",
       "      <th>TY</th>\n",
       "    </tr>\n",
       "  </thead>\n",
       "  <tbody>\n",
       "    <tr>\n",
       "      <th>0</th>\n",
       "      <td>46654.187500</td>\n",
       "      <td>59809.707031</td>\n",
       "      <td>20703.253906</td>\n",
       "      <td>-0.022536</td>\n",
       "      <td>0.031416</td>\n",
       "    </tr>\n",
       "    <tr>\n",
       "      <th>1</th>\n",
       "      <td>40420.898438</td>\n",
       "      <td>22858.601562</td>\n",
       "      <td>13067.279297</td>\n",
       "      <td>-0.019237</td>\n",
       "      <td>0.032119</td>\n",
       "    </tr>\n",
       "    <tr>\n",
       "      <th>2</th>\n",
       "      <td>46282.644531</td>\n",
       "      <td>11399.347656</td>\n",
       "      <td>32160.285156</td>\n",
       "      <td>-0.062326</td>\n",
       "      <td>-0.026023</td>\n",
       "    </tr>\n",
       "    <tr>\n",
       "      <th>3</th>\n",
       "      <td>54976.289062</td>\n",
       "      <td>45914.261719</td>\n",
       "      <td>20705.671875</td>\n",
       "      <td>-0.176683</td>\n",
       "      <td>0.145312</td>\n",
       "    </tr>\n",
       "    <tr>\n",
       "      <th>4</th>\n",
       "      <td>48062.531250</td>\n",
       "      <td>38878.863281</td>\n",
       "      <td>13068.060547</td>\n",
       "      <td>0.132127</td>\n",
       "      <td>0.215309</td>\n",
       "    </tr>\n",
       "  </tbody>\n",
       "</table>\n",
       "</div>"
      ],
      "text/plain": [
       "              X             Y             Z        TX        TY\n",
       "0  46654.187500  59809.707031  20703.253906 -0.022536  0.031416\n",
       "1  40420.898438  22858.601562  13067.279297 -0.019237  0.032119\n",
       "2  46282.644531  11399.347656  32160.285156 -0.062326 -0.026023\n",
       "3  54976.289062  45914.261719  20705.671875 -0.176683  0.145312\n",
       "4  48062.531250  38878.863281  13068.060547  0.132127  0.215309"
      ]
     },
     "execution_count": 344,
     "metadata": {},
     "output_type": "execute_result"
    }
   ],
   "source": [
    "edata_test.head()"
   ]
  },
  {
   "cell_type": "code",
   "execution_count": 345,
   "metadata": {},
   "outputs": [],
   "source": [
    "e_plt = pd.Series(plate(edata_test['Z']).astype(int))\n",
    "edata_test = edata_test.assign(e_plt=e_plt.values)\n",
    "#print(plt)\n",
    "\n",
    "df_plt=pd.Series(plate(df_test['Z']))\n",
    "df_test = df_test.assign(df_plt=df_plt.values)"
   ]
  },
  {
   "cell_type": "code",
   "execution_count": 346,
   "metadata": {},
   "outputs": [
    {
     "name": "stdout",
     "output_type": "stream",
     "text": [
      "[  1.40540183e+00   4.90000000e+01  -4.52928545e-01 ...,  -5.12078144e-02\n",
      "   2.21472724e+04   3.65328969e-01]\n"
     ]
    }
   ],
   "source": [
    "test_df = np.array([])\n",
    "for i in range(len(edata_test)/100):\n",
    "    #df_test_zcut = df_test[df_test['Z']>edata_test['Z'][i]]\n",
    "    df_test_zcut = df_test\n",
    "    xe = e_projection(edata_test['X'][i],edata_test['TX'][i],df_test_zcut['df_plt']-edata_test['e_plt'][i])\n",
    "    ye = e_projection(edata_test['Y'][i],edata_test['TY'][i],df_test_zcut['df_plt']-edata_test['e_plt'][i])\n",
    "    ze = df_test_zcut['Z']\n",
    "    dist = distance3D(xe,ye,ze,edata_test['X'][i],edata_test['Y'][i],edata_test['Z'][i])\n",
    "    R = np.tan(0.05)*dist\n",
    "    #print(R)\n",
    "    d = distance2D(df_test_zcut['X'],df_test_zcut['Y'],xe,ye)\n",
    "    #print(dist)\n",
    "    #BT_Theta = np.sqrt(pow(df_test_zcut['TX'],2)+pow(df_test_zcut['TY'],2))\n",
    "    #sel_BT_test = df_test_zcut[d<R]\n",
    "    sel_BT_test = df_test_zcut\n",
    "    #print(df_test.shape,df_test_zcut.shape,sel_BT.shape)\n",
    "    #if i==1:\n",
    "        #fig, ax = plot.subplots()\n",
    "        #ax.scatter(sel_BT[\"X\"],sel_BT[\"Z\"])\n",
    "        #plot.show()\n",
    "        #fig1 = plot.figure()\n",
    "        #ax1 = fig1.add_subplot(111, projection='3d')\n",
    "        #ax1.scatter(sel_BT[\"X\"],sel_BT[\"Y\"],sel_BT[\"Z\"])\n",
    "    #sel_BT.append(df_test_zcut[(BT_Theta - e_Theta)*1000 < 50])\n",
    "    DSX = pd.Series(sel_BT_test['TX']-edata_test['TX'][i])\n",
    "    sel_BT_test= sel_BT_test.assign(DSX = DSX.values)\n",
    "    DSY = pd.Series(sel_BT_test['TY']-edata_test['TY'][i])\n",
    "    sel_BT_test= sel_BT_test.assign(DSY = DSY.values)\n",
    "    p_xBT = projection(sel_BT_test['X'],sel_BT_test['TX'],sel_BT_test['Z']-edata_test['Z'][i])\n",
    "    p_yBT = projection(sel_BT_test['Y'],sel_BT_test['TY'],sel_BT_test['Z']-edata_test['Z'][i])\n",
    "    IP = pd.Series(ComputeIP(p_xBT,p_yBT,edata_test['X'][i],edata_test['Y'][i]))\n",
    "    sel_BT_test= sel_BT_test.assign(IP = IP.values)\n",
    "    xe1 = e_projection(edata_test['X'][i],edata_test['TX'][i],sel_BT_test['df_plt']-edata_test['e_plt'][i])\n",
    "    ye1 = e_projection(edata_test['Y'][i],edata_test['TY'][i],sel_BT_test['df_plt']-edata_test['e_plt'][i])\n",
    "    ze1 = sel_BT_test['Z']\n",
    "    dist1 = distance3D(xe1,ye1,ze1,edata_test['X'][i],edata_test['Y'][i],edata_test['Z'][i])\n",
    "    alpha = pd.Series(np.arctan(distance2D(sel_BT_test['X'],sel_BT_test['Y'],xe1,ye1)/dist1))\n",
    "    sel_BT_test= sel_BT_test.assign(alpha = alpha.values)\n",
    "    test_df=np.append(test_df,sel_BT_test.values[:, 5:12])\n",
    "\n",
    "print(test_df)"
   ]
  },
  {
   "cell_type": "code",
   "execution_count": 347,
   "metadata": {},
   "outputs": [],
   "source": [
    "test_df=test_df.reshape(test_df.size/6,6)"
   ]
  },
  {
   "cell_type": "code",
   "execution_count": 358,
   "metadata": {},
   "outputs": [],
   "source": [
    "X_test = test_df[:,0].reshape(-1,1)\n",
    "X_test = np.append(X_test, test_df[:,2:6], axis=1)\n",
    "\n",
    "#print(X_train)\n"
   ]
  },
  {
   "cell_type": "code",
   "execution_count": 359,
   "metadata": {},
   "outputs": [
    {
     "name": "stdout",
     "output_type": "stream",
     "text": [
      "(1126099,)\n"
     ]
    }
   ],
   "source": [
    "#prediction = clf.predict_proba(X_test.values[:, 0:5].reshape(-1, 1))[:, 1]\n",
    "#prediction = clf.predict_proba(X_test.reshape(-1,5))[:, 1]\n",
    "prediction = clf.predict_proba(X_test)[:, 1]\n",
    "print(prediction.shape)"
   ]
  },
  {
   "cell_type": "markdown",
   "metadata": {},
   "source": [
    "### Save results"
   ]
  },
  {
   "cell_type": "code",
   "execution_count": 360,
   "metadata": {
    "collapsed": true
   },
   "outputs": [],
   "source": [
    "baseline = pd.DataFrame(prediction, columns=['Prediction'])\n",
    "baseline.index.name = 'Id'\n",
    "baseline.to_csv('Mybaseline_1.csv', header=True)"
   ]
  },
  {
   "cell_type": "markdown",
   "metadata": {},
   "source": [
    "You can now download the baseline.csv in jupyter file browser and send it to Kaggle."
   ]
  }
 ],
 "metadata": {
  "anaconda-cloud": {},
  "kernelspec": {
   "display_name": "Python 2",
   "language": "python",
   "name": "python2"
  },
  "language_info": {
   "codemirror_mode": {
    "name": "ipython",
    "version": 2
   },
   "file_extension": ".py",
   "mimetype": "text/x-python",
   "name": "python",
   "nbconvert_exporter": "python",
   "pygments_lexer": "ipython2",
   "version": "2.7.13"
  }
 },
 "nbformat": 4,
 "nbformat_minor": 1
}
