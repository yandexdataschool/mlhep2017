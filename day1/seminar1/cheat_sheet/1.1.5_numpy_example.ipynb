{
 "cells": [
  {
   "cell_type": "markdown",
   "metadata": {
    "slideshow": {
     "slide_type": "slide"
    }
   },
   "source": [
    "# NumPy Exercises\n",
    "due to Petr Romov"
   ]
  },
  {
   "cell_type": "code",
   "execution_count": 1,
   "metadata": {
    "collapsed": true,
    "slideshow": {
     "slide_type": "skip"
    }
   },
   "outputs": [],
   "source": [
    "import numpy as np"
   ]
  },
  {
   "cell_type": "markdown",
   "metadata": {
    "slideshow": {
     "slide_type": "subslide"
    }
   },
   "source": [
    "SELF. Generate a matrix with 1000 rows and 50 columns, elements being drawn from normal distribution $\\mathcal{N}(1, 10)$. Specify random seed to make the result reproducible. Use http://docs.scipy.org/doc/numpy/reference/routines.random.html"
   ]
  },
  {
   "cell_type": "code",
   "execution_count": 9,
   "metadata": {
    "collapsed": true
   },
   "outputs": [],
   "source": [
    "np.random.seed(42)\n",
    "data = np.random.normal(1, 10, size=(1000, 50))"
   ]
  },
  {
   "cell_type": "markdown",
   "metadata": {
    "slideshow": {
     "slide_type": "subslide"
    }
   },
   "source": [
    "SELF. Normalize the matrix: subtract from each column its mean and divide by the standard deviation. I suggest np.mean, np.std with axis parameter."
   ]
  },
  {
   "cell_type": "code",
   "execution_count": 10,
   "metadata": {
    "collapsed": true
   },
   "outputs": [],
   "source": [
    "data -= data.mean(axis=0)\n",
    "data /= data.std(axis=0)"
   ]
  },
  {
   "cell_type": "markdown",
   "metadata": {
    "slideshow": {
     "slide_type": "subslide"
    }
   },
   "source": [
    "Print for the following matrix row numbers for those rows, where element sum is greater than 10. I suggest np.sum and np.nonzero"
   ]
  },
  {
   "cell_type": "code",
   "execution_count": 17,
   "metadata": {
    "collapsed": false
   },
   "outputs": [
    {
     "data": {
      "text/plain": [
       "array([ 17,  20,  22,  28,  29,  32,  34,  46,  54,  66,  73, 119, 121,\n",
       "       159, 163, 173, 182, 230, 244, 261, 270, 273, 276, 284, 292, 299,\n",
       "       304, 316, 324, 329, 346, 350, 354, 362, 396, 421, 432, 438, 450,\n",
       "       451, 457, 468, 469, 491, 511, 520, 526, 529, 535, 538, 555, 572,\n",
       "       583, 597, 603, 611, 612, 617, 623, 648, 665, 769, 777, 782, 793,\n",
       "       796, 797, 799, 808, 809, 832, 839, 844, 850, 871, 880, 887, 888,\n",
       "       901, 907, 916, 930, 940, 952, 957, 962, 974, 980, 991, 998])"
      ]
     },
     "execution_count": 17,
     "metadata": {},
     "output_type": "execute_result"
    }
   ],
   "source": [
    "(data.sum(axis=1) > 10).nonzero()[0]"
   ]
  },
  {
   "cell_type": "markdown",
   "metadata": {},
   "source": [
    "SELF Compute averages in a sliding window over an array. Use np.cumsum\n",
    "```\n",
    "[1,2,3,4], window_size=2 -> [1.5, 2.5, 3.5]\n",
    "```"
   ]
  },
  {
   "cell_type": "code",
   "execution_count": 25,
   "metadata": {
    "collapsed": false
   },
   "outputs": [
    {
     "name": "stdout",
     "output_type": "stream",
     "text": [
      "[  1.   2.   3.   4.   5.   6.   7.   8.   9.  10.  11.  12.  13.  14.  15.\n",
      "  16.  17.  18.]\n"
     ]
    }
   ],
   "source": [
    "# Author: Jaime Fernández del Río\n",
    "# https://github.com/rougier/numpy-100/blob/master/100%20Numpy%20exercises.ipynb\n",
    "def moving_average(a, n=3) :\n",
    "    ret = np.cumsum(a, dtype=float)\n",
    "    ret[n:] = ret[n:] - ret[:-n]\n",
    "    return ret[n - 1:] / n\n",
    "Z = np.arange(20)\n",
    "print(moving_average(Z, n=3))"
   ]
  },
  {
   "cell_type": "markdown",
   "metadata": {},
   "source": [
    "SELF Given a 1D array `a` return a 1D array `b` consisting of elements of a with `n` zeros insered between each consequent pair. Use np.zeros and indexing.\n",
    "```\n",
    "[1,2,3,4], n=2 -> [1, 0, 0, 2, 0, 0, 3, 0, 0, 4]\n",
    "```"
   ]
  },
  {
   "cell_type": "code",
   "execution_count": 35,
   "metadata": {
    "collapsed": false
   },
   "outputs": [
    {
     "name": "stdout",
     "output_type": "stream",
     "text": [
      "[1 2 3 4 5 6 7 8 9]\n",
      "[1 0 0 2 0 0 3 0 0 4 0 0 5 0 0 6 0 0 7 0 0 8 0 0 9]\n"
     ]
    }
   ],
   "source": [
    "a = np.arange(1, 10)\n",
    "n = 2\n",
    "insertions_count = len(a) - 1\n",
    "b = np.zeros(shape=len(a) + insertions_count * n, dtype=a.dtype)\n",
    "b[::n+1] = a\n",
    "print(a)\n",
    "print(b)"
   ]
  },
  {
   "cell_type": "markdown",
   "metadata": {},
   "source": [
    "SELF Given a NxM matrix of dtype=np.int, extract rows where not all values are equal\n",
    "```\n",
    "[[1,1,1],\n",
    " [2,1,1],\n",
    " [10,10,11],\n",
    " [2,2,2]]\n",
    "->\n",
    "[[2,1,1],\n",
    " [10,10,11]]\n",
    "```"
   ]
  },
  {
   "cell_type": "code",
   "execution_count": 39,
   "metadata": {
    "collapsed": false
   },
   "outputs": [
    {
     "name": "stdout",
     "output_type": "stream",
     "text": [
      "[[0 0 0]\n",
      " [0 0 1]\n",
      " [0 1 0]\n",
      " [1 1 0]\n",
      " [1 0 0]\n",
      " [1 1 0]\n",
      " [1 0 1]\n",
      " [1 0 1]\n",
      " [0 0 0]\n",
      " [0 0 1]]\n",
      "[[0 0 1]\n",
      " [0 1 0]\n",
      " [1 1 0]\n",
      " [1 0 0]\n",
      " [1 1 0]\n",
      " [1 0 1]\n",
      " [1 0 1]\n",
      " [0 0 1]]\n"
     ]
    }
   ],
   "source": [
    "# Author: Robert Kern\n",
    "# https://github.com/rougier/numpy-100/blob/master/100%20Numpy%20exercises.ipynb\n",
    "Z = np.random.randint(0,2,(10,3))\n",
    "print(Z)\n",
    "U = Z[Z.max(axis=1) != Z.min(axis=1),:]\n",
    "print(U)"
   ]
  }
 ],
 "metadata": {
  "celltoolbar": "Slideshow",
  "kernelspec": {
   "display_name": "Python 2",
   "language": "python",
   "name": "python2"
  },
  "language_info": {
   "codemirror_mode": {
    "name": "ipython",
    "version": 2
   },
   "file_extension": ".py",
   "mimetype": "text/x-python",
   "name": "python",
   "nbconvert_exporter": "python",
   "pygments_lexer": "ipython2",
   "version": "2.7.13"
  }
 },
 "nbformat": 4,
 "nbformat_minor": 1
}
