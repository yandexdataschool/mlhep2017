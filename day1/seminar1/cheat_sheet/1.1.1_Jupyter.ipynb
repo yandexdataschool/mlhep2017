{
 "cells": [
  {
   "cell_type": "markdown",
   "metadata": {
    "slideshow": {
     "slide_type": "slide"
    }
   },
   "source": [
    "## If you are bored and know it all, fell free to to prove that at Kaggle"
   ]
  },
  {
   "cell_type": "markdown",
   "metadata": {
    "slideshow": {
     "slide_type": "slide"
    }
   },
   "source": [
    "# (Any) seminar plan\n",
    "\n",
    "*“For the things we have to learn before we can do them, we learn by doing them.” ― Aristotle, The Nicomachean Ethics*\n",
    "\n",
    "1. Instruction how to use the material from the recent lecture in practise\n",
    "2. Exercises (you work, I'm avaible for questions)\n",
    "3. GoTo 1"
   ]
  },
  {
   "cell_type": "markdown",
   "metadata": {
    "slideshow": {
     "slide_type": "slide"
    }
   },
   "source": [
    "# Why Python?\n",
    "\n",
    "1. Easy to use\n",
    "2. Mature tools for ML and data processing\n",
    "3. General-purpose language - many libraries and easy to integrate\n",
    "4. Popular in the scientific community"
   ]
  },
  {
   "cell_type": "markdown",
   "metadata": {
    "slideshow": {
     "slide_type": "slide"
    }
   },
   "source": [
    "# A friendly notice\n",
    "Don't reinvent the wheel. You'll be amazed how many things are already implemented - efficiently and bug-free\n",
    "![Reinventing the wheel](Reinvent-the-Wheel.jpg)"
   ]
  },
  {
   "cell_type": "markdown",
   "metadata": {
    "slideshow": {
     "slide_type": "slide"
    }
   },
   "source": [
    "# Plan for the seminar\n",
    "1. Jupyter: tips & tricks\n",
    "2. Numpy: computations and data manipulation\n",
    "3. root_numpy: handling ROOT files\n",
    "4. matplotlib: plotting"
   ]
  },
  {
   "cell_type": "markdown",
   "metadata": {},
   "source": [
    "# Before we continue\n",
    "Put the competition data into the root of the repository\n",
    "BETA TESTING LINK: https://yadi.sk/d/QRua9MjJ3Kz5bg"
   ]
  },
  {
   "cell_type": "markdown",
   "metadata": {
    "slideshow": {
     "slide_type": "slide"
    }
   },
   "source": [
    "# Jupyter\n",
    "Below we have __magic cell__ (that's an official term), which enables inline plotting. --no-import-all prevents pollution of the global namespace"
   ]
  },
  {
   "cell_type": "code",
   "execution_count": 1,
   "metadata": {
    "collapsed": true
   },
   "outputs": [],
   "source": [
    "%matplotlib inline\n",
    "import matplotlib.pyplot as plt"
   ]
  },
  {
   "cell_type": "code",
   "execution_count": 2,
   "metadata": {
    "collapsed": false
   },
   "outputs": [
    {
     "data": {
      "text/plain": [
       "[<matplotlib.lines.Line2D at 0x7f7884ebc6a0>]"
      ]
     },
     "execution_count": 2,
     "metadata": {},
     "output_type": "execute_result"
    },
    {
     "data": {
      "image/png": "[encoded data removed]",
      "text/plain": [
       "<matplotlib.figure.Figure at 0x7f788847b9b0>"
      ]
     },
     "metadata": {},
     "output_type": "display_data"
    }
   ],
   "source": [
    "plt.plot(range(5), range(5, 10))"
   ]
  },
  {
   "cell_type": "markdown",
   "metadata": {},
   "source": [
    "[Interactively] More on Jupyter: hotkeys, kernels (and restarting them), profilig, getting help, !"
   ]
  }
 ],
 "metadata": {
  "celltoolbar": "Slideshow",
  "kernelspec": {
   "display_name": "Python 2",
   "language": "python",
   "name": "python2"
  },
  "language_info": {
   "codemirror_mode": {
    "name": "ipython",
    "version": 2
   },
   "file_extension": ".py",
   "mimetype": "text/x-python",
   "name": "python",
   "nbconvert_exporter": "python",
   "pygments_lexer": "ipython2",
   "version": "2.7.13"
  }
 },
 "nbformat": 4,
 "nbformat_minor": 2
}
