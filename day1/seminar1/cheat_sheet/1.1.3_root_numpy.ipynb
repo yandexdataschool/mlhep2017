{
 "cells": [
  {
   "cell_type": "markdown",
   "metadata": {
    "slideshow": {
     "slide_type": "slide"
    }
   },
   "source": [
    "# root_numpy\n",
    "Allows to read and write ROOT files with data in simple formats inside."
   ]
  },
  {
   "cell_type": "code",
   "execution_count": 1,
   "metadata": {
    "collapsed": true,
    "slideshow": {
     "slide_type": "skip"
    }
   },
   "outputs": [],
   "source": [
    "import root_numpy"
   ]
  },
  {
   "cell_type": "markdown",
   "metadata": {
    "slideshow": {
     "slide_type": "slide"
    }
   },
   "source": [
    "# Reading .root"
   ]
  },
  {
   "cell_type": "code",
   "execution_count": 2,
   "metadata": {
    "collapsed": true
   },
   "outputs": [],
   "source": [
    "ROOT_EXAMPLE_FILE = \"public_train_10000.root\""
   ]
  },
  {
   "cell_type": "markdown",
   "metadata": {},
   "source": [
    "List trees in a ROOT file."
   ]
  },
  {
   "cell_type": "code",
   "execution_count": 3,
   "metadata": {
    "collapsed": true
   },
   "outputs": [],
   "source": [
    "treename = root_numpy.list_trees(ROOT_EXAMPLE_FILE)[0]"
   ]
  },
  {
   "cell_type": "markdown",
   "metadata": {},
   "source": [
    "List branches"
   ]
  },
  {
   "cell_type": "code",
   "execution_count": 4,
   "metadata": {
    "collapsed": false
   },
   "outputs": [
    {
     "data": {
      "text/plain": [
       "['event_id',\n",
       " 'target',\n",
       " 'lepton_pt',\n",
       " 'lepton_eta',\n",
       " 'lepton_phi',\n",
       " 'mem_pt',\n",
       " 'mem_phi',\n",
       " 'jet1_pt',\n",
       " 'jet1_eta',\n",
       " 'jet1_phi',\n",
       " 'jet1_btag',\n",
       " 'jet2_pt',\n",
       " 'jet2_eta',\n",
       " 'jet2_phi',\n",
       " 'jet2_btag',\n",
       " 'jet3_pt',\n",
       " 'jet3_eta',\n",
       " 'jet3_phi',\n",
       " 'jet3_btag',\n",
       " 'jet4_pt',\n",
       " 'jet4_eta',\n",
       " 'jet4_phi',\n",
       " 'jet4_btag',\n",
       " 'm_jj',\n",
       " 'm_jjj',\n",
       " 'm_lv',\n",
       " 'm_jlv',\n",
       " 'm_bb',\n",
       " 'm_wbb',\n",
       " 'm_wwbb']"
      ]
     },
     "execution_count": 4,
     "metadata": {},
     "output_type": "execute_result"
    }
   ],
   "source": [
    "root_numpy.list_branches(ROOT_EXAMPLE_FILE, treename=treename)"
   ]
  },
  {
   "cell_type": "markdown",
   "metadata": {
    "slideshow": {
     "slide_type": "slide"
    }
   },
   "source": [
    "## Main function: reading a ROOT file"
   ]
  },
  {
   "cell_type": "code",
   "execution_count": 5,
   "metadata": {
    "collapsed": true
   },
   "outputs": [],
   "source": [
    "root2array_example = root_numpy.root2array(ROOT_EXAMPLE_FILE)"
   ]
  },
  {
   "cell_type": "code",
   "execution_count": 6,
   "metadata": {
    "collapsed": false
   },
   "outputs": [
    {
     "data": {
      "text/plain": [
       "('event_id',\n",
       " 'target',\n",
       " 'lepton_pt',\n",
       " 'lepton_eta',\n",
       " 'lepton_phi',\n",
       " 'mem_pt',\n",
       " 'mem_phi',\n",
       " 'jet1_pt',\n",
       " 'jet1_eta',\n",
       " 'jet1_phi',\n",
       " 'jet1_btag',\n",
       " 'jet2_pt',\n",
       " 'jet2_eta',\n",
       " 'jet2_phi',\n",
       " 'jet2_btag',\n",
       " 'jet3_pt',\n",
       " 'jet3_eta',\n",
       " 'jet3_phi',\n",
       " 'jet3_btag',\n",
       " 'jet4_pt',\n",
       " 'jet4_eta',\n",
       " 'jet4_phi',\n",
       " 'jet4_btag',\n",
       " 'm_jj',\n",
       " 'm_jjj',\n",
       " 'm_lv',\n",
       " 'm_jlv',\n",
       " 'm_bb',\n",
       " 'm_wbb',\n",
       " 'm_wwbb')"
      ]
     },
     "execution_count": 6,
     "metadata": {},
     "output_type": "execute_result"
    }
   ],
   "source": [
    "root2array_example.dtype.names"
   ]
  },
  {
   "cell_type": "code",
   "execution_count": 7,
   "metadata": {
    "collapsed": false
   },
   "outputs": [
    {
     "data": {
      "text/plain": [
       "numpy.ndarray"
      ]
     },
     "execution_count": 7,
     "metadata": {},
     "output_type": "execute_result"
    }
   ],
   "source": [
    "type(root2array_example)"
   ]
  },
  {
   "cell_type": "code",
   "execution_count": 8,
   "metadata": {
    "collapsed": false
   },
   "outputs": [
    {
     "data": {
      "text/plain": [
       "(10000,)"
      ]
     },
     "execution_count": 8,
     "metadata": {},
     "output_type": "execute_result"
    }
   ],
   "source": [
    "# We have 10000 entities\n",
    "root2array_example.shape"
   ]
  },
  {
   "cell_type": "code",
   "execution_count": 9,
   "metadata": {
    "collapsed": false
   },
   "outputs": [
    {
     "data": {
      "text/plain": [
       "(1000001,  1.,  34.75056839,  0.78702533,  1.89889133,  20.86243439, -2.62299824,  44.81414795, -0.16817059,  2.63159466,  2.00002289,  57.68952179, -0.16162847, -0.68204731,  0.,  71.95420074,  1.15423262, -2.85851312,  2.00001597,  79.94803619,  0.87747198, -0.2567355,  0.,  81.72444916,  189.58314514,  80.11831665,  170.08607483,  91.12820435,  298.46878052,  374.6857605)"
      ]
     },
     "execution_count": 9,
     "metadata": {},
     "output_type": "execute_result"
    }
   ],
   "source": [
    "# Each is a vector\n",
    "root2array_example[0]"
   ]
  },
  {
   "cell_type": "code",
   "execution_count": 10,
   "metadata": {
    "collapsed": false
   },
   "outputs": [
    {
     "data": {
      "text/plain": [
       "dtype([('event_id', '<i8'), ('target', '<f4'), ('lepton_pt', '<f4'), ('lepton_eta', '<f4'), ('lepton_phi', '<f4'), ('mem_pt', '<f4'), ('mem_phi', '<f4'), ('jet1_pt', '<f4'), ('jet1_eta', '<f4'), ('jet1_phi', '<f4'), ('jet1_btag', '<f4'), ('jet2_pt', '<f4'), ('jet2_eta', '<f4'), ('jet2_phi', '<f4'), ('jet2_btag', '<f4'), ('jet3_pt', '<f4'), ('jet3_eta', '<f4'), ('jet3_phi', '<f4'), ('jet3_btag', '<f4'), ('jet4_pt', '<f4'), ('jet4_eta', '<f4'), ('jet4_phi', '<f4'), ('jet4_btag', '<f4'), ('m_jj', '<f4'), ('m_jjj', '<f4'), ('m_lv', '<f4'), ('m_jlv', '<f4'), ('m_bb', '<f4'), ('m_wbb', '<f4'), ('m_wwbb', '<f4')])"
      ]
     },
     "execution_count": 10,
     "metadata": {},
     "output_type": "execute_result"
    }
   ],
   "source": [
    "# With the fields corresponding to the brnaches\n",
    "root2array_example.dtype"
   ]
  },
  {
   "cell_type": "code",
   "execution_count": 11,
   "metadata": {
    "collapsed": false
   },
   "outputs": [
    {
     "data": {
      "text/plain": [
       "array([(1000001,  80.11831665), (1000002,  83.32155609),\n",
       "       (1000003,  95.30760193), ..., (1009998,  81.17916107),\n",
       "       (1009999,  85.55708313), (1010000,  78.98086548)], \n",
       "      dtype=[('event_id', '<i8'), ('m_lv', '<f4')])"
      ]
     },
     "execution_count": 11,
     "metadata": {},
     "output_type": "execute_result"
    }
   ],
   "source": [
    "# Reading can be limited to specific branches\n",
    "root_numpy.root2array(ROOT_EXAMPLE_FILE, branches=[\"event_id\", \"m_lv\"])"
   ]
  },
  {
   "cell_type": "code",
   "execution_count": 12,
   "metadata": {
    "collapsed": false
   },
   "outputs": [
    {
     "data": {
      "text/plain": [
       "(400,)"
      ]
     },
     "execution_count": 12,
     "metadata": {},
     "output_type": "execute_result"
    }
   ],
   "source": [
    "# And event range\n",
    "root_numpy.root2array(ROOT_EXAMPLE_FILE, start=100, stop=500).shape"
   ]
  },
  {
   "cell_type": "markdown",
   "metadata": {},
   "source": [
    "Converting structured array to regular"
   ]
  },
  {
   "cell_type": "code",
   "execution_count": 13,
   "metadata": {
    "collapsed": false
   },
   "outputs": [
    {
     "data": {
      "text/plain": [
       "array([[  1.00000100e+06,   1.00000000e+00,   3.47505684e+01, ...,\n",
       "          9.11282043e+01,   2.98468781e+02,   3.74685760e+02],\n",
       "       [  1.00000200e+06,   1.00000000e+00,   5.42509270e+01, ...,\n",
       "          6.71184845e+01,   2.87363983e+02,   5.27247559e+02],\n",
       "       [  1.00000300e+06,   1.00000000e+00,   4.77460251e+01, ...,\n",
       "          1.30389206e+02,   2.37879318e+02,   3.36058838e+02],\n",
       "       ..., \n",
       "       [  1.00999800e+06,   1.00000000e+00,   1.03452408e+02, ...,\n",
       "          1.28377182e+02,   3.80536560e+02,   5.51422424e+02],\n",
       "       [  1.00999900e+06,   0.00000000e+00,   3.38559570e+01, ...,\n",
       "          1.40375320e+02,   2.64731140e+02,   3.71888153e+02],\n",
       "       [  1.01000000e+06,   0.00000000e+00,   5.01330376e+01, ...,\n",
       "          1.34282303e+02,   3.77124817e+02,   4.87969818e+02]])"
      ]
     },
     "execution_count": 13,
     "metadata": {},
     "output_type": "execute_result"
    }
   ],
   "source": [
    "import pandas as pd # more about Pandas in short time\n",
    "pd.DataFrame(root2array_example).values"
   ]
  },
  {
   "cell_type": "markdown",
   "metadata": {
    "slideshow": {
     "slide_type": "slide"
    }
   },
   "source": [
    "# Writing .root"
   ]
  },
  {
   "cell_type": "code",
   "execution_count": 14,
   "metadata": {
    "collapsed": false
   },
   "outputs": [
    {
     "data": {
      "text/plain": [
       "array([[ 0.32754071, -0.17057658, -1.75494009],\n",
       "       [ 1.81826112,  0.44164219,  0.73197519],\n",
       "       [ 0.09827639,  0.54200887, -2.30925674]])"
      ]
     },
     "execution_count": 14,
     "metadata": {},
     "output_type": "execute_result"
    }
   ],
   "source": [
    "import numpy as np\n",
    "random_data = np.random.normal(size=(3, 3))\n",
    "random_data"
   ]
  },
  {
   "cell_type": "code",
   "execution_count": 15,
   "metadata": {
    "collapsed": true
   },
   "outputs": [],
   "source": [
    "# This will fail\n",
    "# root_numpy.array2root(random_data, \"./random_data.root\", mode=\"recreate\")"
   ]
  },
  {
   "cell_type": "markdown",
   "metadata": {},
   "source": [
    "Root needs to explicitly know the branches names. We set them"
   ]
  },
  {
   "cell_type": "code",
   "execution_count": 16,
   "metadata": {
    "collapsed": true
   },
   "outputs": [],
   "source": [
    "random_data.dtype = [('a', np.float_), ('b', np.float_), ('c', np.float_)]"
   ]
  },
  {
   "cell_type": "markdown",
   "metadata": {},
   "source": [
    "And saving works"
   ]
  },
  {
   "cell_type": "code",
   "execution_count": 17,
   "metadata": {
    "collapsed": true
   },
   "outputs": [],
   "source": [
    "root_numpy.array2root(random_data, \"./random_data.root\", mode=\"recreate\")"
   ]
  },
  {
   "cell_type": "markdown",
   "metadata": {},
   "source": [
    "Verfy"
   ]
  },
  {
   "cell_type": "code",
   "execution_count": 18,
   "metadata": {
    "collapsed": false
   },
   "outputs": [
    {
     "data": {
      "text/plain": [
       "array([( 0.32754071, -0.17057658, -1.75494009),\n",
       "       ( 1.81826112,  0.44164219,  0.73197519),\n",
       "       ( 0.09827639,  0.54200887, -2.30925674)], \n",
       "      dtype=[('a', '<f8'), ('b', '<f8'), ('c', '<f8')])"
      ]
     },
     "execution_count": 18,
     "metadata": {},
     "output_type": "execute_result"
    }
   ],
   "source": [
    "root_numpy.root2array(\"./random_data.root\")"
   ]
  }
 ],
 "metadata": {
  "celltoolbar": "Slideshow",
  "kernelspec": {
   "display_name": "Python 2",
   "language": "python",
   "name": "python2"
  },
  "language_info": {
   "codemirror_mode": {
    "name": "ipython",
    "version": 2
   },
   "file_extension": ".py",
   "mimetype": "text/x-python",
   "name": "python",
   "nbconvert_exporter": "python",
   "pygments_lexer": "ipython2",
   "version": "2.7.13"
  }
 },
 "nbformat": 4,
 "nbformat_minor": 1
}
