{
 "cells": [
  {
   "cell_type": "markdown",
   "metadata": {},
   "source": [
    "# Intro to numpy\n",
    "\n",
    "This notebook's gonna teach you to play around with data using numpy, pandas and matplotlib.\n",
    "\n",
    "Let's get started!\n",
    "\n",
    "#### Jupyter primer:\n",
    "* Those blocks below are cells. Click on cell to select. Ctrl+enter to run code from cell.\n",
    "* Click topbar \"+\" button to create new cell.\n",
    "* Sometimes we'll ask you to add `<your code here doing such and such things>`"
   ]
  },
  {
   "cell_type": "code",
   "execution_count": 1,
   "metadata": {
    "collapsed": true
   },
   "outputs": [],
   "source": [
    "#execute this cell\n",
    "\n",
    "from __future__ import print_function\n",
    "\n",
    "import math"
   ]
  },
  {
   "cell_type": "code",
   "execution_count": null,
   "metadata": {},
   "outputs": [],
   "source": [
    "#type \"math.\" or \"math.s\" and press tab\n",
    "<here>"
   ]
  },
  {
   "cell_type": "code",
   "execution_count": null,
   "metadata": {
    "collapsed": true
   },
   "outputs": [],
   "source": [
    "#type math.atan2() and press shift+tab inside the brackets\n",
    "<here>"
   ]
  },
  {
   "cell_type": "code",
   "execution_count": null,
   "metadata": {
    "collapsed": true
   },
   "outputs": [],
   "source": [
    "del math\n",
    "\n",
    "#oops, i destroyed math :)"
   ]
  },
  {
   "cell_type": "markdown",
   "metadata": {},
   "source": [
    "# Gettin' all vectorized with Numpy"
   ]
  },
  {
   "cell_type": "code",
   "execution_count": 60,
   "metadata": {},
   "outputs": [
    {
     "name": "stdout",
     "output_type": "stream",
     "text": [
      "a =  [1 2 3 4 5]\n",
      "b =  [5 4 3 2 1]\n"
     ]
    }
   ],
   "source": [
    "import numpy as np\n",
    "\n",
    "#numpy's main object is the homogeneous multidimensional array.\n",
    "a = np.array([1,2,3,4,5])\n",
    "b = np.array([5,4,3,2,1])\n",
    "\n",
    "print (\"a = \",a)\n",
    "print (\"b = \",b)"
   ]
  },
  {
   "cell_type": "code",
   "execution_count": 61,
   "metadata": {},
   "outputs": [
    {
     "name": "stdout",
     "output_type": "stream",
     "text": [
      "a+1 = [2 3 4 5 6]\n",
      "a*2 = [ 2  4  6  8 10]\n",
      "a+b = [6 6 6 6 6]\n",
      "a*b=  [5 8 9 8 5]\n",
      "a*b + b**a = [10 24 36 24  6]\n"
     ]
    }
   ],
   "source": [
    "#Arithmetic operators on arrays apply elementwise. \n",
    "print (\"a+1 =\", a+1)\n",
    "print (\"a*2 =\", a*2)\n",
    "\n",
    "#Or pairwise, etc.\n",
    "print (\"a+b =\",a+b)\n",
    "print (\"a*b= \",a*b)\n",
    "print (\"a*b + b**a =\",a*b + b**a)\n"
   ]
  },
  {
   "cell_type": "markdown",
   "metadata": {},
   "source": [
    "Numpy's also rich on functions that compute all kinds of stuff"
   ]
  },
  {
   "cell_type": "code",
   "execution_count": 4,
   "metadata": {},
   "outputs": [
    {
     "name": "stdout",
     "output_type": "stream",
     "text": [
      "numpy.sum(a) =  15\n",
      "numpy.mean(a) =  3.0\n",
      "numpy.min(a) =  1\n",
      "numpy.argmax(a) =  4\n",
      "numpy.log(b) =  [ 1.60943791  1.38629436  1.09861229  0.69314718  0.        ]\n",
      "numpy.arctan(b) =  [ 1.37340077  1.32581766  1.24904577  1.10714872  0.78539816]\n",
      "numpy.unique(['b','c','d','c','b']) =  ['b' 'c' 'd']\n"
     ]
    }
   ],
   "source": [
    "print (\"numpy.sum(a) = \",np.sum(a))\n",
    "print (\"numpy.mean(a) = \", np.mean(a))\n",
    "print (\"numpy.min(a) = \", np.min(a))\n",
    "print (\"numpy.argmax(a) = \", np.argmax(a)) #index of minimal element\n",
    "print (\"numpy.log(b) = \",np.log(b))\n",
    "print (\"numpy.arctan(b) = \",np.arctan(b))\n",
    "print (\"numpy.unique(['b','c','d','c','b']) = \",np.unique(['b','c','d','c','b']))\n"
   ]
  },
  {
   "cell_type": "markdown",
   "metadata": {},
   "source": [
    "### Wax on, wax off"
   ]
  },
  {
   "cell_type": "code",
   "execution_count": 7,
   "metadata": {},
   "outputs": [
    {
     "name": "stdout",
     "output_type": "stream",
     "text": [
      "Difference between a and b: [-4 -2  0  2  4]\n",
      "Sum of squares of a and b: [26 20 18 20 26]\n",
      "a minus 2 divided by square root of b [-0.4472136   0.          0.57735027  1.41421356  3.        ]\n"
     ]
    }
   ],
   "source": [
    "#The basics of numpy\n",
    "print (\"Difference between a and b:\", a-b)\n",
    "print (\"Sum of squares of a and b:\", a**2+b**2)\n",
    "print (\"a minus 2 divided by square root of b\", (a-2)/np.sqrt(b))"
   ]
  },
  {
   "cell_type": "code",
   "execution_count": 8,
   "metadata": {},
   "outputs": [
    {
     "name": "stdout",
     "output_type": "stream",
     "text": [
      "difference between minimum and maximum of a -4\n"
     ]
    }
   ],
   "source": [
    "print (\"difference between minimum and maximum of a\", min(a)-max(a))"
   ]
  },
  {
   "cell_type": "code",
   "execution_count": 9,
   "metadata": {},
   "outputs": [
    {
     "name": "stdout",
     "output_type": "stream",
     "text": [
      "mean squared error between a and b 8.0\n"
     ]
    }
   ],
   "source": [
    "print (\"mean squared error between a and b\", np.mean((a-b)**2))"
   ]
  },
  {
   "cell_type": "markdown",
   "metadata": {},
   "source": [
    "## Hello, data"
   ]
  },
  {
   "cell_type": "code",
   "execution_count": 10,
   "metadata": {},
   "outputs": [],
   "source": [
    "import pandas as pd\n",
    "data = pd.read_csv(\"small_higgs.csv\",na_values=-999).fillna(0)"
   ]
  },
  {
   "cell_type": "code",
   "execution_count": 11,
   "metadata": {},
   "outputs": [
    {
     "data": {
      "text/html": [
       "<div>\n",
       "<style>\n",
       "    .dataframe thead tr:only-child th {\n",
       "        text-align: right;\n",
       "    }\n",
       "\n",
       "    .dataframe thead th {\n",
       "        text-align: left;\n",
       "    }\n",
       "\n",
       "    .dataframe tbody tr th {\n",
       "        vertical-align: top;\n",
       "    }\n",
       "</style>\n",
       "<table border=\"1\" class=\"dataframe\">\n",
       "  <thead>\n",
       "    <tr style=\"text-align: right;\">\n",
       "      <th></th>\n",
       "      <th>EventId</th>\n",
       "      <th>DER_mass_MMC</th>\n",
       "      <th>DER_mass_transverse_met_lep</th>\n",
       "      <th>DER_mass_vis</th>\n",
       "      <th>DER_pt_h</th>\n",
       "      <th>DER_deltaeta_jet_jet</th>\n",
       "      <th>DER_mass_jet_jet</th>\n",
       "      <th>DER_prodeta_jet_jet</th>\n",
       "      <th>DER_deltar_tau_lep</th>\n",
       "      <th>DER_pt_tot</th>\n",
       "      <th>...</th>\n",
       "      <th>PRI_jet_num</th>\n",
       "      <th>PRI_jet_leading_pt</th>\n",
       "      <th>PRI_jet_leading_eta</th>\n",
       "      <th>PRI_jet_leading_phi</th>\n",
       "      <th>PRI_jet_subleading_pt</th>\n",
       "      <th>PRI_jet_subleading_eta</th>\n",
       "      <th>PRI_jet_subleading_phi</th>\n",
       "      <th>PRI_jet_all_pt</th>\n",
       "      <th>Weight</th>\n",
       "      <th>Label</th>\n",
       "    </tr>\n",
       "  </thead>\n",
       "  <tbody>\n",
       "    <tr>\n",
       "      <th>0</th>\n",
       "      <td>100000</td>\n",
       "      <td>138.470</td>\n",
       "      <td>51.655</td>\n",
       "      <td>97.827</td>\n",
       "      <td>27.980</td>\n",
       "      <td>0.910</td>\n",
       "      <td>124.711</td>\n",
       "      <td>2.666</td>\n",
       "      <td>3.064</td>\n",
       "      <td>41.928</td>\n",
       "      <td>...</td>\n",
       "      <td>2</td>\n",
       "      <td>67.435</td>\n",
       "      <td>2.150</td>\n",
       "      <td>0.444</td>\n",
       "      <td>46.062</td>\n",
       "      <td>1.240</td>\n",
       "      <td>-2.475</td>\n",
       "      <td>113.497</td>\n",
       "      <td>0.002653</td>\n",
       "      <td>s</td>\n",
       "    </tr>\n",
       "    <tr>\n",
       "      <th>1</th>\n",
       "      <td>100001</td>\n",
       "      <td>160.937</td>\n",
       "      <td>68.768</td>\n",
       "      <td>103.235</td>\n",
       "      <td>48.146</td>\n",
       "      <td>0.000</td>\n",
       "      <td>0.000</td>\n",
       "      <td>0.000</td>\n",
       "      <td>3.473</td>\n",
       "      <td>2.078</td>\n",
       "      <td>...</td>\n",
       "      <td>1</td>\n",
       "      <td>46.226</td>\n",
       "      <td>0.725</td>\n",
       "      <td>1.158</td>\n",
       "      <td>0.000</td>\n",
       "      <td>0.000</td>\n",
       "      <td>0.000</td>\n",
       "      <td>46.226</td>\n",
       "      <td>2.233584</td>\n",
       "      <td>b</td>\n",
       "    </tr>\n",
       "    <tr>\n",
       "      <th>2</th>\n",
       "      <td>100002</td>\n",
       "      <td>0.000</td>\n",
       "      <td>162.172</td>\n",
       "      <td>125.953</td>\n",
       "      <td>35.635</td>\n",
       "      <td>0.000</td>\n",
       "      <td>0.000</td>\n",
       "      <td>0.000</td>\n",
       "      <td>3.148</td>\n",
       "      <td>9.336</td>\n",
       "      <td>...</td>\n",
       "      <td>1</td>\n",
       "      <td>44.251</td>\n",
       "      <td>2.053</td>\n",
       "      <td>-2.028</td>\n",
       "      <td>0.000</td>\n",
       "      <td>0.000</td>\n",
       "      <td>0.000</td>\n",
       "      <td>44.251</td>\n",
       "      <td>2.347389</td>\n",
       "      <td>b</td>\n",
       "    </tr>\n",
       "    <tr>\n",
       "      <th>3</th>\n",
       "      <td>100003</td>\n",
       "      <td>143.905</td>\n",
       "      <td>81.417</td>\n",
       "      <td>80.943</td>\n",
       "      <td>0.414</td>\n",
       "      <td>0.000</td>\n",
       "      <td>0.000</td>\n",
       "      <td>0.000</td>\n",
       "      <td>3.310</td>\n",
       "      <td>0.414</td>\n",
       "      <td>...</td>\n",
       "      <td>0</td>\n",
       "      <td>0.000</td>\n",
       "      <td>0.000</td>\n",
       "      <td>0.000</td>\n",
       "      <td>0.000</td>\n",
       "      <td>0.000</td>\n",
       "      <td>0.000</td>\n",
       "      <td>-0.000</td>\n",
       "      <td>5.446378</td>\n",
       "      <td>b</td>\n",
       "    </tr>\n",
       "    <tr>\n",
       "      <th>4</th>\n",
       "      <td>100004</td>\n",
       "      <td>175.864</td>\n",
       "      <td>16.915</td>\n",
       "      <td>134.805</td>\n",
       "      <td>16.405</td>\n",
       "      <td>0.000</td>\n",
       "      <td>0.000</td>\n",
       "      <td>0.000</td>\n",
       "      <td>3.891</td>\n",
       "      <td>16.405</td>\n",
       "      <td>...</td>\n",
       "      <td>0</td>\n",
       "      <td>0.000</td>\n",
       "      <td>0.000</td>\n",
       "      <td>0.000</td>\n",
       "      <td>0.000</td>\n",
       "      <td>0.000</td>\n",
       "      <td>0.000</td>\n",
       "      <td>0.000</td>\n",
       "      <td>6.245333</td>\n",
       "      <td>b</td>\n",
       "    </tr>\n",
       "    <tr>\n",
       "      <th>5</th>\n",
       "      <td>100005</td>\n",
       "      <td>89.744</td>\n",
       "      <td>13.550</td>\n",
       "      <td>59.149</td>\n",
       "      <td>116.344</td>\n",
       "      <td>2.636</td>\n",
       "      <td>284.584</td>\n",
       "      <td>-0.540</td>\n",
       "      <td>1.362</td>\n",
       "      <td>61.619</td>\n",
       "      <td>...</td>\n",
       "      <td>3</td>\n",
       "      <td>90.547</td>\n",
       "      <td>-2.412</td>\n",
       "      <td>-0.653</td>\n",
       "      <td>56.165</td>\n",
       "      <td>0.224</td>\n",
       "      <td>3.106</td>\n",
       "      <td>193.660</td>\n",
       "      <td>0.083414</td>\n",
       "      <td>b</td>\n",
       "    </tr>\n",
       "    <tr>\n",
       "      <th>6</th>\n",
       "      <td>100006</td>\n",
       "      <td>148.754</td>\n",
       "      <td>28.862</td>\n",
       "      <td>107.782</td>\n",
       "      <td>106.130</td>\n",
       "      <td>0.733</td>\n",
       "      <td>158.359</td>\n",
       "      <td>0.113</td>\n",
       "      <td>2.941</td>\n",
       "      <td>2.545</td>\n",
       "      <td>...</td>\n",
       "      <td>2</td>\n",
       "      <td>123.010</td>\n",
       "      <td>0.864</td>\n",
       "      <td>1.450</td>\n",
       "      <td>56.867</td>\n",
       "      <td>0.131</td>\n",
       "      <td>-2.767</td>\n",
       "      <td>179.877</td>\n",
       "      <td>0.002653</td>\n",
       "      <td>s</td>\n",
       "    </tr>\n",
       "    <tr>\n",
       "      <th>7</th>\n",
       "      <td>100007</td>\n",
       "      <td>154.916</td>\n",
       "      <td>10.418</td>\n",
       "      <td>94.714</td>\n",
       "      <td>29.169</td>\n",
       "      <td>0.000</td>\n",
       "      <td>0.000</td>\n",
       "      <td>0.000</td>\n",
       "      <td>2.897</td>\n",
       "      <td>1.526</td>\n",
       "      <td>...</td>\n",
       "      <td>1</td>\n",
       "      <td>30.638</td>\n",
       "      <td>-0.715</td>\n",
       "      <td>-1.724</td>\n",
       "      <td>0.000</td>\n",
       "      <td>0.000</td>\n",
       "      <td>0.000</td>\n",
       "      <td>30.638</td>\n",
       "      <td>0.018636</td>\n",
       "      <td>s</td>\n",
       "    </tr>\n",
       "    <tr>\n",
       "      <th>8</th>\n",
       "      <td>100008</td>\n",
       "      <td>105.594</td>\n",
       "      <td>50.559</td>\n",
       "      <td>100.989</td>\n",
       "      <td>4.288</td>\n",
       "      <td>0.000</td>\n",
       "      <td>0.000</td>\n",
       "      <td>0.000</td>\n",
       "      <td>2.904</td>\n",
       "      <td>4.288</td>\n",
       "      <td>...</td>\n",
       "      <td>0</td>\n",
       "      <td>0.000</td>\n",
       "      <td>0.000</td>\n",
       "      <td>0.000</td>\n",
       "      <td>0.000</td>\n",
       "      <td>0.000</td>\n",
       "      <td>0.000</td>\n",
       "      <td>0.000</td>\n",
       "      <td>5.296003</td>\n",
       "      <td>b</td>\n",
       "    </tr>\n",
       "    <tr>\n",
       "      <th>9</th>\n",
       "      <td>100009</td>\n",
       "      <td>128.053</td>\n",
       "      <td>88.941</td>\n",
       "      <td>69.272</td>\n",
       "      <td>193.392</td>\n",
       "      <td>0.000</td>\n",
       "      <td>0.000</td>\n",
       "      <td>0.000</td>\n",
       "      <td>1.609</td>\n",
       "      <td>28.859</td>\n",
       "      <td>...</td>\n",
       "      <td>1</td>\n",
       "      <td>167.735</td>\n",
       "      <td>-2.767</td>\n",
       "      <td>-2.514</td>\n",
       "      <td>0.000</td>\n",
       "      <td>0.000</td>\n",
       "      <td>0.000</td>\n",
       "      <td>167.735</td>\n",
       "      <td>0.001502</td>\n",
       "      <td>s</td>\n",
       "    </tr>\n",
       "  </tbody>\n",
       "</table>\n",
       "<p>10 rows × 33 columns</p>\n",
       "</div>"
      ],
      "text/plain": [
       "   EventId  DER_mass_MMC  DER_mass_transverse_met_lep  DER_mass_vis  DER_pt_h  \\\n",
       "0   100000       138.470                       51.655        97.827    27.980   \n",
       "1   100001       160.937                       68.768       103.235    48.146   \n",
       "2   100002         0.000                      162.172       125.953    35.635   \n",
       "3   100003       143.905                       81.417        80.943     0.414   \n",
       "4   100004       175.864                       16.915       134.805    16.405   \n",
       "5   100005        89.744                       13.550        59.149   116.344   \n",
       "6   100006       148.754                       28.862       107.782   106.130   \n",
       "7   100007       154.916                       10.418        94.714    29.169   \n",
       "8   100008       105.594                       50.559       100.989     4.288   \n",
       "9   100009       128.053                       88.941        69.272   193.392   \n",
       "\n",
       "   DER_deltaeta_jet_jet  DER_mass_jet_jet  DER_prodeta_jet_jet  \\\n",
       "0                 0.910           124.711                2.666   \n",
       "1                 0.000             0.000                0.000   \n",
       "2                 0.000             0.000                0.000   \n",
       "3                 0.000             0.000                0.000   \n",
       "4                 0.000             0.000                0.000   \n",
       "5                 2.636           284.584               -0.540   \n",
       "6                 0.733           158.359                0.113   \n",
       "7                 0.000             0.000                0.000   \n",
       "8                 0.000             0.000                0.000   \n",
       "9                 0.000             0.000                0.000   \n",
       "\n",
       "   DER_deltar_tau_lep  DER_pt_tot  ...    PRI_jet_num  PRI_jet_leading_pt  \\\n",
       "0               3.064      41.928  ...              2              67.435   \n",
       "1               3.473       2.078  ...              1              46.226   \n",
       "2               3.148       9.336  ...              1              44.251   \n",
       "3               3.310       0.414  ...              0               0.000   \n",
       "4               3.891      16.405  ...              0               0.000   \n",
       "5               1.362      61.619  ...              3              90.547   \n",
       "6               2.941       2.545  ...              2             123.010   \n",
       "7               2.897       1.526  ...              1              30.638   \n",
       "8               2.904       4.288  ...              0               0.000   \n",
       "9               1.609      28.859  ...              1             167.735   \n",
       "\n",
       "   PRI_jet_leading_eta  PRI_jet_leading_phi  PRI_jet_subleading_pt  \\\n",
       "0                2.150                0.444                 46.062   \n",
       "1                0.725                1.158                  0.000   \n",
       "2                2.053               -2.028                  0.000   \n",
       "3                0.000                0.000                  0.000   \n",
       "4                0.000                0.000                  0.000   \n",
       "5               -2.412               -0.653                 56.165   \n",
       "6                0.864                1.450                 56.867   \n",
       "7               -0.715               -1.724                  0.000   \n",
       "8                0.000                0.000                  0.000   \n",
       "9               -2.767               -2.514                  0.000   \n",
       "\n",
       "   PRI_jet_subleading_eta  PRI_jet_subleading_phi  PRI_jet_all_pt    Weight  \\\n",
       "0                   1.240                  -2.475         113.497  0.002653   \n",
       "1                   0.000                   0.000          46.226  2.233584   \n",
       "2                   0.000                   0.000          44.251  2.347389   \n",
       "3                   0.000                   0.000          -0.000  5.446378   \n",
       "4                   0.000                   0.000           0.000  6.245333   \n",
       "5                   0.224                   3.106         193.660  0.083414   \n",
       "6                   0.131                  -2.767         179.877  0.002653   \n",
       "7                   0.000                   0.000          30.638  0.018636   \n",
       "8                   0.000                   0.000           0.000  5.296003   \n",
       "9                   0.000                   0.000         167.735  0.001502   \n",
       "\n",
       "   Label  \n",
       "0      s  \n",
       "1      b  \n",
       "2      b  \n",
       "3      b  \n",
       "4      b  \n",
       "5      b  \n",
       "6      s  \n",
       "7      s  \n",
       "8      b  \n",
       "9      s  \n",
       "\n",
       "[10 rows x 33 columns]"
      ]
     },
     "execution_count": 11,
     "metadata": {},
     "output_type": "execute_result"
    }
   ],
   "source": [
    "#Data's a table, 2d array. Here's first 10 elements.\n",
    "data[:10]"
   ]
  },
  {
   "cell_type": "code",
   "execution_count": 12,
   "metadata": {},
   "outputs": [
    {
     "name": "stdout",
     "output_type": "stream",
     "text": [
      "len(data) =  4999\n",
      "data.shape =  (4999, 33)\n",
      "data.columns =  Index([u'EventId', u'DER_mass_MMC', u'DER_mass_transverse_met_lep',\n",
      "       u'DER_mass_vis', u'DER_pt_h', u'DER_deltaeta_jet_jet',\n",
      "       u'DER_mass_jet_jet', u'DER_prodeta_jet_jet', u'DER_deltar_tau_lep',\n",
      "       u'DER_pt_tot', u'DER_sum_pt', u'DER_pt_ratio_lep_tau',\n",
      "       u'DER_met_phi_centrality', u'DER_lep_eta_centrality', u'PRI_tau_pt',\n",
      "       u'PRI_tau_eta', u'PRI_tau_phi', u'PRI_lep_pt', u'PRI_lep_eta',\n",
      "       u'PRI_lep_phi', u'PRI_met', u'PRI_met_phi', u'PRI_met_sumet',\n",
      "       u'PRI_jet_num', u'PRI_jet_leading_pt', u'PRI_jet_leading_eta',\n",
      "       u'PRI_jet_leading_phi', u'PRI_jet_subleading_pt',\n",
      "       u'PRI_jet_subleading_eta', u'PRI_jet_subleading_phi', u'PRI_jet_all_pt',\n",
      "       u'Weight', u'Label'],\n",
      "      dtype='object')\n"
     ]
    }
   ],
   "source": [
    "#Data shapes\n",
    "print (\"len(data) = \",len(data))\n",
    "print (\"data.shape = \",data.shape)\n",
    "print (\"data.columns = \",data.columns)"
   ]
  },
  {
   "cell_type": "code",
   "execution_count": 13,
   "metadata": {},
   "outputs": [
    {
     "name": "stdout",
     "output_type": "stream",
     "text": [
      "EventId                         100004\n",
      "DER_mass_MMC                   175.864\n",
      "DER_mass_transverse_met_lep     16.915\n",
      "DER_mass_vis                   134.805\n",
      "DER_pt_h                        16.405\n",
      "DER_deltaeta_jet_jet                 0\n",
      "DER_mass_jet_jet                     0\n",
      "DER_prodeta_jet_jet                  0\n",
      "DER_deltar_tau_lep               3.891\n",
      "DER_pt_tot                      16.405\n",
      "DER_sum_pt                      57.983\n",
      "DER_pt_ratio_lep_tau             1.056\n",
      "DER_met_phi_centrality          -1.385\n",
      "DER_lep_eta_centrality               0\n",
      "PRI_tau_pt                      28.209\n",
      "PRI_tau_eta                     -2.197\n",
      "PRI_tau_phi                     -2.231\n",
      "PRI_lep_pt                      29.774\n",
      "PRI_lep_eta                      0.798\n",
      "PRI_lep_phi                      1.569\n",
      "PRI_met                          2.723\n",
      "PRI_met_phi                     -0.871\n",
      "PRI_met_sumet                   53.131\n",
      "PRI_jet_num                          0\n",
      "PRI_jet_leading_pt                   0\n",
      "PRI_jet_leading_eta                  0\n",
      "PRI_jet_leading_phi                  0\n",
      "PRI_jet_subleading_pt                0\n",
      "PRI_jet_subleading_eta               0\n",
      "PRI_jet_subleading_phi               0\n",
      "PRI_jet_all_pt                       0\n",
      "Weight                         6.24533\n",
      "Label                                b\n",
      "Name: 4, dtype: object\n"
     ]
    }
   ],
   "source": [
    "#selecting just one row\n",
    "print (data.iloc[4])"
   ]
  },
  {
   "cell_type": "code",
   "execution_count": 14,
   "metadata": {},
   "outputs": [
    {
     "name": "stdout",
     "output_type": "stream",
     "text": [
      "   EventId  DER_mass_MMC  DER_mass_transverse_met_lep  DER_mass_vis  DER_pt_h  \\\n",
      "0   100000       138.470                       51.655        97.827    27.980   \n",
      "1   100001       160.937                       68.768       103.235    48.146   \n",
      "2   100002         0.000                      162.172       125.953    35.635   \n",
      "3   100003       143.905                       81.417        80.943     0.414   \n",
      "4   100004       175.864                       16.915       134.805    16.405   \n",
      "\n",
      "   DER_deltaeta_jet_jet  DER_mass_jet_jet  DER_prodeta_jet_jet  \\\n",
      "0                  0.91           124.711                2.666   \n",
      "1                  0.00             0.000                0.000   \n",
      "2                  0.00             0.000                0.000   \n",
      "3                  0.00             0.000                0.000   \n",
      "4                  0.00             0.000                0.000   \n",
      "\n",
      "   DER_deltar_tau_lep  DER_pt_tot  ...    PRI_jet_num  PRI_jet_leading_pt  \\\n",
      "0               3.064      41.928  ...              2              67.435   \n",
      "1               3.473       2.078  ...              1              46.226   \n",
      "2               3.148       9.336  ...              1              44.251   \n",
      "3               3.310       0.414  ...              0               0.000   \n",
      "4               3.891      16.405  ...              0               0.000   \n",
      "\n",
      "   PRI_jet_leading_eta  PRI_jet_leading_phi  PRI_jet_subleading_pt  \\\n",
      "0                2.150                0.444                 46.062   \n",
      "1                0.725                1.158                  0.000   \n",
      "2                2.053               -2.028                  0.000   \n",
      "3                0.000                0.000                  0.000   \n",
      "4                0.000                0.000                  0.000   \n",
      "\n",
      "   PRI_jet_subleading_eta  PRI_jet_subleading_phi  PRI_jet_all_pt    Weight  \\\n",
      "0                    1.24                  -2.475         113.497  0.002653   \n",
      "1                    0.00                   0.000          46.226  2.233584   \n",
      "2                    0.00                   0.000          44.251  2.347389   \n",
      "3                    0.00                   0.000          -0.000  5.446378   \n",
      "4                    0.00                   0.000           0.000  6.245333   \n",
      "\n",
      "   Label  \n",
      "0      s  \n",
      "1      b  \n",
      "2      b  \n",
      "3      b  \n",
      "4      b  \n",
      "\n",
      "[5 rows x 33 columns]\n"
     ]
    }
   ],
   "source": [
    "#first 5 elements\n",
    "print(data[0:5])"
   ]
  },
  {
   "cell_type": "code",
   "execution_count": 15,
   "metadata": {},
   "outputs": [
    {
     "name": "stdout",
     "output_type": "stream",
     "text": [
      "0       2.150\n",
      "1       0.725\n",
      "2       2.053\n",
      "3       0.000\n",
      "4       0.000\n",
      "5      -2.412\n",
      "6       0.864\n",
      "7      -0.715\n",
      "8       0.000\n",
      "9      -2.767\n",
      "10      0.000\n",
      "11     -0.790\n",
      "12     -0.970\n",
      "13      0.000\n",
      "14      0.000\n",
      "15      0.000\n",
      "16     -0.766\n",
      "17      0.000\n",
      "18      0.000\n",
      "19      0.000\n",
      "20      0.000\n",
      "21      0.000\n",
      "22      0.000\n",
      "23      1.156\n",
      "24      0.000\n",
      "25      0.000\n",
      "26      4.347\n",
      "27     -1.961\n",
      "28     -0.049\n",
      "29      0.993\n",
      "        ...  \n",
      "4969   -0.284\n",
      "4970    0.138\n",
      "4971    0.000\n",
      "4972   -0.669\n",
      "4973   -3.640\n",
      "4974    0.000\n",
      "4975    1.438\n",
      "4976   -1.448\n",
      "4977   -0.199\n",
      "4978    0.000\n",
      "4979    0.735\n",
      "4980    0.000\n",
      "4981    0.003\n",
      "4982    0.000\n",
      "4983   -0.701\n",
      "4984   -0.980\n",
      "4985    1.697\n",
      "4986    2.743\n",
      "4987   -0.069\n",
      "4988   -2.662\n",
      "4989   -1.396\n",
      "4990    2.131\n",
      "4991   -1.054\n",
      "4992   -2.989\n",
      "4993    0.000\n",
      "4994    0.000\n",
      "4995    0.000\n",
      "4996    0.000\n",
      "4997   -0.221\n",
      "4998    1.226\n",
      "Name: PRI_jet_leading_eta, Length: 4999, dtype: float64\n"
     ]
    }
   ],
   "source": [
    "#Selecting columns\n",
    "print (data[\"PRI_jet_leading_eta\"])"
   ]
  },
  {
   "cell_type": "code",
   "execution_count": 16,
   "metadata": {},
   "outputs": [
    {
     "data": {
      "text/html": [
       "<div>\n",
       "<style>\n",
       "    .dataframe thead tr:only-child th {\n",
       "        text-align: right;\n",
       "    }\n",
       "\n",
       "    .dataframe thead th {\n",
       "        text-align: left;\n",
       "    }\n",
       "\n",
       "    .dataframe tbody tr th {\n",
       "        vertical-align: top;\n",
       "    }\n",
       "</style>\n",
       "<table border=\"1\" class=\"dataframe\">\n",
       "  <thead>\n",
       "    <tr style=\"text-align: right;\">\n",
       "      <th></th>\n",
       "      <th>Label</th>\n",
       "      <th>PRI_jet_leading_phi</th>\n",
       "      <th>PRI_jet_leading_eta</th>\n",
       "    </tr>\n",
       "  </thead>\n",
       "  <tbody>\n",
       "    <tr>\n",
       "      <th>5</th>\n",
       "      <td>b</td>\n",
       "      <td>-0.653</td>\n",
       "      <td>-2.412</td>\n",
       "    </tr>\n",
       "    <tr>\n",
       "      <th>6</th>\n",
       "      <td>s</td>\n",
       "      <td>1.450</td>\n",
       "      <td>0.864</td>\n",
       "    </tr>\n",
       "    <tr>\n",
       "      <th>7</th>\n",
       "      <td>s</td>\n",
       "      <td>-1.724</td>\n",
       "      <td>-0.715</td>\n",
       "    </tr>\n",
       "    <tr>\n",
       "      <th>8</th>\n",
       "      <td>b</td>\n",
       "      <td>0.000</td>\n",
       "      <td>0.000</td>\n",
       "    </tr>\n",
       "    <tr>\n",
       "      <th>9</th>\n",
       "      <td>s</td>\n",
       "      <td>-2.514</td>\n",
       "      <td>-2.767</td>\n",
       "    </tr>\n",
       "  </tbody>\n",
       "</table>\n",
       "</div>"
      ],
      "text/plain": [
       "  Label  PRI_jet_leading_phi  PRI_jet_leading_eta\n",
       "5     b               -0.653               -2.412\n",
       "6     s                1.450                0.864\n",
       "7     s               -1.724               -0.715\n",
       "8     b                0.000                0.000\n",
       "9     s               -2.514               -2.767"
      ]
     },
     "execution_count": 16,
     "metadata": {},
     "output_type": "execute_result"
    }
   ],
   "source": [
    "#Or everything at once\n",
    "data[[\"Label\",\"PRI_jet_leading_phi\",\"PRI_jet_leading_eta\"]][5:10]"
   ]
  },
  {
   "cell_type": "markdown",
   "metadata": {},
   "source": [
    "### Column's basically an array\n",
    "\n",
    "You can do anything you've done before with arrays - now with actual data."
   ]
  },
  {
   "cell_type": "code",
   "execution_count": 17,
   "metadata": {},
   "outputs": [
    {
     "data": {
      "text/plain": [
       "0    0.903041\n",
       "1    0.401172\n",
       "2   -0.441441\n",
       "3    1.000000\n",
       "4    1.000000\n",
       "Name: PRI_jet_leading_phi, dtype: float64"
      ]
     },
     "execution_count": 17,
     "metadata": {},
     "output_type": "execute_result"
    }
   ],
   "source": [
    "np.cos(data[\"PRI_jet_leading_phi\"])[:5]"
   ]
  },
  {
   "cell_type": "code",
   "execution_count": 18,
   "metadata": {},
   "outputs": [
    {
     "name": "stdout",
     "output_type": "stream",
     "text": [
      "sin^2(phi) + cos^2(phi) =  0       1.0\n",
      "1       1.0\n",
      "2       1.0\n",
      "3       1.0\n",
      "4       1.0\n",
      "5       1.0\n",
      "6       1.0\n",
      "7       1.0\n",
      "8       1.0\n",
      "9       1.0\n",
      "10      1.0\n",
      "11      1.0\n",
      "12      1.0\n",
      "13      1.0\n",
      "14      1.0\n",
      "15      1.0\n",
      "16      1.0\n",
      "17      1.0\n",
      "18      1.0\n",
      "19      1.0\n",
      "20      1.0\n",
      "21      1.0\n",
      "22      1.0\n",
      "23      1.0\n",
      "24      1.0\n",
      "25      1.0\n",
      "26      1.0\n",
      "27      1.0\n",
      "28      1.0\n",
      "29      1.0\n",
      "       ... \n",
      "4969    1.0\n",
      "4970    1.0\n",
      "4971    1.0\n",
      "4972    1.0\n",
      "4973    1.0\n",
      "4974    1.0\n",
      "4975    1.0\n",
      "4976    1.0\n",
      "4977    1.0\n",
      "4978    1.0\n",
      "4979    1.0\n",
      "4980    1.0\n",
      "4981    1.0\n",
      "4982    1.0\n",
      "4983    1.0\n",
      "4984    1.0\n",
      "4985    1.0\n",
      "4986    1.0\n",
      "4987    1.0\n",
      "4988    1.0\n",
      "4989    1.0\n",
      "4990    1.0\n",
      "4991    1.0\n",
      "4992    1.0\n",
      "4993    1.0\n",
      "4994    1.0\n",
      "4995    1.0\n",
      "4996    1.0\n",
      "4997    1.0\n",
      "4998    1.0\n",
      "Name: PRI_jet_leading_phi, Length: 4999, dtype: float64\n"
     ]
    }
   ],
   "source": [
    "phi = data[\"PRI_jet_leading_phi\"]\n",
    "print (\"sin^2(phi) + cos^2(phi) = \",np.sin(phi)**2+np.cos(phi)**2)"
   ]
  },
  {
   "cell_type": "markdown",
   "metadata": {},
   "source": [
    "### Numpy booleans and indexing"
   ]
  },
  {
   "cell_type": "code",
   "execution_count": 19,
   "metadata": {},
   "outputs": [
    {
     "name": "stdout",
     "output_type": "stream",
     "text": [
      "a==2 [False  True False False False]\n"
     ]
    }
   ],
   "source": [
    "#Logical operations are also elementwise\n",
    "print (\"a==2\", a==2)"
   ]
  },
  {
   "cell_type": "code",
   "execution_count": 24,
   "metadata": {},
   "outputs": [
    {
     "name": "stdout",
     "output_type": "stream",
     "text": [
      "Boolean ops\n",
      "a =  [1 2 3 4 5]\n",
      "b =  [5 4 3 2 1]\n",
      "a>2 [False False  True  True  True]\n",
      "numpy.logical_not(a>2) =  [ True  True False False False]\n",
      "numpy.logical_and(a>2,b>2) =  [False False  True False False]\n",
      "numpy.logical_or(a>4,b<3) =  [False False  True  True  True]\n",
      "\n",
      "Or simpler\n",
      "~(a>2) =  [ True  True False False False]\n",
      "(a>2)&(b>2) =  [False False  True False False]\n",
      "(a>2)|(b<3) =  [False False  True  True  True]\n"
     ]
    }
   ],
   "source": [
    "print (\"Boolean ops\")\n",
    "print (\"a = \",a)\n",
    "print (\"b = \",b)\n",
    "\n",
    "print (\"a>2\",a>2)                       #suports <, !=, <=, etc.\n",
    "print (\"numpy.logical_not(a>2) = \",     np.logical_not(a>2))\n",
    "print (\"numpy.logical_and(a>2,b>2) = \", np.logical_and(a>2,b>2))\n",
    "print (\"numpy.logical_or(a>4,b<3) = \",  np.logical_or(a>2,b<3))\n",
    "\n",
    "print (\"\\nOr simpler\")\n",
    "print (\"~(a>2) = \",~(a>2))               #like logical_not\n",
    "print (\"(a>2)&(b>2) = \", (a>2)&(b>2))    #lk logical_and\n",
    "print (\"(a>2)|(b<3) = \", (a>2)|(b<3))    #как logical_or\n",
    "\n",
    "\n"
   ]
  },
  {
   "cell_type": "code",
   "execution_count": 33,
   "metadata": {},
   "outputs": [
    {
     "name": "stdout",
     "output_type": "stream",
     "text": [
      "\n",
      "\n",
      "Selecting with booleans\n",
      "a =  [11  2  3  1 10]\n",
      "a >= 3  = [ True False  True False  True]\n",
      "a[a>=3] = [11  3 10]\n",
      "b[a>=3] = [5 3 1]\n",
      "numpy.where(a>=3) = (array([0, 2, 4]),)\n",
      "\n",
      "You can also select elements by their index\n",
      "a[[1,3,4]] =  [ 2  1 10]\n",
      "a[[1,2,2,3]] =  [2 3 3 1]\n",
      "a[numpy.where(a%2!=0)] =  [11  3  1]\n"
     ]
    }
   ],
   "source": [
    "print (\"\\n\\nSelecting with booleans\")\n",
    "\n",
    "a = np.array([11,2,3,1,10])\n",
    "\n",
    "#Selecting elements that match boolean predicate\n",
    "print (\"a = \",a)\n",
    "\n",
    "print (\"a >= 3  =\",a>=3)\n",
    "print (\"a[a>=3] =\", a[a>=3])\n",
    "print (\"b[a>=3] =\", b[a>=3])\n",
    "print (\"numpy.where(a>=3) =\",np.where(a>=3)) #indices where mask is True\n",
    "\n",
    "\n",
    "print (\"\\nYou can also select elements by their index\")\n",
    "print (\"a[[1,3,4]] = \", a[[1,3,4]])\n",
    "print (\"a[[1,2,2,3]] = \", a[[1,2,2,3]])                    #repeat a[2] twice\n",
    "print (\"a[numpy.where(a%2!=0)] = \", a[np.where(a%2!=0)])   #same as a[a%2!=0]"
   ]
  },
  {
   "cell_type": "markdown",
   "metadata": {},
   "source": [
    "### Doing stuff"
   ]
  },
  {
   "cell_type": "code",
   "execution_count": null,
   "metadata": {
    "collapsed": true
   },
   "outputs": [],
   "source": [
    "#Compute mean and standard deviation of PRI_jet_all_pt\n",
    "#of only those events where PRI_jet_num equals 2"
   ]
  },
  {
   "cell_type": "code",
   "execution_count": 36,
   "metadata": {},
   "outputs": [
    {
     "name": "stdout",
     "output_type": "stream",
     "text": [
      "Mean:  148.290403967\n",
      "Std Dev:  79.3736166797\n"
     ]
    }
   ],
   "source": [
    "print('Mean: ', np.mean(data['PRI_jet_all_pt'].where(data['PRI_jet_num']==2)))\n",
    "print('Std Dev: ', np.std(data['PRI_jet_all_pt'].where(data['PRI_jet_num']==2)))"
   ]
  },
  {
   "cell_type": "code",
   "execution_count": 54,
   "metadata": {},
   "outputs": [
    {
     "data": {
      "text/html": [
       "<div>\n",
       "<style>\n",
       "    .dataframe thead tr:only-child th {\n",
       "        text-align: right;\n",
       "    }\n",
       "\n",
       "    .dataframe thead th {\n",
       "        text-align: left;\n",
       "    }\n",
       "\n",
       "    .dataframe tbody tr th {\n",
       "        vertical-align: top;\n",
       "    }\n",
       "</style>\n",
       "<table border=\"1\" class=\"dataframe\">\n",
       "  <thead>\n",
       "    <tr style=\"text-align: right;\">\n",
       "      <th></th>\n",
       "      <th>EventId</th>\n",
       "      <th>DER_mass_MMC</th>\n",
       "      <th>DER_mass_transverse_met_lep</th>\n",
       "      <th>DER_mass_vis</th>\n",
       "      <th>DER_pt_h</th>\n",
       "      <th>DER_deltaeta_jet_jet</th>\n",
       "      <th>DER_mass_jet_jet</th>\n",
       "      <th>DER_prodeta_jet_jet</th>\n",
       "      <th>DER_deltar_tau_lep</th>\n",
       "      <th>DER_pt_tot</th>\n",
       "      <th>...</th>\n",
       "      <th>PRI_jet_num</th>\n",
       "      <th>PRI_jet_leading_pt</th>\n",
       "      <th>PRI_jet_leading_eta</th>\n",
       "      <th>PRI_jet_leading_phi</th>\n",
       "      <th>PRI_jet_subleading_pt</th>\n",
       "      <th>PRI_jet_subleading_eta</th>\n",
       "      <th>PRI_jet_subleading_phi</th>\n",
       "      <th>PRI_jet_all_pt</th>\n",
       "      <th>Weight</th>\n",
       "      <th>Label</th>\n",
       "    </tr>\n",
       "  </thead>\n",
       "  <tbody>\n",
       "    <tr>\n",
       "      <th>414</th>\n",
       "      <td>100414</td>\n",
       "      <td>123.448</td>\n",
       "      <td>2.079</td>\n",
       "      <td>46.031</td>\n",
       "      <td>470.862</td>\n",
       "      <td>0.0</td>\n",
       "      <td>0.0</td>\n",
       "      <td>0.0</td>\n",
       "      <td>0.532</td>\n",
       "      <td>19.0</td>\n",
       "      <td>...</td>\n",
       "      <td>1</td>\n",
       "      <td>467.913</td>\n",
       "      <td>-2.082</td>\n",
       "      <td>-2.722</td>\n",
       "      <td>0.0</td>\n",
       "      <td>0.0</td>\n",
       "      <td>0.0</td>\n",
       "      <td>467.913</td>\n",
       "      <td>0.002653</td>\n",
       "      <td>s</td>\n",
       "    </tr>\n",
       "  </tbody>\n",
       "</table>\n",
       "<p>1 rows × 33 columns</p>\n",
       "</div>"
      ],
      "text/plain": [
       "     EventId  DER_mass_MMC  DER_mass_transverse_met_lep  DER_mass_vis  \\\n",
       "414   100414       123.448                        2.079        46.031   \n",
       "\n",
       "     DER_pt_h  DER_deltaeta_jet_jet  DER_mass_jet_jet  DER_prodeta_jet_jet  \\\n",
       "414   470.862                   0.0               0.0                  0.0   \n",
       "\n",
       "     DER_deltar_tau_lep  DER_pt_tot  ...    PRI_jet_num  PRI_jet_leading_pt  \\\n",
       "414               0.532        19.0  ...              1             467.913   \n",
       "\n",
       "     PRI_jet_leading_eta  PRI_jet_leading_phi  PRI_jet_subleading_pt  \\\n",
       "414               -2.082               -2.722                    0.0   \n",
       "\n",
       "     PRI_jet_subleading_eta  PRI_jet_subleading_phi  PRI_jet_all_pt    Weight  \\\n",
       "414                     0.0                     0.0         467.913  0.002653   \n",
       "\n",
       "     Label  \n",
       "414      s  \n",
       "\n",
       "[1 rows x 33 columns]"
      ]
     },
     "execution_count": 54,
     "metadata": {},
     "output_type": "execute_result"
    }
   ],
   "source": [
    "#Find the data row with largest PRI_jet_all_pt among those where PRI_jet_num equals 1,\n",
    "#Print that row\n",
    "cut = data[data['PRI_jet_num']==1] #selection of all rows where PRI_jet_num =1\n",
    "max = np.max(cut['PRI_jet_all_pt']) #max value of PRI_jet_all_pt\n",
    "cut[cut['PRI_jet_all_pt']==max]"
   ]
  },
  {
   "cell_type": "markdown",
   "metadata": {},
   "source": [
    "### More numpy\n",
    "\n",
    "* Full reference aka docs [[here]](https://docs.scipy.org/doc/numpy/reference/)\n",
    "* Cheat sheet - [[here]](https://pbs.twimg.com/media/C23mQfaWEAAGzBn.jpg)\n",
    "* Usually you can make your way with tab-ing and shift-tab-ing and following your gut feeling.\n",
    " * This is likely not the most efficient way to do so."
   ]
  },
  {
   "cell_type": "code",
   "execution_count": 55,
   "metadata": {},
   "outputs": [
    {
     "name": "stdout",
     "output_type": "stream",
     "text": [
      "Special numpy array creators:\n",
      "np.zeros(6) =  [ 0.  0.  0.  0.  0.  0.]\n",
      "np.ones(6) =  [ 1.  1.  1.  1.  1.  1.]\n",
      "np.zeros_like(a) =  [0 0 0 0 0]\n",
      "\n",
      "\n",
      "np.arange(5) =  [0 1 2 3 4]\n",
      "np.linspace(0,5,10) =  [ 0.   0.5  1.   1.5  2.   2.5  3.   3.5  4.   4.5  5. ]\n",
      "np.random.normal(0,0.1,10) =  [-0.12281608  0.08727979 -0.07855873]\n",
      "Shapes\n",
      "v =  [0 1 2 3 4 5]\n",
      "np.reshape(v,[2,3]) = \n",
      " [[0 1 2]\n",
      " [3 4 5]]\n",
      "np.reshape(v,[2,-1]) = \n",
      " [[0 1 2]\n",
      " [3 4 5]]\n",
      "np.reshape(v,[10,1]) = \n",
      " [[0]\n",
      " [1]\n",
      " [2]\n",
      " [3]\n",
      " [4]\n",
      " [5]]\n",
      "v[:,None] = \n",
      " [[0]\n",
      " [1]\n",
      " [2]\n",
      " [3]\n",
      " [4]\n",
      " [5]]\n"
     ]
    }
   ],
   "source": [
    "#More useful things in numpy:\n",
    "\n",
    "print(\"Special numpy array creators:\")\n",
    "print(\"np.zeros(6) = \",np.zeros(6))\n",
    "print(\"np.ones(6) = \",np.ones(6))                 #or you could use np.zeros(7) + 1\n",
    "print(\"np.zeros_like(a) = \",np.zeros_like(a))\n",
    "\n",
    "print(\"\\n\")\n",
    "print(\"np.arange(5) = \",np.arange(5))\n",
    "print(\"np.linspace(0,5,10) = \",np.linspace(0,5,num=11))\n",
    "print(\"np.random.normal(0,0.1,10) = \",np.random.normal(0,0.1,size=3)) \n",
    "\n",
    "\n",
    "print(\"Shapes\")\n",
    "v = np.arange(6)\n",
    "print(\"v = \",v)\n",
    "print(\"np.reshape(v,[2,3]) = \\n\",np.reshape(v,[2,3]))\n",
    "print(\"np.reshape(v,[2,-1]) = \\n\",np.reshape(v,[2,-1]))   #means \"Figure that last dimension out by yourself\"\n",
    "\n",
    "print(\"np.reshape(v,[10,1]) = \\n\",np.reshape(v,[6,1]))\n",
    "print(\"v[:,None] = \\n\",v[:,None])"
   ]
  },
  {
   "cell_type": "code",
   "execution_count": 56,
   "metadata": {},
   "outputs": [
    {
     "name": "stdout",
     "output_type": "stream",
     "text": [
      "mat = \n",
      " [[0 1]\n",
      " [2 3]\n",
      " [4 5]]\n",
      "mat.shape = (3, 2)\n",
      "mat[2,1] =  5\n",
      "mat[:,0] =  [0 2 4]\n",
      "mat[0:2,1] =  [0 2]\n",
      "\n",
      "Axes:\n",
      "np.sum(mat) =  15\n",
      "np.sum(mat,axis=0) =  [6 9]\n",
      "np.sum(mat,axis=1) =  [1 5 9]\n"
     ]
    }
   ],
   "source": [
    "#Multi-dimensional arrays work exactly as 1d ones, but with more axes\n",
    "mat = np.reshape(v,[3,2])\n",
    "print(\"mat = \\n\",mat)\n",
    "print(\"mat.shape =\",mat.shape)\n",
    "print(\"mat[2,1] = \",mat[2,1])  #second row, first element, both starting from 0\n",
    "print(\"mat[:,0] = \",mat[:,0])  #first column\n",
    "print(\"mat[0:2,1] = \",mat[0:2,0])  #two elems of second column\n",
    "\n",
    "\n",
    "print(\"\\nAxes:\")\n",
    "print(\"np.sum(mat) = \",np.sum(mat))\n",
    "print(\"np.sum(mat,axis=0) = \",np.sum(mat,axis=0))\n",
    "print(\"np.sum(mat,axis=1) = \",np.sum(mat,axis=1))\n"
   ]
  },
  {
   "cell_type": "code",
   "execution_count": 57,
   "metadata": {},
   "outputs": [
    {
     "name": "stdout",
     "output_type": "stream",
     "text": [
      "A glimpse into broadcasting\n",
      "np.reshape(v,[6,1]) + np.reshape(v,[1,6]) = \n",
      " [[ 0  1  2  3  4  5]\n",
      " [ 1  2  3  4  5  6]\n",
      " [ 2  3  4  5  6  7]\n",
      " [ 3  4  5  6  7  8]\n",
      " [ 4  5  6  7  8  9]\n",
      " [ 5  6  7  8  9 10]]\n"
     ]
    }
   ],
   "source": [
    "print(\"A glimpse into broadcasting\")\n",
    "print(\"np.reshape(v,[6,1]) + np.reshape(v,[1,6]) = \\n\",np.reshape(v,[6,1]) + np.reshape(v,[1,6]))"
   ]
  },
  {
   "cell_type": "code",
   "execution_count": 58,
   "metadata": {},
   "outputs": [
    {
     "name": "stdout",
     "output_type": "stream",
     "text": [
      "matrix shape = (3, 2)\n",
      "vector shape = (2,)\n",
      "Result:\n",
      "[[ 0.          0.33333333]\n",
      " [ 1.          1.        ]\n",
      " [ 2.          1.66666667]]\n"
     ]
    }
   ],
   "source": [
    "#In short, you can divide(elem-wise) matrix by a row vector \n",
    "#or perform any operation when two arrays share last axes\n",
    "print(\"matrix shape =\",mat.shape)\n",
    "print(\"vector shape =\",np.mean(mat,axis=0).shape)\n",
    "print(\"Result:\")\n",
    "\n",
    "print(mat / np.mean(mat,axis=0))\n",
    "\n"
   ]
  },
  {
   "cell_type": "code",
   "execution_count": null,
   "metadata": {},
   "outputs": [],
   "source": [
    "#So for example, you can't divide matrix by a column vector...\n",
    "\n",
    "print(\"matrix shape =\",mat.shape)\n",
    "print(\"vector shape =\",np.mean(mat,axis=1).shape)\n",
    "print(\"Result:\")\n",
    "\n",
    "print(mat / np.mean(mat,axis=1))"
   ]
  },
  {
   "cell_type": "code",
   "execution_count": null,
   "metadata": {},
   "outputs": [],
   "source": [
    "#... but you can replace vector with a single-column matrix \n",
    "# because the final axis is gonna be broadcasted\n",
    "\n",
    "print(\"matrix shape =\",mat.shape)\n",
    "print(\"vector shape =\",np.mean(mat,axis=1).reshape([3,1]).shape)\n",
    "print(\"Result:\")\n",
    "\n",
    "mat / np.mean(mat,axis=1).reshape([3,1])"
   ]
  },
  {
   "cell_type": "markdown",
   "metadata": {},
   "source": [
    "# The quest"
   ]
  },
  {
   "cell_type": "code",
   "execution_count": null,
   "metadata": {},
   "outputs": [],
   "source": [
    "matrix = data[[\"DER_mass_MMC\",\"DER_mass_transverse_met_lep\",\"DER_mass_vis\",\"DER_pt_h\"]].values\n",
    "matrix"
   ]
  },
  {
   "cell_type": "markdown",
   "metadata": {},
   "source": [
    "__Normalize the matrix:__ subtract from each column its mean and divide by the standard deviation. \n",
    "\n",
    "I suggest np.mean, np.std with axis parameter."
   ]
  },
  {
   "cell_type": "code",
   "execution_count": null,
   "metadata": {
    "collapsed": true
   },
   "outputs": [],
   "source": [
    "matrix_normalized = <your code>"
   ]
  },
  {
   "cell_type": "code",
   "execution_count": null,
   "metadata": {},
   "outputs": [],
   "source": [
    "print(\"Sanity check, print new mean and new std for each column\")\n",
    "<your code>"
   ]
  },
  {
   "cell_type": "markdown",
   "metadata": {},
   "source": [
    "Print for the following matrix row numbers for those rows, where row sum is greater than 1. \n",
    "I suggest np.sum and np.where."
   ]
  },
  {
   "cell_type": "code",
   "execution_count": null,
   "metadata": {},
   "outputs": [],
   "source": [
    "<your code>"
   ]
  },
  {
   "cell_type": "markdown",
   "metadata": {},
   "source": [
    "```\n",
    "\n",
    "```\n",
    "```\n",
    "\n",
    "```\n",
    "```\n",
    "\n",
    "```\n",
    "```\n",
    "\n",
    "```\n",
    "```\n",
    "\n",
    "```\n",
    "```\n",
    "\n",
    "```\n",
    "```\n",
    "\n",
    "```\n",
    "```\n",
    "\n",
    "```\n",
    "```\n",
    "\n",
    "```\n",
    "```\n",
    "\n",
    "```\n",
    "```\n",
    "\n",
    "```\n",
    "```\n",
    "\n",
    "```\n",
    "```\n",
    "\n",
    "```\n"
   ]
  },
  {
   "cell_type": "markdown",
   "metadata": {},
   "source": [
    "## Performance stuff: \"how fast is it, Harry?\"\n",
    "![img](http://statics.viralizalo.com/virs/2016/02/VIR_155188_11939_harry_potter_y_el_prisionero_de_azkaban_test_solo_para_fans.jpg?cb=383)\n",
    "\n",
    "\n",
    "Let's see if numpy is any faster than loops\n",
    "\n",
    "* Doing some elementwise ops\n",
    "* Three options\n",
    " * Pure python\n",
    " * Start python, convert to numpy\n",
    " * Pure numpy\n",
    "\n"
   ]
  },
  {
   "cell_type": "code",
   "execution_count": null,
   "metadata": {},
   "outputs": [],
   "source": [
    "%%time\n",
    "#This cell magic prints the time it took to run the cell\n",
    "\n",
    "\n",
    "#Pure python\n",
    "\n",
    "arr_1 = range(1000000)\n",
    "arr_2 = range(99,1000099)\n",
    "\n",
    "\n",
    "a_sum = []\n",
    "a_prod = []\n",
    "sqrt_a1 = []\n",
    "\n",
    "#elementwise sum/prod/sqrt\n",
    "for i in range(len(arr_1)):\n",
    "    a_sum.append(arr_1[i]+arr_2[i])\n",
    "    a_prod.append(arr_1[i]*arr_2[i])\n",
    "    a_sum.append(arr_1[i]**0.5)\n",
    "    \n",
    "#sum of all elements of arr_1\n",
    "arr_1_sum = sum(arr_1)\n"
   ]
  },
  {
   "cell_type": "code",
   "execution_count": null,
   "metadata": {},
   "outputs": [],
   "source": [
    "%%time\n",
    "\n",
    "#start with list, convert to numpy\n",
    "arr_1 = range(1000000)\n",
    "arr_2 = range(99,1000099)\n",
    "\n",
    "arr_1, arr_2 = np.array(arr_1) , np.array(arr_2)\n",
    "\n",
    "\n",
    "a_sum = arr_1 + arr_2\n",
    "a_prod = arr_1*arr_2\n",
    "sqrt_a1 = arr_1**.5\n",
    "\n",
    "np.sum(arr_1)\n"
   ]
  },
  {
   "cell_type": "code",
   "execution_count": null,
   "metadata": {},
   "outputs": [],
   "source": [
    "%%time\n",
    "\n",
    "# Pure numpy\n",
    "arr_1 = np.arange(1000000)\n",
    "arr_2 = np.arange(99,1000099)\n",
    "\n",
    "a_sum = arr_1 + arr_2\n",
    "a_prod = arr_1*arr_2\n",
    "sqrt_a1 = arr_1**.5\n",
    "\n",
    "np.sum(arr_1)\n"
   ]
  },
  {
   "cell_type": "markdown",
   "metadata": {},
   "source": [
    "```\n",
    "\n",
    "```\n",
    "```\n",
    "\n",
    "```\n",
    "```\n",
    "\n",
    "```\n",
    "```\n",
    "\n",
    "```\n",
    "```\n",
    "\n",
    "```\n",
    "```\n",
    "\n",
    "```\n",
    "```\n",
    "\n",
    "```\n",
    "```\n",
    "\n",
    "```\n",
    "```\n",
    "\n",
    "```\n",
    "```\n",
    "\n",
    "```\n",
    "```\n",
    "\n",
    "```\n",
    "```\n",
    "\n",
    "```\n",
    "```\n",
    "\n",
    "```\n"
   ]
  },
  {
   "cell_type": "markdown",
   "metadata": {},
   "source": [
    "# Matplotlib\n",
    "\n",
    "Simple and powerful plotting to make sense of data.\n",
    "\n",
    "![img](https://imgs.xkcd.com/comics/extrapolating.png)\n"
   ]
  },
  {
   "cell_type": "code",
   "execution_count": null,
   "metadata": {
    "scrolled": true
   },
   "outputs": [],
   "source": [
    "import matplotlib.pyplot as plt\n",
    "#VV This is an official \"magic\" to force plots inside your notebook\n",
    "%matplotlib inline                \n",
    "\n",
    "#line plot\n",
    "plt.plot([0,1,2,3,4,5],[0,1,4,9,16,25])"
   ]
  },
  {
   "cell_type": "code",
   "execution_count": null,
   "metadata": {},
   "outputs": [],
   "source": [
    "#line plot with better formatting\n",
    "\n",
    "plt.title(\"Super-plot\")\n",
    "\n",
    "plt.xlabel(\"Number of layers\")\n",
    "plt.ylabel(\"Coolness\")\n",
    "\n",
    "plt.plot([0,1,2,3,4,5],[0,1,4,9,16,25],marker='o',label='super-curve')\n",
    "\n",
    "plt.legend(loc='best')\n",
    "plt.grid()"
   ]
  },
  {
   "cell_type": "code",
   "execution_count": null,
   "metadata": {},
   "outputs": [],
   "source": [
    "#scatter-plot\n",
    "\n",
    "#draw first plot\n",
    "plt.scatter(np.arange(10),np.arange(10)**2)     #just to show that np-arrays are allowed\n",
    "\n",
    "#Show it, start new plot\n",
    "plt.show()\n",
    "\n",
    "#Draw two scatters in one plot\n",
    "plt.scatter([1,1,2,3],[10,12,6,20],c = [\"red\",\"blue\",\"blue\",\"green\"],marker = \"x\")\n",
    "plt.scatter([0,1,2,3,4,5],[0,1,4,9,16,25],c = \"black\")\n"
   ]
  },
  {
   "cell_type": "code",
   "execution_count": null,
   "metadata": {},
   "outputs": [],
   "source": [
    "#Histogram\n",
    "plt.hist([0,1,1,1,2,2,3,3,3,3,3,4,4,5,5,5,6,7,7,8,9,10])\n",
    "plt.show()\n",
    "\n",
    "\n",
    "plt.hist([0,1,1,1,2,2,3,3,3,3,3,4,4,5,5,5,6,7,7,8,9,10],bins = 5) \n",
    "\n",
    "\n",
    "#now gently press shift+tab+tab with cursor inside plt.hist  -^^"
   ]
  },
  {
   "cell_type": "code",
   "execution_count": null,
   "metadata": {},
   "outputs": [],
   "source": [
    "#plot a histogram of PRI_jet_leading_pt\n",
    "\n",
    "<your code>\n",
    "\n",
    "#bonus: separate histograms for PRI_jet_leading_pt where PRI_jet_num equals 0,1,2 and 3 respectively\n"
   ]
  },
  {
   "cell_type": "code",
   "execution_count": null,
   "metadata": {},
   "outputs": [],
   "source": [
    "#make a scatter-plot of DER_mass_MMC vs DER_mass_jet_jet\n",
    "\n",
    "<your code here>\n",
    "\n",
    "#bonus: make it as clear as possible with formatting"
   ]
  },
  {
   "cell_type": "markdown",
   "metadata": {},
   "source": [
    "### More matplotlib\n",
    "\n",
    "* Docs - [[url]](https://matplotlib.org/2.0.2/contents.html)\n",
    "* Cheat sheet - [[url]](https://s3.amazonaws.com/assets.datacamp.com/blog_assets/Python_Matplotlib_Cheat_Sheet.pdf)\n",
    "* Examples - [[url]](https://matplotlib.org/examples/)"
   ]
  },
  {
   "cell_type": "code",
   "execution_count": null,
   "metadata": {
    "collapsed": true
   },
   "outputs": [],
   "source": [
    "#Final boss - find a way to display a 2-dimensional histogram \n",
    "#of DER_mass_MMC vs DER_mass_jet_jet"
   ]
  },
  {
   "cell_type": "markdown",
   "metadata": {},
   "source": [
    "```\n",
    "\n",
    "```\n",
    "```\n",
    "\n",
    "```\n",
    "```\n",
    "\n",
    "```\n",
    "```\n",
    "\n",
    "```\n",
    "```\n",
    "\n",
    "```\n",
    "```\n",
    "\n",
    "```\n",
    "```\n",
    "\n",
    "```\n",
    "```\n",
    "\n",
    "```\n",
    "```\n",
    "\n",
    "```\n",
    "```\n",
    "\n",
    "```\n",
    "```\n",
    "\n",
    "```\n",
    "```\n",
    "\n",
    "```\n",
    "```\n",
    "\n",
    "```\n",
    "\n",
    "<center>You made it!</center>\n",
    "\n",
    "![img](https://pbs.twimg.com/media/CrHblh9WgAEoH1u.jpg)"
   ]
  }
 ],
 "metadata": {
  "kernelspec": {
   "display_name": "Python 2",
   "language": "python",
   "name": "python2"
  },
  "language_info": {
   "codemirror_mode": {
    "name": "ipython",
    "version": 2
   },
   "file_extension": ".py",
   "mimetype": "text/x-python",
   "name": "python",
   "nbconvert_exporter": "python",
   "pygments_lexer": "ipython2",
   "version": "2.7.13"
  }
 },
 "nbformat": 4,
 "nbformat_minor": 1
}
