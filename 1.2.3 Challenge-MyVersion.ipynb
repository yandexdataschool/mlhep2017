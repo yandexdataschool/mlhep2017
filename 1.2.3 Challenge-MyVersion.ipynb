{
 "cells": [
  {
   "cell_type": "code",
   "execution_count": 3,
   "metadata": {
    "collapsed": true
   },
   "outputs": [],
   "source": [
    "import numpy as np\n",
    "import pandas as pd\n",
    "\n",
    "from matplotlib import pyplot as plt\n",
    "%matplotlib inline"
   ]
  },
  {
   "cell_type": "markdown",
   "metadata": {},
   "source": [
    "### Challenge baseline"
   ]
  },
  {
   "cell_type": "code",
   "execution_count": 4,
   "metadata": {},
   "outputs": [
    {
     "name": "stderr",
     "output_type": "stream",
     "text": [
      "/opt/conda/lib/python3.6/site-packages/numpy/lib/arraysetops.py:395: FutureWarning: elementwise comparison failed; returning scalar instead, but in the future will perform elementwise comparison\n",
      "  mask |= (ar1 == a)\n"
     ]
    },
    {
     "data": {
      "text/html": [
       "<div>\n",
       "<style>\n",
       "    .dataframe thead tr:only-child th {\n",
       "        text-align: right;\n",
       "    }\n",
       "\n",
       "    .dataframe thead th {\n",
       "        text-align: left;\n",
       "    }\n",
       "\n",
       "    .dataframe tbody tr th {\n",
       "        vertical-align: top;\n",
       "    }\n",
       "</style>\n",
       "<table border=\"1\" class=\"dataframe\">\n",
       "  <thead>\n",
       "    <tr style=\"text-align: right;\">\n",
       "      <th></th>\n",
       "      <th>event_id</th>\n",
       "      <th>X</th>\n",
       "      <th>Y</th>\n",
       "      <th>Z</th>\n",
       "      <th>TX</th>\n",
       "      <th>TY</th>\n",
       "      <th>chi2</th>\n",
       "      <th>signal</th>\n",
       "    </tr>\n",
       "    <tr>\n",
       "      <th>index</th>\n",
       "      <th></th>\n",
       "      <th></th>\n",
       "      <th></th>\n",
       "      <th></th>\n",
       "      <th></th>\n",
       "      <th></th>\n",
       "      <th></th>\n",
       "      <th></th>\n",
       "    </tr>\n",
       "  </thead>\n",
       "  <tbody>\n",
       "    <tr>\n",
       "      <th>0</th>\n",
       "      <td>-999</td>\n",
       "      <td>42720.238281</td>\n",
       "      <td>75152.406250</td>\n",
       "      <td>32325.0</td>\n",
       "      <td>-0.475539</td>\n",
       "      <td>0.405506</td>\n",
       "      <td>2.652586</td>\n",
       "      <td>0.0</td>\n",
       "    </tr>\n",
       "    <tr>\n",
       "      <th>1</th>\n",
       "      <td>-999</td>\n",
       "      <td>46023.816406</td>\n",
       "      <td>37043.359375</td>\n",
       "      <td>21981.0</td>\n",
       "      <td>0.330822</td>\n",
       "      <td>-0.013988</td>\n",
       "      <td>2.497527</td>\n",
       "      <td>0.0</td>\n",
       "    </tr>\n",
       "    <tr>\n",
       "      <th>2</th>\n",
       "      <td>-999</td>\n",
       "      <td>52706.117188</td>\n",
       "      <td>33872.730469</td>\n",
       "      <td>16809.0</td>\n",
       "      <td>0.342634</td>\n",
       "      <td>-0.058724</td>\n",
       "      <td>2.120421</td>\n",
       "      <td>0.0</td>\n",
       "    </tr>\n",
       "    <tr>\n",
       "      <th>3</th>\n",
       "      <td>-999</td>\n",
       "      <td>47334.101562</td>\n",
       "      <td>9698.531250</td>\n",
       "      <td>60771.0</td>\n",
       "      <td>0.007868</td>\n",
       "      <td>-0.632822</td>\n",
       "      <td>0.618535</td>\n",
       "      <td>0.0</td>\n",
       "    </tr>\n",
       "    <tr>\n",
       "      <th>4</th>\n",
       "      <td>-999</td>\n",
       "      <td>67380.835938</td>\n",
       "      <td>19137.265625</td>\n",
       "      <td>37497.0</td>\n",
       "      <td>-0.212537</td>\n",
       "      <td>-0.192243</td>\n",
       "      <td>2.799303</td>\n",
       "      <td>0.0</td>\n",
       "    </tr>\n",
       "  </tbody>\n",
       "</table>\n",
       "</div>"
      ],
      "text/plain": [
       "       event_id             X             Y        Z        TX        TY  \\\n",
       "index                                                                      \n",
       "0          -999  42720.238281  75152.406250  32325.0 -0.475539  0.405506   \n",
       "1          -999  46023.816406  37043.359375  21981.0  0.330822 -0.013988   \n",
       "2          -999  52706.117188  33872.730469  16809.0  0.342634 -0.058724   \n",
       "3          -999  47334.101562   9698.531250  60771.0  0.007868 -0.632822   \n",
       "4          -999  67380.835938  19137.265625  37497.0 -0.212537 -0.192243   \n",
       "\n",
       "           chi2  signal  \n",
       "index                    \n",
       "0      2.652586     0.0  \n",
       "1      2.497527     0.0  \n",
       "2      2.120421     0.0  \n",
       "3      0.618535     0.0  \n",
       "4      2.799303     0.0  "
      ]
     },
     "execution_count": 4,
     "metadata": {},
     "output_type": "execute_result"
    }
   ],
   "source": [
    "df = pd.read_csv('/data_mlhep2017/episode1/DS_1_train.csv', index_col=0)\n",
    "\n",
    "df.head()"
   ]
  },
  {
   "cell_type": "markdown",
   "metadata": {},
   "source": [
    "### Build a train dataset\n",
    "Ideally, you could design features here that improve model performance. \n",
    "\n",
    "Baseline, however, simply takes some of the features while also balansing classes."
   ]
  },
  {
   "cell_type": "code",
   "execution_count": 5,
   "metadata": {},
   "outputs": [
    {
     "name": "stdout",
     "output_type": "stream",
     "text": [
      "         event_id             X             Y        Z        TX        TY  \\\n",
      "index                                                                        \n",
      "29            411  53290.710938  22941.925781  63357.0 -0.258045  0.710882   \n",
      "32          27354  36921.367188  21285.517578  72408.0 -0.924607  0.819380   \n",
      "37           5586  43593.214844  56103.648438  45255.0 -0.330734 -0.467480   \n",
      "39           3009  54343.628906  49445.316406  42669.0  0.242685 -0.080539   \n",
      "41            739  41051.804688  34390.445312  60771.0  0.035552 -0.042680   \n",
      "54          11904  64761.464844  17699.648438  60771.0  0.240346 -0.219322   \n",
      "59          12128  51462.656250  68327.703125  62064.0 -0.219973  0.124991   \n",
      "72          32733  59579.835938  51586.804688  46548.0 -0.673363 -0.461440   \n",
      "78           9240  48817.488281  23558.681641  54306.0  0.405901 -0.005157   \n",
      "89           5207  58450.824219  22339.125000  65943.0  0.149967 -0.249837   \n",
      "97           7027  60456.890625   5661.429688  62064.0  0.499470 -0.447400   \n",
      "102         30603  47425.945312  15985.406250  38790.0 -0.182557  0.472861   \n",
      "186         45475  53606.976562  53010.394531  56892.0  0.070973 -0.003218   \n",
      "200           411  54048.312500  21494.039062  67236.0 -0.212128  0.848217   \n",
      "210          4433  53812.316406  57231.003906  37497.0 -0.047838  0.129041   \n",
      "221          1133  55939.394531  32689.175781  34911.0  0.051860  0.128344   \n",
      "246          5586  45528.929688  54812.765625  53013.0  0.035212 -0.132282   \n",
      "257         37107  60007.121094  63643.367188  56892.0  0.180650  0.193029   \n",
      "326         43358  50990.492188  54432.421875  41376.0 -0.254771 -0.316132   \n",
      "330         18087  45956.875000  43743.750000  68529.0 -0.127572 -0.493890   \n",
      "374         27354  37792.062500  20716.246094  71115.0 -0.057082  0.365918   \n",
      "383          5586  44714.421875  56690.382812  41376.0 -0.328511  0.074312   \n",
      "404          5422  52821.984375  49358.714844  42669.0 -0.918055 -0.156543   \n",
      "419           411  54261.937500  19153.699219  46548.0 -0.058761  0.044806   \n",
      "463         24423  38729.746094  36881.312500  46548.0 -0.070229  0.101153   \n",
      "466          7027  49298.164062  17841.828125  25860.0 -0.433561 -0.015909   \n",
      "471          1919  35019.300781  65076.414062  58185.0 -0.033231  0.017778   \n",
      "517          6551  65063.785156   9635.554688  14223.0  0.012281  0.012560   \n",
      "532          6654  59562.292969  38198.472656  58185.0 -0.060286  0.052581   \n",
      "575         33524  54406.242188  40971.804688  40083.0 -0.112835  0.408715   \n",
      "...           ...           ...           ...      ...       ...       ...   \n",
      "1122434      5586  45374.414062  55948.066406  28446.0 -0.046187  0.096047   \n",
      "1122455     25308  42181.851562  23863.396484  25860.0 -0.018876  0.602041   \n",
      "1122473     49513  62568.113281  61551.562500  49134.0  0.159887  0.307915   \n",
      "1122502      3009  53396.671875  49668.734375  33618.0  0.072791  0.026762   \n",
      "1122503      7069  53138.531250  23499.007812  46548.0 -0.094150 -0.382892   \n",
      "1122507     33889  46854.746094  43178.460938  65943.0 -0.064560 -0.045587   \n",
      "1122514     39553  45695.093750  39055.101562  28446.0 -0.156896  0.088374   \n",
      "1122523      1919  35756.222656  64658.230469  46548.0 -0.099023  0.016560   \n",
      "1122524      5207  58019.453125  22384.091797  47841.0  0.269573  0.130483   \n",
      "1122608     26733  38734.714844  35700.867188  40083.0 -0.066606  0.155157   \n",
      "1122622      5422  57558.437500  49631.480469  31032.0  0.395275  0.130608   \n",
      "1122647     34649  57590.750000  39787.093750  49134.0  0.468945 -0.618094   \n",
      "1122672     35611  49083.320312  56293.476562  53013.0  0.069964  0.535054   \n",
      "1122684     38720  46135.953125  41587.324219  27153.0 -0.224279 -0.159166   \n",
      "1122705     34718  48214.363281  70024.140625  51720.0 -0.098010  0.100288   \n",
      "1122718      3009  55216.203125  50480.964844  55599.0  0.173200  0.037900   \n",
      "1122788     26280  39993.335938  60523.960938  72408.0 -0.060645  0.310124   \n",
      "1122792       411  54323.503906  20528.251953  62064.0  0.087179  0.105157   \n",
      "1122810     43311  45663.179688  16534.195312  69822.0 -0.231092 -0.114458   \n",
      "1122881     14007  47561.000000  54925.285156  68529.0  0.016090  0.112347   \n",
      "1122891     36589  56563.601562  32084.169922  58185.0  0.199223  0.118662   \n",
      "1122929     43048  41680.500000  38943.261719  29739.0 -0.307715 -0.884074   \n",
      "1122960       876  32057.470703  63536.312500  64650.0 -0.056450 -0.036454   \n",
      "1122964     11548  40972.992188  28150.652344  56892.0  0.345159  0.450670   \n",
      "1122970       411  54430.261719  20531.347656  60771.0  0.057324  0.362365   \n",
      "1122993     38637  52802.429688  33382.281250  37497.0 -0.044029  0.095331   \n",
      "1123080       739  40421.871094  34129.804688  53013.0 -0.212207  0.045536   \n",
      "1123114     32733  59580.937500  52974.652344  40083.0 -0.153748 -0.051656   \n",
      "1123120     10944  41956.843750  56502.960938  56892.0  0.411779  0.038128   \n",
      "1123122     24423  38744.496094  39901.222656  69822.0  0.013528  0.164941   \n",
      "\n",
      "             chi2  signal  \n",
      "index                      \n",
      "29       1.846556     1.0  \n",
      "32       0.849372     1.0  \n",
      "37       0.646188     1.0  \n",
      "39       0.413605     1.0  \n",
      "41       0.670655     1.0  \n",
      "54       1.420088     1.0  \n",
      "59       0.368002     1.0  \n",
      "72       1.255516     1.0  \n",
      "78       0.756339     1.0  \n",
      "89       1.175732     1.0  \n",
      "97       1.408221     1.0  \n",
      "102      0.615726     1.0  \n",
      "186      1.811260     1.0  \n",
      "200      0.276276     1.0  \n",
      "210      0.482437     1.0  \n",
      "221      0.473242     1.0  \n",
      "246      1.421623     1.0  \n",
      "257      1.105637     1.0  \n",
      "326      0.818297     1.0  \n",
      "330      1.024425     1.0  \n",
      "374      1.497981     1.0  \n",
      "383      0.677213     1.0  \n",
      "404      0.756889     1.0  \n",
      "419      0.946251     1.0  \n",
      "463      1.137066     1.0  \n",
      "466      0.784605     1.0  \n",
      "471      1.909539     1.0  \n",
      "517      1.032833     1.0  \n",
      "532      0.611747     1.0  \n",
      "575      1.279046     1.0  \n",
      "...           ...     ...  \n",
      "1122434  0.583518     1.0  \n",
      "1122455  0.560456     1.0  \n",
      "1122473  1.329288     1.0  \n",
      "1122502  1.295485     1.0  \n",
      "1122503  0.540588     1.0  \n",
      "1122507  0.501181     1.0  \n",
      "1122514  0.771753     1.0  \n",
      "1122523  0.368832     1.0  \n",
      "1122524  0.526095     1.0  \n",
      "1122608  0.559133     1.0  \n",
      "1122622  0.893846     1.0  \n",
      "1122647  2.530065     1.0  \n",
      "1122672  2.051383     1.0  \n",
      "1122684  0.573010     1.0  \n",
      "1122705  0.757127     1.0  \n",
      "1122718  0.433855     1.0  \n",
      "1122788  0.748174     1.0  \n",
      "1122792  0.599297     1.0  \n",
      "1122810  0.486023     1.0  \n",
      "1122881  0.364872     1.0  \n",
      "1122891  0.732616     1.0  \n",
      "1122929  1.148139     1.0  \n",
      "1122960  1.015607     1.0  \n",
      "1122964  0.878348     1.0  \n",
      "1122970  0.965358     1.0  \n",
      "1122993  0.547666     1.0  \n",
      "1123080  0.601265     1.0  \n",
      "1123114  0.898110     1.0  \n",
      "1123120  1.143962     1.0  \n",
      "1123122  0.776425     1.0  \n",
      "\n",
      "[51018 rows x 8 columns]\n"
     ]
    }
   ],
   "source": [
    "print(df[df.signal==True])"
   ]
  },
  {
   "cell_type": "code",
   "execution_count": 6,
   "metadata": {},
   "outputs": [
    {
     "name": "stdout",
     "output_type": "stream",
     "text": [
      "[[ 1.84655619  1.        ]\n",
      " [ 0.84937239  1.        ]\n",
      " [ 0.64618766  1.        ]\n",
      " ..., \n",
      " [ 0.89810956  1.        ]\n",
      " [ 1.14396203  1.        ]\n",
      " [ 0.77642524  1.        ]]\n"
     ]
    }
   ],
   "source": [
    "#takes the chi2 of all signal tracks + the value of the signal variable\n",
    "print(df[df.signal==True].values[:,6:8])"
   ]
  },
  {
   "cell_type": "code",
   "execution_count": 7,
   "metadata": {},
   "outputs": [
    {
     "name": "stdout",
     "output_type": "stream",
     "text": [
      "[[ 2.65258646  0.        ]\n",
      " [ 2.49752712  0.        ]\n",
      " [ 2.12042117  0.        ]\n",
      " ..., \n",
      " [ 1.75582957  0.        ]\n",
      " [ 2.49099779  0.        ]\n",
      " [ 1.22334659  0.        ]]\n"
     ]
    }
   ],
   "source": [
    "#takes the chi2 of the first 50000 bkg tracks + the value of the signal variable\n",
    "print(df[df.signal==False].values[:50000,6:8])"
   ]
  },
  {
   "cell_type": "code",
   "execution_count": 8,
   "metadata": {},
   "outputs": [
    {
     "name": "stdout",
     "output_type": "stream",
     "text": [
      "length array signal+bkg:  101018\n",
      "train_df:  [[ 1.84655619  1.        ]\n",
      " [ 0.84937239  1.        ]\n",
      " [ 0.64618766  1.        ]\n",
      " [ 0.41360524  1.        ]\n",
      " [ 0.67065531  1.        ]\n",
      " [ 1.42008829  1.        ]\n",
      " [ 0.36800182  1.        ]\n",
      " [ 1.25551558  1.        ]\n",
      " [ 0.75633907  1.        ]\n",
      " [ 1.1757319   1.        ]]\n"
     ]
    }
   ],
   "source": [
    "#signal is more scarse => \n",
    "train_df = np.concatenate([df[df.signal == True].values[:, 6:8],\n",
    "                           df[df.signal == False].values[:50000, 6:8]])\n",
    "#values[,slices some of the features]\n",
    "\n",
    "print(\"length array signal+bkg: \", len(train_df))\n",
    "print(\"train_df: \", train_df[0:10])"
   ]
  },
  {
   "cell_type": "code",
   "execution_count": 9,
   "metadata": {},
   "outputs": [
    {
     "name": "stdout",
     "output_type": "stream",
     "text": [
      "[[ 1.84655619]\n",
      " [ 0.84937239]\n",
      " [ 0.64618766]\n",
      " [ 0.41360524]\n",
      " [ 0.67065531]\n",
      " [ 1.42008829]\n",
      " [ 0.36800182]\n",
      " [ 1.25551558]\n",
      " [ 0.75633907]\n",
      " [ 1.1757319 ]]\n",
      "[1 1 1 1 1 1 1 1 1 1]\n"
     ]
    }
   ],
   "source": [
    "#\n",
    "X_train = train_df[:, 0].reshape(-1, 1)\n",
    "print (X_train[0:10])\n",
    "y_train =  np.array(train_df[:, 1], dtype = int)\n",
    "print (y_train[0:10])"
   ]
  },
  {
   "cell_type": "markdown",
   "metadata": {},
   "source": [
    "### Train a model"
   ]
  },
  {
   "cell_type": "code",
   "execution_count": 10,
   "metadata": {},
   "outputs": [
    {
     "data": {
      "text/plain": [
       "DecisionTreeClassifier(class_weight=None, criterion='gini', max_depth=1,\n",
       "            max_features=None, max_leaf_nodes=None,\n",
       "            min_impurity_split=1e-07, min_samples_leaf=1,\n",
       "            min_samples_split=2, min_weight_fraction_leaf=0.0,\n",
       "            presort=False, random_state=None, splitter='best')"
      ]
     },
     "execution_count": 10,
     "metadata": {},
     "output_type": "execute_result"
    }
   ],
   "source": [
    "from sklearn.tree import DecisionTreeClassifier\n",
    "\n",
    "clf = DecisionTreeClassifier(max_depth = 1)\n",
    "\n",
    "clf.fit(X_train,y_train)\n",
    "\n",
    "#to define best classifier, look at accuracy or ROC curve\n"
   ]
  },
  {
   "cell_type": "markdown",
   "metadata": {},
   "source": [
    "### Prediction"
   ]
  },
  {
   "cell_type": "code",
   "execution_count": 11,
   "metadata": {},
   "outputs": [
    {
     "name": "stderr",
     "output_type": "stream",
     "text": [
      "/opt/conda/lib/python3.6/site-packages/numpy/lib/arraysetops.py:395: FutureWarning: elementwise comparison failed; returning scalar instead, but in the future will perform elementwise comparison\n",
      "  mask |= (ar1 == a)\n"
     ]
    },
    {
     "data": {
      "text/html": [
       "<div>\n",
       "<style>\n",
       "    .dataframe thead tr:only-child th {\n",
       "        text-align: right;\n",
       "    }\n",
       "\n",
       "    .dataframe thead th {\n",
       "        text-align: left;\n",
       "    }\n",
       "\n",
       "    .dataframe tbody tr th {\n",
       "        vertical-align: top;\n",
       "    }\n",
       "</style>\n",
       "<table border=\"1\" class=\"dataframe\">\n",
       "  <thead>\n",
       "    <tr style=\"text-align: right;\">\n",
       "      <th></th>\n",
       "      <th>X</th>\n",
       "      <th>Y</th>\n",
       "      <th>Z</th>\n",
       "      <th>TX</th>\n",
       "      <th>TY</th>\n",
       "      <th>chi2</th>\n",
       "    </tr>\n",
       "    <tr>\n",
       "      <th>index</th>\n",
       "      <th></th>\n",
       "      <th></th>\n",
       "      <th></th>\n",
       "      <th></th>\n",
       "      <th></th>\n",
       "      <th></th>\n",
       "    </tr>\n",
       "  </thead>\n",
       "  <tbody>\n",
       "    <tr>\n",
       "      <th>0</th>\n",
       "      <td>37259.390625</td>\n",
       "      <td>62516.367188</td>\n",
       "      <td>63357.0</td>\n",
       "      <td>-0.475465</td>\n",
       "      <td>-0.250186</td>\n",
       "      <td>1.405402</td>\n",
       "    </tr>\n",
       "    <tr>\n",
       "      <th>1</th>\n",
       "      <td>41426.312500</td>\n",
       "      <td>57520.265625</td>\n",
       "      <td>25860.0</td>\n",
       "      <td>-0.213876</td>\n",
       "      <td>0.155208</td>\n",
       "      <td>2.541856</td>\n",
       "    </tr>\n",
       "    <tr>\n",
       "      <th>2</th>\n",
       "      <td>40752.921875</td>\n",
       "      <td>54653.265625</td>\n",
       "      <td>46548.0</td>\n",
       "      <td>0.044215</td>\n",
       "      <td>-0.333426</td>\n",
       "      <td>2.389629</td>\n",
       "    </tr>\n",
       "    <tr>\n",
       "      <th>3</th>\n",
       "      <td>29293.980469</td>\n",
       "      <td>23582.425781</td>\n",
       "      <td>14223.0</td>\n",
       "      <td>-0.265671</td>\n",
       "      <td>-0.137444</td>\n",
       "      <td>2.402328</td>\n",
       "    </tr>\n",
       "    <tr>\n",
       "      <th>4</th>\n",
       "      <td>49538.128906</td>\n",
       "      <td>63314.617188</td>\n",
       "      <td>31032.0</td>\n",
       "      <td>-0.063467</td>\n",
       "      <td>-0.550298</td>\n",
       "      <td>1.223460</td>\n",
       "    </tr>\n",
       "  </tbody>\n",
       "</table>\n",
       "</div>"
      ],
      "text/plain": [
       "                  X             Y        Z        TX        TY      chi2\n",
       "index                                                                   \n",
       "0      37259.390625  62516.367188  63357.0 -0.475465 -0.250186  1.405402\n",
       "1      41426.312500  57520.265625  25860.0 -0.213876  0.155208  2.541856\n",
       "2      40752.921875  54653.265625  46548.0  0.044215 -0.333426  2.389629\n",
       "3      29293.980469  23582.425781  14223.0 -0.265671 -0.137444  2.402328\n",
       "4      49538.128906  63314.617188  31032.0 -0.063467 -0.550298  1.223460"
      ]
     },
     "execution_count": 11,
     "metadata": {},
     "output_type": "execute_result"
    }
   ],
   "source": [
    "df_test = pd.read_csv('/data_mlhep2017/episode1/DS_1_test.csv', index_col=0)\n",
    "df_test.head()"
   ]
  },
  {
   "cell_type": "code",
   "execution_count": 12,
   "metadata": {
    "collapsed": true
   },
   "outputs": [],
   "source": [
    "prediction = clf.predict_proba(df_test.values[:, 5].reshape(-1, 1))[:, 1]"
   ]
  },
  {
   "cell_type": "markdown",
   "metadata": {},
   "source": [
    "### Save results"
   ]
  },
  {
   "cell_type": "code",
   "execution_count": 14,
   "metadata": {
    "collapsed": true
   },
   "outputs": [],
   "source": [
    "baseline = pd.DataFrame(prediction, columns=['Prediction'])\n",
    "baseline.index.name = 'Id'\n",
    "baseline.to_csv('Mybaseline.csv', header=True)"
   ]
  },
  {
   "cell_type": "markdown",
   "metadata": {},
   "source": [
    "You can now download the baseline.csv in jupyter file browser and send it to Kaggle."
   ]
  }
 ],
 "metadata": {
  "anaconda-cloud": {},
  "kernelspec": {
   "display_name": "Python 3",
   "language": "python",
   "name": "python3"
  },
  "language_info": {
   "codemirror_mode": {
    "name": "ipython",
    "version": 3
   },
   "file_extension": ".py",
   "mimetype": "text/x-python",
   "name": "python",
   "nbconvert_exporter": "python",
   "pygments_lexer": "ipython3",
   "version": "3.6.1"
  }
 },
 "nbformat": 4,
 "nbformat_minor": 1
}
