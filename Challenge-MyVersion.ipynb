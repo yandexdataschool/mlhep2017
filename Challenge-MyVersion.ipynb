{
 "cells": [
  {
   "cell_type": "code",
   "execution_count": 1,
   "metadata": {},
   "outputs": [],
   "source": [
    "import numpy as np\n",
    "import pandas as pd\n",
    "\n",
    "from matplotlib import pyplot as plt\n",
    "%matplotlib inline"
   ]
  },
  {
   "cell_type": "markdown",
   "metadata": {},
   "source": [
    "### Challenge baseline"
   ]
  },
  {
   "cell_type": "code",
   "execution_count": 2,
   "metadata": {},
   "outputs": [
    {
     "name": "stderr",
     "output_type": "stream",
     "text": [
      "/Users/annarita/anaconda/lib/python2.7/site-packages/numpy/lib/arraysetops.py:395: FutureWarning: elementwise comparison failed; returning scalar instead, but in the future will perform elementwise comparison\n",
      "  mask |= (ar1 == a)\n"
     ]
    },
    {
     "data": {
      "text/html": [
       "<div>\n",
       "<style>\n",
       "    .dataframe thead tr:only-child th {\n",
       "        text-align: right;\n",
       "    }\n",
       "\n",
       "    .dataframe thead th {\n",
       "        text-align: left;\n",
       "    }\n",
       "\n",
       "    .dataframe tbody tr th {\n",
       "        vertical-align: top;\n",
       "    }\n",
       "</style>\n",
       "<table border=\"1\" class=\"dataframe\">\n",
       "  <thead>\n",
       "    <tr style=\"text-align: right;\">\n",
       "      <th></th>\n",
       "      <th>event_id</th>\n",
       "      <th>X</th>\n",
       "      <th>Y</th>\n",
       "      <th>Z</th>\n",
       "      <th>TX</th>\n",
       "      <th>TY</th>\n",
       "      <th>chi2</th>\n",
       "      <th>signal</th>\n",
       "    </tr>\n",
       "    <tr>\n",
       "      <th>index</th>\n",
       "      <th></th>\n",
       "      <th></th>\n",
       "      <th></th>\n",
       "      <th></th>\n",
       "      <th></th>\n",
       "      <th></th>\n",
       "      <th></th>\n",
       "      <th></th>\n",
       "    </tr>\n",
       "  </thead>\n",
       "  <tbody>\n",
       "    <tr>\n",
       "      <th>0</th>\n",
       "      <td>-999</td>\n",
       "      <td>61300.121094</td>\n",
       "      <td>64934.265625</td>\n",
       "      <td>28446.0</td>\n",
       "      <td>0.286310</td>\n",
       "      <td>0.096968</td>\n",
       "      <td>1.195497</td>\n",
       "      <td>False</td>\n",
       "    </tr>\n",
       "    <tr>\n",
       "      <th>1</th>\n",
       "      <td>-999</td>\n",
       "      <td>49399.164062</td>\n",
       "      <td>63663.652344</td>\n",
       "      <td>54306.0</td>\n",
       "      <td>0.037705</td>\n",
       "      <td>0.097359</td>\n",
       "      <td>1.820736</td>\n",
       "      <td>False</td>\n",
       "    </tr>\n",
       "    <tr>\n",
       "      <th>2</th>\n",
       "      <td>-999</td>\n",
       "      <td>58955.164062</td>\n",
       "      <td>33590.734375</td>\n",
       "      <td>24567.0</td>\n",
       "      <td>0.421410</td>\n",
       "      <td>-0.039955</td>\n",
       "      <td>2.799580</td>\n",
       "      <td>False</td>\n",
       "    </tr>\n",
       "    <tr>\n",
       "      <th>3</th>\n",
       "      <td>-999</td>\n",
       "      <td>57421.613281</td>\n",
       "      <td>34333.390625</td>\n",
       "      <td>11637.0</td>\n",
       "      <td>0.118750</td>\n",
       "      <td>-0.498493</td>\n",
       "      <td>2.725356</td>\n",
       "      <td>False</td>\n",
       "    </tr>\n",
       "    <tr>\n",
       "      <th>4</th>\n",
       "      <td>-999</td>\n",
       "      <td>58730.507812</td>\n",
       "      <td>60918.179688</td>\n",
       "      <td>58185.0</td>\n",
       "      <td>-0.085305</td>\n",
       "      <td>0.078348</td>\n",
       "      <td>2.814739</td>\n",
       "      <td>False</td>\n",
       "    </tr>\n",
       "  </tbody>\n",
       "</table>\n",
       "</div>"
      ],
      "text/plain": [
       "       event_id             X             Y        Z        TX        TY  \\\n",
       "index                                                                      \n",
       "0          -999  61300.121094  64934.265625  28446.0  0.286310  0.096968   \n",
       "1          -999  49399.164062  63663.652344  54306.0  0.037705  0.097359   \n",
       "2          -999  58955.164062  33590.734375  24567.0  0.421410 -0.039955   \n",
       "3          -999  57421.613281  34333.390625  11637.0  0.118750 -0.498493   \n",
       "4          -999  58730.507812  60918.179688  58185.0 -0.085305  0.078348   \n",
       "\n",
       "           chi2  signal  \n",
       "index                    \n",
       "0      1.195497   False  \n",
       "1      1.820736   False  \n",
       "2      2.799580   False  \n",
       "3      2.725356   False  \n",
       "4      2.814739   False  "
      ]
     },
     "execution_count": 2,
     "metadata": {},
     "output_type": "execute_result"
    }
   ],
   "source": [
    "#On online version\n",
    "#df = pd.read_csv('/data_mlhep2017/episode1/DS_1_train.csv', index_col=0)\n",
    "\n",
    "#On my MAC\n",
    "df = pd.read_csv('../OPERA_competition_draft_train/DS_1_train.csv', index_col=0)\n",
    "edata = pd.read_csv('../OPERA_competition_draft_train/DS_1_electron_train.csv')\n",
    "df.head()"
   ]
  },
  {
   "cell_type": "code",
   "execution_count": 3,
   "metadata": {},
   "outputs": [
    {
     "data": {
      "text/html": [
       "<div>\n",
       "<style>\n",
       "    .dataframe thead tr:only-child th {\n",
       "        text-align: right;\n",
       "    }\n",
       "\n",
       "    .dataframe thead th {\n",
       "        text-align: left;\n",
       "    }\n",
       "\n",
       "    .dataframe tbody tr th {\n",
       "        vertical-align: top;\n",
       "    }\n",
       "</style>\n",
       "<table border=\"1\" class=\"dataframe\">\n",
       "  <thead>\n",
       "    <tr style=\"text-align: right;\">\n",
       "      <th></th>\n",
       "      <th>index</th>\n",
       "      <th>event_id</th>\n",
       "      <th>P</th>\n",
       "      <th>X</th>\n",
       "      <th>Y</th>\n",
       "      <th>Z</th>\n",
       "      <th>TX</th>\n",
       "      <th>TY</th>\n",
       "    </tr>\n",
       "  </thead>\n",
       "  <tbody>\n",
       "    <tr>\n",
       "      <th>0</th>\n",
       "      <td>0</td>\n",
       "      <td>2573</td>\n",
       "      <td>4.751912</td>\n",
       "      <td>39813.222656</td>\n",
       "      <td>16733.853516</td>\n",
       "      <td>37461.781250</td>\n",
       "      <td>0.080777</td>\n",
       "      <td>0.067206</td>\n",
       "    </tr>\n",
       "    <tr>\n",
       "      <th>1</th>\n",
       "      <td>1</td>\n",
       "      <td>5435</td>\n",
       "      <td>11.581161</td>\n",
       "      <td>49247.546875</td>\n",
       "      <td>66064.312500</td>\n",
       "      <td>27072.914062</td>\n",
       "      <td>-0.124120</td>\n",
       "      <td>0.004981</td>\n",
       "    </tr>\n",
       "    <tr>\n",
       "      <th>2</th>\n",
       "      <td>2</td>\n",
       "      <td>4110</td>\n",
       "      <td>4.723818</td>\n",
       "      <td>40268.484375</td>\n",
       "      <td>15453.179688</td>\n",
       "      <td>8178.457031</td>\n",
       "      <td>0.037599</td>\n",
       "      <td>0.175117</td>\n",
       "    </tr>\n",
       "    <tr>\n",
       "      <th>3</th>\n",
       "      <td>3</td>\n",
       "      <td>6421</td>\n",
       "      <td>5.161797</td>\n",
       "      <td>40988.937500</td>\n",
       "      <td>42040.226562</td>\n",
       "      <td>21976.783203</td>\n",
       "      <td>-0.053018</td>\n",
       "      <td>-0.021330</td>\n",
       "    </tr>\n",
       "    <tr>\n",
       "      <th>4</th>\n",
       "      <td>4</td>\n",
       "      <td>9112</td>\n",
       "      <td>4.461930</td>\n",
       "      <td>42774.335938</td>\n",
       "      <td>35231.640625</td>\n",
       "      <td>15610.662109</td>\n",
       "      <td>-0.144262</td>\n",
       "      <td>0.159017</td>\n",
       "    </tr>\n",
       "  </tbody>\n",
       "</table>\n",
       "</div>"
      ],
      "text/plain": [
       "   index  event_id          P             X             Y             Z  \\\n",
       "0      0      2573   4.751912  39813.222656  16733.853516  37461.781250   \n",
       "1      1      5435  11.581161  49247.546875  66064.312500  27072.914062   \n",
       "2      2      4110   4.723818  40268.484375  15453.179688   8178.457031   \n",
       "3      3      6421   5.161797  40988.937500  42040.226562  21976.783203   \n",
       "4      4      9112   4.461930  42774.335938  35231.640625  15610.662109   \n",
       "\n",
       "         TX        TY  \n",
       "0  0.080777  0.067206  \n",
       "1 -0.124120  0.004981  \n",
       "2  0.037599  0.175117  \n",
       "3 -0.053018 -0.021330  \n",
       "4 -0.144262  0.159017  "
      ]
     },
     "execution_count": 3,
     "metadata": {},
     "output_type": "execute_result"
    }
   ],
   "source": [
    "edata.head()"
   ]
  },
  {
   "cell_type": "markdown",
   "metadata": {},
   "source": [
    "### Build a train dataset\n",
    "Ideally, you could design features here that improve model performance. \n",
    "\n",
    "Baseline, however, simply takes some of the features while also balansing classes."
   ]
  },
  {
   "cell_type": "code",
   "execution_count": 4,
   "metadata": {},
   "outputs": [
    {
     "name": "stdout",
     "output_type": "stream",
     "text": [
      "         event_id             X             Y        Z        TX        TY  \\\n",
      "index                                                                        \n",
      "59           5829  61181.742188  21795.617188  34911.0 -0.019536 -0.041533   \n",
      "102          5495  41175.601562  24357.005859  69822.0  0.545356  0.576663   \n",
      "199          2868  49016.367188  31089.613281  40083.0  0.156941  0.576540   \n",
      "241          8057  60133.843750  61226.679688  58185.0 -0.050178 -0.222777   \n",
      "252          9553  46859.976562  38369.085938  53013.0 -0.856637  0.351027   \n",
      "265           135  58772.460938  42313.964844  50427.0  0.336524  0.587179   \n",
      "268          6533  57126.457031  57612.648438  63357.0 -0.018065  0.036196   \n",
      "336          4431  48570.730469  34527.496094  60771.0 -0.176703 -0.004946   \n",
      "354          9111  47594.792969  56426.757812  14223.0 -0.021982  0.080023   \n",
      "358          6881  58720.468750  18215.597656  63357.0 -0.122511  0.159110   \n",
      "366          9112  39980.859375  39854.992188  38790.0 -0.060110  0.101425   \n",
      "382           577  49826.445312  57104.539062  50427.0  0.041248  0.050595   \n",
      "392          1751  57169.871094  22148.697266  72408.0 -0.029669  0.081527   \n",
      "497          5769  57015.304688  59593.761719  31032.0  0.120250 -0.504177   \n",
      "505          4471  64833.734375  74307.843750  72408.0  0.040043  0.342857   \n",
      "512           135  56243.382812  43050.324219  55599.0 -0.406684  0.127343   \n",
      "533          4471  62343.945312  65547.960938  38790.0  0.088098  0.311302   \n",
      "542          9865  61193.703125  41410.472656  45255.0 -0.016546  0.028495   \n",
      "569          4949  47313.265625  44081.746094  46548.0  0.545890 -0.000702   \n",
      "571          4077  44303.558594  63127.734375  43962.0 -0.161944  0.351044   \n",
      "637          5240  44930.992188  66317.976562  32325.0  0.133760  0.302344   \n",
      "652          1751  57320.410156  21635.902344  67236.0  0.022365 -0.048014   \n",
      "704          8824  54097.964844  53924.726562  36204.0  0.001088  0.067817   \n",
      "725          6094  46239.441406  28165.837891  31032.0  0.243669  0.201314   \n",
      "733          9553  55717.953125  34267.281250  18102.0 -0.232355  0.082714   \n",
      "807          4611  62481.953125  55589.945312  56892.0 -0.591643  0.314078   \n",
      "837          6094  52400.234375  32921.726562  63357.0  0.151757  0.195339   \n",
      "859          5240  43725.968750  66103.187500  63357.0 -0.121867  0.071291   \n",
      "864          4077  49639.203125  62975.164062  51720.0  0.110947 -0.391741   \n",
      "897          4949  47677.773438  44357.820312  56892.0  0.151247 -0.021736   \n",
      "...           ...           ...           ...      ...       ...       ...   \n",
      "2787855      6379  56007.121094  59218.968750  19395.0 -0.050110  0.372584   \n",
      "2787943      3638  57720.742188  44235.320312  51720.0  0.103207  0.023566   \n",
      "2787963      3568  43568.031250  48557.105469  71115.0 -0.296852  0.346479   \n",
      "2788016      4431  51487.089844  33688.976562  51720.0  0.529747  0.696774   \n",
      "2788092       135  56440.093750  42983.937500  54306.0 -0.055612  0.233141   \n",
      "2788187      2868  49190.867188  29504.537109  37497.0 -0.092997  0.629754   \n",
      "2788288      9553  51936.609375  36008.207031  32325.0 -0.414071  0.254155   \n",
      "2788298      4591  44513.789062  24913.613281  41376.0  0.058752 -0.325500   \n",
      "2788332      5532  59929.109375  30816.060547  33618.0 -0.006734 -0.032495   \n",
      "2788340      1751  57271.824219  21945.316406  67236.0 -0.027247  0.134905   \n",
      "2788363      8058  43891.765625  39766.292969  28446.0  0.062109  0.133428   \n",
      "2788398      9928  45992.667969  29406.878906  27153.0 -0.083145  0.086594   \n",
      "2788413      2016  58924.269531  53232.695312  63357.0  0.524496 -0.176465   \n",
      "2788423      6533  60429.941406  56599.343750  68529.0  0.188232 -0.064935   \n",
      "2788449      5532  60753.335938  31256.712891  54306.0 -0.116216  0.026902   \n",
      "2788462      5495  39885.203125  22689.712891  58185.0 -0.231062 -0.033912   \n",
      "2788467      5240  45109.042969  64839.179688  43962.0 -0.099544  0.261352   \n",
      "2788495       887  52924.398438  31162.804688  60771.0  0.428939 -0.123262   \n",
      "2788535      5212  56581.308594  64345.218750  20688.0 -0.235383 -0.061902   \n",
      "2788556       705  62407.535156  54562.273438  60771.0  0.421767 -0.291311   \n",
      "2788560      3187  58272.304688  57330.378906  64650.0  0.044022 -0.063949   \n",
      "2788627      5262  40396.566406  56396.367188  45255.0 -0.056725 -0.037509   \n",
      "2788765      5514  53138.972656  33347.585938  25860.0 -0.261000  0.378184   \n",
      "2788848      5612  50669.339844  46386.496094  68529.0  0.131057 -0.009256   \n",
      "2788856      6174  37051.562500  37438.253906  59478.0  0.226139 -0.990486   \n",
      "2788859      2322  40864.550781  50806.621094  28446.0  0.050445  0.222121   \n",
      "2788954      9928  43906.898438  33287.867188  63357.0  0.415840  0.453407   \n",
      "2789030      1751  57084.613281  22218.863281  72408.0 -0.147165  0.141773   \n",
      "2789064      3865  50234.011719  29389.718750  47841.0  0.000767 -0.221176   \n",
      "2789280      9865  60601.765625  41080.605469  62064.0 -0.132973 -0.147447   \n",
      "\n",
      "             chi2  signal  \n",
      "index                      \n",
      "59       0.748506    True  \n",
      "102      2.158561    True  \n",
      "199      0.882665    True  \n",
      "241      0.811216    True  \n",
      "252      0.839251    True  \n",
      "265      1.087983    True  \n",
      "268      0.908265    True  \n",
      "336      0.776590    True  \n",
      "354      0.589687    True  \n",
      "358      0.322028    True  \n",
      "366      0.720149    True  \n",
      "382      0.895238    True  \n",
      "392      0.750650    True  \n",
      "497      1.540397    True  \n",
      "505      0.559268    True  \n",
      "512      0.903775    True  \n",
      "533      1.036098    True  \n",
      "542      1.052702    True  \n",
      "569      0.814215    True  \n",
      "571      0.929911    True  \n",
      "637      0.712510    True  \n",
      "652      0.637201    True  \n",
      "704      1.742429    True  \n",
      "725      0.781704    True  \n",
      "733      1.011934    True  \n",
      "807      2.494014    True  \n",
      "837      0.618478    True  \n",
      "859      1.226501    True  \n",
      "864      1.334392    True  \n",
      "897      1.464635    True  \n",
      "...           ...     ...  \n",
      "2787855  1.101671    True  \n",
      "2787943  0.693520    True  \n",
      "2787963  2.576720    True  \n",
      "2788016  1.007275    True  \n",
      "2788092  0.616953    True  \n",
      "2788187  0.989920    True  \n",
      "2788288  0.628732    True  \n",
      "2788298  0.567397    True  \n",
      "2788332  1.587162    True  \n",
      "2788340  1.123307    True  \n",
      "2788363  0.709179    True  \n",
      "2788398  0.520177    True  \n",
      "2788413  1.986118    True  \n",
      "2788423  0.415814    True  \n",
      "2788449  1.783638    True  \n",
      "2788462  0.370337    True  \n",
      "2788467  0.803102    True  \n",
      "2788495  0.635210    True  \n",
      "2788535  0.724767    True  \n",
      "2788556  0.749076    True  \n",
      "2788560  1.359718    True  \n",
      "2788627  0.452489    True  \n",
      "2788765  0.972929    True  \n",
      "2788848  0.853278    True  \n",
      "2788856  2.010483    True  \n",
      "2788859  0.300402    True  \n",
      "2788954  0.500712    True  \n",
      "2789030  0.690547    True  \n",
      "2789064  0.728702    True  \n",
      "2789280  2.708057    True  \n",
      "\n",
      "[57088 rows x 8 columns]\n"
     ]
    }
   ],
   "source": [
    "print(df[df.signal==True])"
   ]
  },
  {
   "cell_type": "code",
   "execution_count": 5,
   "metadata": {},
   "outputs": [
    {
     "name": "stdout",
     "output_type": "stream",
     "text": [
      "         event_id             X             Y        Z        TX        TY  \\\n",
      "index                                                                        \n",
      "0            -999  61300.121094  64934.265625  28446.0  0.286310  0.096968   \n",
      "1            -999  49399.164062  63663.652344  54306.0  0.037705  0.097359   \n",
      "2            -999  58955.164062  33590.734375  24567.0  0.421410 -0.039955   \n",
      "3            -999  57421.613281  34333.390625  11637.0  0.118750 -0.498493   \n",
      "4            -999  58730.507812  60918.179688  58185.0 -0.085305  0.078348   \n",
      "5            -999  38846.828125  59121.539062  28446.0  0.241332 -0.476656   \n",
      "6            -999  52469.390625  35559.792969  65943.0 -0.433240  0.103088   \n",
      "7            -999  32216.812500  59256.164062   2586.0  0.159403 -0.223977   \n",
      "8            -999  64350.226562  45644.132812  53013.0 -0.242950  0.157347   \n",
      "9            -999  58963.980469   7466.850098   6465.0 -0.001079 -0.395815   \n",
      "10           -999  29406.375000  42622.218750  41376.0  0.134496 -0.046819   \n",
      "11           -999  41688.851562  48175.894531  41376.0  0.120945 -0.264621   \n",
      "12           -999  66301.257812  46077.070312   7758.0 -0.032812  0.067653   \n",
      "13           -999  29886.777344  31007.839844   7758.0  0.348679 -0.046735   \n",
      "14           -999  58712.476562  19774.453125  64650.0 -0.006045 -0.003116   \n",
      "15           -999  61983.437500  52197.718750   3879.0 -0.236496  0.367094   \n",
      "16           -999  38822.375000  68580.531250      0.0  0.247359  0.167746   \n",
      "17           -999  30077.882812  56950.804688  28446.0  0.011179  0.087054   \n",
      "18           -999  50055.085938  23821.017578  14223.0  0.007087  0.071019   \n",
      "19           -999  39400.363281  57653.273438  63357.0  0.255097 -0.143731   \n",
      "20           -999  60781.390625  39529.269531  38790.0 -0.025911 -0.452195   \n",
      "21           -999  40256.531250  22469.437500  55599.0 -0.030525  0.083770   \n",
      "22           -999  43376.289062  75897.304688  31032.0  0.042336 -0.029687   \n",
      "23           -999  41547.179688  71750.437500  65943.0 -0.248140  0.005915   \n",
      "24           -999  41605.375000  14473.791016  37497.0  0.264844  0.489453   \n",
      "25           -999  48513.390625  22887.896484  46548.0 -0.035063  0.401507   \n",
      "26           -999  57871.835938  33404.500000  21981.0 -0.309133 -0.054353   \n",
      "27           -999  44546.960938   3901.426270  63357.0 -0.101395  0.546561   \n",
      "28           -999  33048.492188  57655.179688  60771.0  0.342783 -0.224684   \n",
      "29           -999  58943.179688  61174.187500  72408.0  0.204148 -0.085324   \n",
      "...           ...           ...           ...      ...       ...       ...   \n",
      "2789277      -999  49456.750000  56262.023438  23274.0 -0.080041 -0.195480   \n",
      "2789278      -999  66223.609375  32015.570312  49134.0  0.007478  0.229418   \n",
      "2789279      -999  51751.804688  30961.433594  36204.0 -0.041034 -0.172703   \n",
      "2789281      -999  49168.718750  66332.281250  16809.0  0.318322  0.192188   \n",
      "2789282      -999  31313.531250  14077.968750  29739.0 -0.096475  0.227511   \n",
      "2789283      -999  30532.687500  19767.535156  59478.0 -0.060184  0.502967   \n",
      "2789284      -999  51900.546875  66875.109375   5172.0  0.012109  0.023512   \n",
      "2789285      -999  63852.273438  12634.517578  49134.0 -0.099498 -0.063607   \n",
      "2789286      -999  65415.304688   9830.451172  42669.0  0.423754  0.453981   \n",
      "2789287      -999  46865.359375  26939.207031   5172.0 -0.088486  0.333454   \n",
      "2789288      -999  53428.796875  24195.419922  19395.0  0.124591  0.204632   \n",
      "2789289      -999  47992.937500  66334.562500  69822.0  0.047340 -0.231436   \n",
      "2789290      -999  45553.777344  50356.855469  68529.0  0.405692 -0.124591   \n",
      "2789291      -999  30781.927734  19047.275391  33618.0 -0.423140  0.020833   \n",
      "2789292      -999  40232.238281  68136.875000  71115.0 -0.326488  0.006957   \n",
      "2789293      -999  61989.113281  45933.429688  42669.0  0.230990  0.377381   \n",
      "2789294      -999  61616.562500  69000.781250  16809.0  0.108761  0.548847   \n",
      "2789295      -999  69197.640625  72850.406250  69822.0 -0.003720  0.459338   \n",
      "2789296      -999  41067.816406  71126.664062  65943.0 -0.311049  0.215253   \n",
      "2789297      -999  30453.917969  68772.437500  49134.0  0.290374  0.563467   \n",
      "2789298      -999  57117.062500  39554.621094  15516.0 -0.354892  0.193415   \n",
      "2789299      -999  65213.195312  37589.371094  34911.0  0.207589  0.216220   \n",
      "2789300      -999  28933.203125  47776.125000  64650.0 -0.075456  0.086849   \n",
      "2789301      -999  67959.242188  42431.093750  45255.0  0.534598  0.162649   \n",
      "2789302      -999  37654.664062  56274.898438  72408.0 -0.173493  0.570685   \n",
      "2789303      -999  49588.046875  71046.726562  67236.0 -0.116090  0.275893   \n",
      "2789304      -999  55080.734375  69162.171875  55599.0 -0.383222  0.119234   \n",
      "2789305      -999  41305.250000  39494.593750  27153.0  0.113914 -0.138504   \n",
      "2789306      -999  58772.484375  56309.390625  34911.0  0.007980  0.456324   \n",
      "2789307      -999  65316.609375   5921.070312  42669.0  0.082924 -0.173572   \n",
      "\n",
      "             chi2  signal  \n",
      "index                      \n",
      "0        1.195497   False  \n",
      "1        1.820736   False  \n",
      "2        2.799580   False  \n",
      "3        2.725356   False  \n",
      "4        2.814739   False  \n",
      "5        2.457297   False  \n",
      "6        2.889322   False  \n",
      "7        2.410435   False  \n",
      "8        2.871608   False  \n",
      "9        2.705490   False  \n",
      "10       2.923525   False  \n",
      "11       1.811006   False  \n",
      "12       2.132851   False  \n",
      "13       2.005738   False  \n",
      "14       2.926338   False  \n",
      "15       2.344192   False  \n",
      "16       2.261225   False  \n",
      "17       2.487379   False  \n",
      "18       1.921921   False  \n",
      "19       2.685258   False  \n",
      "20       2.311939   False  \n",
      "21       2.598600   False  \n",
      "22       2.664677   False  \n",
      "23       2.865327   False  \n",
      "24       2.463287   False  \n",
      "25       2.138733   False  \n",
      "26       2.769756   False  \n",
      "27       1.154298   False  \n",
      "28       2.390445   False  \n",
      "29       2.358797   False  \n",
      "...           ...     ...  \n",
      "2789277  1.926482   False  \n",
      "2789278  2.921275   False  \n",
      "2789279  2.857124   False  \n",
      "2789281  2.835089   False  \n",
      "2789282  1.912735   False  \n",
      "2789283  1.609005   False  \n",
      "2789284  2.055510   False  \n",
      "2789285  1.300526   False  \n",
      "2789286  2.455998   False  \n",
      "2789287  1.769348   False  \n",
      "2789288  2.239346   False  \n",
      "2789289  1.335075   False  \n",
      "2789290  2.443407   False  \n",
      "2789291  2.950663   False  \n",
      "2789292  2.402224   False  \n",
      "2789293  2.395767   False  \n",
      "2789294  2.833313   False  \n",
      "2789295  2.593182   False  \n",
      "2789296  2.937306   False  \n",
      "2789297  2.394749   False  \n",
      "2789298  1.845331   False  \n",
      "2789299  2.152855   False  \n",
      "2789300  2.631349   False  \n",
      "2789301  2.248705   False  \n",
      "2789302  1.814036   False  \n",
      "2789303  1.791486   False  \n",
      "2789304  2.243470   False  \n",
      "2789305  0.635957   False  \n",
      "2789306  2.908372   False  \n",
      "2789307  2.339022   False  \n",
      "\n",
      "[2732220 rows x 8 columns]\n"
     ]
    }
   ],
   "source": [
    "print(df[df.signal==False])"
   ]
  },
  {
   "cell_type": "code",
   "execution_count": 6,
   "metadata": {},
   "outputs": [],
   "source": [
    "#Trying to display data on a graph\n",
    "import matplotlib.pyplot as plt\n",
    "# display plots right inside notebook (not in a popup window)\n",
    "%matplotlib inline\n",
    "#to make the dispay interactive\n",
    "#matplotlib notebook\n",
    "from mpl_toolkits.mplot3d import Axes3D"
   ]
  },
  {
   "cell_type": "code",
   "execution_count": 19,
   "metadata": {},
   "outputs": [
    {
     "data": {
      "text/plain": [
       "<matplotlib.text.Text at 0x11555efd0>"
      ]
     },
     "execution_count": 19,
     "metadata": {},
     "output_type": "execute_result"
    },
    {
     "data": {
      "image/png": "[encoded data removed]",
      "text/plain": [
       "<matplotlib.figure.Figure at 0x113ab4f90>"
      ]
     },
     "metadata": {},
     "output_type": "display_data"
    }
   ],
   "source": [
    "fig = plt.figure()\n",
    "ax = fig.add_subplot(111, projection='3d')\n",
    "ax.scatter(df[df.signal==False].values[:,1],df[df.signal==False].values[:,2],df[df.signal==False].values[:,3])\n",
    "ax.set_title(\"Bkg tracks\")\n",
    "ax.set_xlabel(\"Track X\")\n",
    "ax.set_ylabel(\"Track Y\")\n",
    "ax.set_zlabel(\"Track Z\")"
   ]
  },
  {
   "cell_type": "code",
   "execution_count": 23,
   "metadata": {},
   "outputs": [
    {
     "data": {
      "image/png": "[encoded data removed]",
      "text/plain": [
       "<matplotlib.figure.Figure at 0x113a91090>"
      ]
     },
     "metadata": {},
     "output_type": "display_data"
    }
   ],
   "source": [
    "fig = plt.figure()\n",
    "ax = fig.add_subplot(111, projection='3d')\n",
    "ax.scatter(df[df.signal==True].values[:,1],df[df.signal==True].values[:,2],df[df.signal==True].values[:,3])\n",
    "ax.set_title(\"Signal tracks\")\n",
    "ax.set_xlabel(\"Track X\")\n",
    "ax.set_ylabel(\"Track Y\")\n",
    "ax.set_zlabel(\"Track Z\");"
   ]
  },
  {
   "cell_type": "code",
   "execution_count": 105,
   "metadata": {},
   "outputs": [
    {
     "data": {
      "text/plain": [
       "<mpl_toolkits.mplot3d.art3d.Path3DCollection at 0x122fe9ed0>"
      ]
     },
     "execution_count": 105,
     "metadata": {},
     "output_type": "execute_result"
    },
    {
     "data": {
      "image/png": "[encoded data removed]",
      "text/plain": [
       "<matplotlib.figure.Figure at 0x123104090>"
      ]
     },
     "metadata": {},
     "output_type": "display_data"
    }
   ],
   "source": [
    "#Plot of one single electron event\n",
    "event_id_to_plot = 5829 \n",
    "event_to_plot = df[df[\"event_id\"] == event_id_to_plot]\n",
    "fig = plt.figure()\n",
    "ax = fig.add_subplot(111, projection='3d')\n",
    "ax.scatter(event_to_plot[\"X\"], event_to_plot[\"Y\"], event_to_plot[\"Z\"]);\n",
    "electron_to_plot = edata[edata[\"event_id\"] == event_id_to_plot]\n",
    "origin_X = edata[\"X\"].where(edata[\"event_id\"] == event_id_to_plot)\n",
    "origin_Y = edata[\"Y\"].where(edata[\"event_id\"] == event_id_to_plot)\n",
    "origin_Z = edata[\"Z\"].where(edata[\"event_id\"] == event_id_to_plot)\n",
    "origin_TX = edata[\"TX\"].where(edata[\"event_id\"] == event_id_to_plot)\n",
    "origin_TY = edata[\"TY\"].where(edata[\"event_id\"] == event_id_to_plot)\n",
    "dZ = 5e4\n",
    "X = [origin_X, origin_X + dZ*origin_TX]\n",
    "Y = [origin_Y, origin_Y + dZ*origin_TY]\n",
    "Z = [origin_Z,origin_Z+dZ]\n",
    "ax.scatter(X, Y, Z, c='r')\n"
   ]
  },
  {
   "cell_type": "code",
   "execution_count": null,
   "metadata": {
    "collapsed": true
   },
   "outputs": [],
   "source": []
  },
  {
   "cell_type": "code",
   "execution_count": 77,
   "metadata": {},
   "outputs": [
    {
     "name": "stdout",
     "output_type": "stream",
     "text": [
      "[[0.748506426811 True]\n",
      " [2.15856051445 True]\n",
      " [0.8826647400859999 True]\n",
      " ..., \n",
      " [0.690546631813 True]\n",
      " [0.7287023663519999 True]\n",
      " [2.70805692673 True]]\n"
     ]
    }
   ],
   "source": [
    "#takes the chi2 of all signal tracks + the value of the signal variable\n",
    "print(df[df.signal==True].values[:,6:8])"
   ]
  },
  {
   "cell_type": "code",
   "execution_count": 78,
   "metadata": {},
   "outputs": [
    {
     "name": "stdout",
     "output_type": "stream",
     "text": [
      "[[1.19549715519 False]\n",
      " [1.82073616982 False]\n",
      " [2.79957985878 False]\n",
      " ..., \n",
      " [0.477863699198 False]\n",
      " [1.9450963735599998 False]\n",
      " [2.65704417229 False]]\n"
     ]
    }
   ],
   "source": [
    "#takes the chi2 of the first 50000 bkg tracks + the value of the signal variable\n",
    "print(df[df.signal==False].values[:50000,6:8])"
   ]
  },
  {
   "cell_type": "code",
   "execution_count": 73,
   "metadata": {},
   "outputs": [
    {
     "name": "stdout",
     "output_type": "stream",
     "text": [
      "('length array signal+bkg: ', 107088)\n",
      "('train_df: ', array([[2.1495933532700002, False],\n",
      "       [2.5629394054400003, False],\n",
      "       [2.4879999160799997, False],\n",
      "       [1.7716034650799999, False],\n",
      "       [2.47640967369, False],\n",
      "       [2.70817518234, False],\n",
      "       [2.6543211937, False],\n",
      "       [2.74841356277, False],\n",
      "       [2.80218863487, False],\n",
      "       [2.97579789162, False]], dtype=object))\n"
     ]
    }
   ],
   "source": [
    "#signal is more scarse => \n",
    "train_df = np.concatenate([df[df.signal == True].values[:, 6:8],\n",
    "                           df[df.signal == False].values[:50000, 6:8]])\n",
    "#values[,slices some of the features]\n",
    "\n",
    "print(\"length array signal+bkg: \", len(train_df))\n",
    "print(\"train_df: \", train_df[90790:90800])"
   ]
  },
  {
   "cell_type": "code",
   "execution_count": 77,
   "metadata": {
    "scrolled": true
   },
   "outputs": [
    {
     "name": "stdout",
     "output_type": "stream",
     "text": [
      "100\n"
     ]
    },
    {
     "data": {
      "text/plain": [
       "\"\\nfor i in range(0,1):\\n    print origin_Z[i]\\n    selBT = df[(df.Z>=origin_Z[i])]\\n    #Z distance between origin and BT\\n    DZ = selBT['Z']-origin_Z[i]\\n    #Projection of the electron at the Z of the BT \\n    e_X = origin_X[i]+origin_TX[i]*DZ\\n    e_Y = origin_Y[i]+origin_TY[i]*DZ\\n    e_Z = origin_Z[i]+DZ\\n    #Distance between origin and projected position of the electron at the Z of the BT\\n    dist = np.sqrt((e_X-origin_X[i])**2+(e_Y-origin_Y[i)**2+(e_Z-origin_Z[i)**2)\\n    #Max radius of the cone with 50 mrad apertur in which I search BT\\n    R = dist*np.tan(0.1)\\n    #Distance at BT_Z between BT and projected electron\\n    d = np.sqrt((selBT['X']-e_X)**2+(selBT['Y']-e_Y)**2)\\n    #print(R)\\n    #Slope difference between electron track and BT\\n    DSX = selBT['TX'].where(d<R)-origin_TX[i]\\n    DSY = selBT['TY'].where(d<R)-origin_TY[i]\\n    #projection of BT at Z of vertex\\n    projBT_X = selBT['X'].where(d<=R)- DZ*selBT['TX'].where(d<=R)\\n    projBT_Y = selBT['Y'].where(d<=R)- DZ*selBT['TY'].where(d<=R)\\n    #IP estimation\\n    IP = np.sqrt((projBT_X-origin_X[i])**2+(projBT_Y-origin_Y[i])**2)\\n    \\n\\nbins = np.linspace(0, 100000, 100)\\nplt.hist(DZ, bins, normed=True)\\nplt.show()\\n\""
      ]
     },
     "execution_count": 77,
     "metadata": {},
     "output_type": "execute_result"
    }
   ],
   "source": [
    "\n",
    "for i in range(0,1):\n",
    "    print origin_Z[i]\n",
    "    selBT = df[(df.Z>=origin_Z[i])]\n",
    "    #Z distance between origin and BT\n",
    "    DZ = selBT['Z']-origin_Z[i]\n",
    "    #Projection of the electron at the Z of the BT \n",
    "    e_X = origin_X[i]+origin_TX[i]*DZ\n",
    "    e_Y = origin_Y[i]+origin_TY[i]*DZ\n",
    "    e_Z = origin_Z[i]+DZ\n",
    "    #Distance between origin and projected position of the electron at the Z of the BT\n",
    "    dist = np.sqrt((e_X-origin_X[i])**2+(e_Y-origin_Y[i)**2+(e_Z-origin_Z[i)**2)\n",
    "    #Max radius of the cone with 50 mrad apertur in which I search BT\n",
    "    R = dist*np.tan(0.1)\n",
    "    #Distance at BT_Z between BT and projected electron\n",
    "    d = np.sqrt((selBT['X']-e_X)**2+(selBT['Y']-e_Y)**2)\n",
    "    #print(R)\n",
    "    #Slope difference between electron track and BT\n",
    "    DSX = selBT['TX'].where(d<R)-origin_TX[i]\n",
    "    DSY = selBT['TY'].where(d<R)-origin_TY[i]\n",
    "    #projection of BT at Z of vertex\n",
    "    projBT_X = selBT['X'].where(d<=R)- DZ*selBT['TX'].where(d<=R)\n",
    "    projBT_Y = selBT['Y'].where(d<=R)- DZ*selBT['TY'].where(d<=R)\n",
    "    #IP estimation\n",
    "    IP = np.sqrt((projBT_X-origin_X[i])**2+(projBT_Y-origin_Y[i])**2)\n",
    "    \n",
    "\n",
    "bins = np.linspace(0, 100000, 100)\n",
    "plt.hist(DZ, bins, normed=True)\n",
    "plt.show()\n"
   ]
  },
  {
   "cell_type": "code",
   "execution_count": 96,
   "metadata": {},
   "outputs": [],
   "source": [
    "def distance3D(x1,y1,z1,x2,y2,z2):\n",
    "    return np.sqrt((x1-x2)**2+(y1-y2)**2+(z1-z2)**2)\n",
    "def distance2D(x1,y1,x2,y2):\n",
    "    return np.sqrt((x1-x2)**2+(y1-y2)**2)\n",
    "def projection(x,theta,dz):\n",
    "    return x+theta*dz\n",
    "def IP(p_xBT,p_yBT,x0,y0):\n",
    "    return distance2D(p_xBT,p_yBT,x0,y0)"
   ]
  },
  {
   "cell_type": "code",
   "execution_count": 119,
   "metadata": {},
   "outputs": [
    {
     "data": {
      "image/png": "[encoded data removed]",
      "text/plain": [
       "<matplotlib.figure.Figure at 0x110a812d0>"
      ]
     },
     "metadata": {},
     "output_type": "display_data"
    }
   ],
   "source": [
    "Tdf = np.concatenate([df[df.signal == True].values[:, 0:8],\n",
    "                           df[df.signal == False].values[:50000, 0:8]])\n",
    "\n",
    "\n",
    "\n",
    "#Try to compute IP of each track from e vertex \n",
    "#IP = distance between the vertex position and the projection of each BT on the vertex plane\n",
    "#DZ = distance between considered BT and vtx along Z axis\n",
    "\n",
    "#Selection of tracks downstream wth respect to the electron origin\n",
    "origin_X = np.array(edata['X'])\n",
    "origin_Y = np.array(edata['Y'])\n",
    "origin_Z = np.array(edata['Z'])\n",
    "origin_TX = np.array(edata['TX'])\n",
    "origin_TY = np.array(edata['TY'])\n",
    "event_id = np.array(edata['event_id'])\n",
    "\n",
    "DZ = np.array([])\n",
    "D_TX = np.array([])\n",
    "D_TY = np.array([])\n",
    "\n",
    "\n",
    "for i in range(0,100):\n",
    "    selBT = Tdf[Tdf[:,3]>=origin_Z[i]]\n",
    "    np.append(DZ, selBT[:,3]-origin_Z[i])\n",
    "    np.append(D_TX,selBT[:,4]-origin_TX[i])\n",
    "    np.append(D_TY, selBT[:,5]-origin_TY[i])\n",
    "    \n",
    "\n",
    "\n",
    "bins = np.linspace(0, 100000, 100)\n",
    "plt.hist(DZ, bins)\n",
    "plt.show()"
   ]
  },
  {
   "cell_type": "code",
   "execution_count": 74,
   "metadata": {},
   "outputs": [
    {
     "name": "stdout",
     "output_type": "stream",
     "text": [
      "[[2.1495933532700002]\n",
      " [2.5629394054400003]\n",
      " [2.4879999160799997]\n",
      " [1.7716034650799999]\n",
      " [2.47640967369]\n",
      " [2.70817518234]\n",
      " [2.6543211937]\n",
      " [2.74841356277]\n",
      " [2.80218863487]\n",
      " [2.97579789162]]\n",
      "[0 0 0 0 0 0 0 0 0 0]\n"
     ]
    }
   ],
   "source": [
    "#\n",
    "X_train = train_df[:, 0].reshape(-1, 1)\n",
    "print (X_train[90790:90800])\n",
    "y_train =  np.array(train_df[:, 1], dtype = int)\n",
    "print (y_train[90790:90800])"
   ]
  },
  {
   "cell_type": "code",
   "execution_count": 34,
   "metadata": {},
   "outputs": [
    {
     "name": "stdout",
     "output_type": "stream",
     "text": [
      "[[0.748506426811 True]\n",
      " [2.15856051445 True]\n",
      " [0.8826647400859999 True]\n",
      " ..., \n",
      " [0.477863699198 False]\n",
      " [1.9450963735599998 False]\n",
      " [2.65704417229 False]]\n"
     ]
    }
   ],
   "source": [
    "train_df = np.concatenate([selBT[selBT.signal == True].values[:, 6:8],\n",
    "                           selBT[selBT.signal == False].values[:50000, 6:8]])\n",
    "print(train_df)"
   ]
  },
  {
   "cell_type": "markdown",
   "metadata": {},
   "source": [
    "### Train a model"
   ]
  },
  {
   "cell_type": "code",
   "execution_count": 10,
   "metadata": {},
   "outputs": [
    {
     "data": {
      "text/plain": [
       "DecisionTreeClassifier(class_weight=None, criterion='gini', max_depth=1,\n",
       "            max_features=None, max_leaf_nodes=None,\n",
       "            min_impurity_split=1e-07, min_samples_leaf=1,\n",
       "            min_samples_split=2, min_weight_fraction_leaf=0.0,\n",
       "            presort=False, random_state=None, splitter='best')"
      ]
     },
     "execution_count": 10,
     "metadata": {},
     "output_type": "execute_result"
    }
   ],
   "source": [
    "from sklearn.tree import DecisionTreeClassifier\n",
    "\n",
    "clf = DecisionTreeClassifier(max_depth = 1)\n",
    "\n",
    "clf.fit(X_train,y_train)\n",
    "\n",
    "#to define best classifier, look at accuracy or ROC curve\n"
   ]
  },
  {
   "cell_type": "markdown",
   "metadata": {},
   "source": [
    "### Prediction"
   ]
  },
  {
   "cell_type": "code",
   "execution_count": 11,
   "metadata": {},
   "outputs": [
    {
     "name": "stderr",
     "output_type": "stream",
     "text": [
      "/opt/conda/lib/python3.6/site-packages/numpy/lib/arraysetops.py:395: FutureWarning: elementwise comparison failed; returning scalar instead, but in the future will perform elementwise comparison\n",
      "  mask |= (ar1 == a)\n"
     ]
    },
    {
     "data": {
      "text/html": [
       "<div>\n",
       "<style>\n",
       "    .dataframe thead tr:only-child th {\n",
       "        text-align: right;\n",
       "    }\n",
       "\n",
       "    .dataframe thead th {\n",
       "        text-align: left;\n",
       "    }\n",
       "\n",
       "    .dataframe tbody tr th {\n",
       "        vertical-align: top;\n",
       "    }\n",
       "</style>\n",
       "<table border=\"1\" class=\"dataframe\">\n",
       "  <thead>\n",
       "    <tr style=\"text-align: right;\">\n",
       "      <th></th>\n",
       "      <th>X</th>\n",
       "      <th>Y</th>\n",
       "      <th>Z</th>\n",
       "      <th>TX</th>\n",
       "      <th>TY</th>\n",
       "      <th>chi2</th>\n",
       "    </tr>\n",
       "    <tr>\n",
       "      <th>index</th>\n",
       "      <th></th>\n",
       "      <th></th>\n",
       "      <th></th>\n",
       "      <th></th>\n",
       "      <th></th>\n",
       "      <th></th>\n",
       "    </tr>\n",
       "  </thead>\n",
       "  <tbody>\n",
       "    <tr>\n",
       "      <th>0</th>\n",
       "      <td>37259.390625</td>\n",
       "      <td>62516.367188</td>\n",
       "      <td>63357.0</td>\n",
       "      <td>-0.475465</td>\n",
       "      <td>-0.250186</td>\n",
       "      <td>1.405402</td>\n",
       "    </tr>\n",
       "    <tr>\n",
       "      <th>1</th>\n",
       "      <td>41426.312500</td>\n",
       "      <td>57520.265625</td>\n",
       "      <td>25860.0</td>\n",
       "      <td>-0.213876</td>\n",
       "      <td>0.155208</td>\n",
       "      <td>2.541856</td>\n",
       "    </tr>\n",
       "    <tr>\n",
       "      <th>2</th>\n",
       "      <td>40752.921875</td>\n",
       "      <td>54653.265625</td>\n",
       "      <td>46548.0</td>\n",
       "      <td>0.044215</td>\n",
       "      <td>-0.333426</td>\n",
       "      <td>2.389629</td>\n",
       "    </tr>\n",
       "    <tr>\n",
       "      <th>3</th>\n",
       "      <td>29293.980469</td>\n",
       "      <td>23582.425781</td>\n",
       "      <td>14223.0</td>\n",
       "      <td>-0.265671</td>\n",
       "      <td>-0.137444</td>\n",
       "      <td>2.402328</td>\n",
       "    </tr>\n",
       "    <tr>\n",
       "      <th>4</th>\n",
       "      <td>49538.128906</td>\n",
       "      <td>63314.617188</td>\n",
       "      <td>31032.0</td>\n",
       "      <td>-0.063467</td>\n",
       "      <td>-0.550298</td>\n",
       "      <td>1.223460</td>\n",
       "    </tr>\n",
       "  </tbody>\n",
       "</table>\n",
       "</div>"
      ],
      "text/plain": [
       "                  X             Y        Z        TX        TY      chi2\n",
       "index                                                                   \n",
       "0      37259.390625  62516.367188  63357.0 -0.475465 -0.250186  1.405402\n",
       "1      41426.312500  57520.265625  25860.0 -0.213876  0.155208  2.541856\n",
       "2      40752.921875  54653.265625  46548.0  0.044215 -0.333426  2.389629\n",
       "3      29293.980469  23582.425781  14223.0 -0.265671 -0.137444  2.402328\n",
       "4      49538.128906  63314.617188  31032.0 -0.063467 -0.550298  1.223460"
      ]
     },
     "execution_count": 11,
     "metadata": {},
     "output_type": "execute_result"
    }
   ],
   "source": [
    "df_test = pd.read_csv('/data_mlhep2017/episode1/DS_1_test.csv', index_col=0)\n",
    "df_test.head()"
   ]
  },
  {
   "cell_type": "code",
   "execution_count": 12,
   "metadata": {
    "collapsed": true
   },
   "outputs": [],
   "source": [
    "prediction = clf.predict_proba(df_test.values[:, 5].reshape(-1, 1))[:, 1]"
   ]
  },
  {
   "cell_type": "markdown",
   "metadata": {},
   "source": [
    "### Save results"
   ]
  },
  {
   "cell_type": "code",
   "execution_count": 14,
   "metadata": {
    "collapsed": true
   },
   "outputs": [],
   "source": [
    "baseline = pd.DataFrame(prediction, columns=['Prediction'])\n",
    "baseline.index.name = 'Id'\n",
    "baseline.to_csv('Mybaseline.csv', header=True)"
   ]
  },
  {
   "cell_type": "markdown",
   "metadata": {},
   "source": [
    "You can now download the baseline.csv in jupyter file browser and send it to Kaggle."
   ]
  }
 ],
 "metadata": {
  "anaconda-cloud": {},
  "kernelspec": {
   "display_name": "Python 2",
   "language": "python",
   "name": "python2"
  },
  "language_info": {
   "codemirror_mode": {
    "name": "ipython",
    "version": 2
   },
   "file_extension": ".py",
   "mimetype": "text/x-python",
   "name": "python",
   "nbconvert_exporter": "python",
   "pygments_lexer": "ipython2",
   "version": "2.7.13"
  }
 },
 "nbformat": 4,
 "nbformat_minor": 1
}
